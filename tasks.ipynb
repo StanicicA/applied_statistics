{
 "cells": [
  {
   "cell_type": "markdown",
   "metadata": {},
   "source": []
  },
  {
   "cell_type": "markdown",
   "metadata": {},
   "source": [
    "### Task 1: Permutations and Combinations\n",
    "Suppose we alter the Lady Tasting Tea experiment to involve twelve cups of tea. Six have the milk in first and the other six having tea in first. A person claims they have the special power of being able to tell whether the tea or the milk went into a cup first upon tasting it. You agree to accept their claim if they can tell which of the six cups in your experiment had the milk in first.\n",
    "\n",
    "Calculate, using Python, the probability that they select the correct six cups. Here you should assume that they have no special powers in figuring it out, that they are just guessing. Remember to show and justify your workings in code and MarkDown cells.\n",
    "\n",
    "Suppose, now, you are willing to accept one error. Once they select the six cups they think had the milk in first, you will give them the benefit of the doubt should they have selected at least five of the correct cups. Calculate the probability, assuming they have no special powers, that the person makes at most one error.\n",
    "\n",
    "\n",
    "Would you accept two errors? Explain."
   ]
  },
  {
   "cell_type": "markdown",
   "metadata": {},
   "source": [
    "\n",
    "If we have 12 cups of tea with milk and we are testing the person who claims they can identify which cups have milk in first, to calculate the probability that they can correctly identify the six cups with milk first, we need to calculate two probabilities: Probability of selecting the correct six cups and the probability of selecting the correct six cups with one error."
   ]
  },
  {
   "cell_type": "markdown",
   "metadata": {},
   "source": [
    "Calculating the probability of selecting all six milk-first cups correctly if \n",
    "n=12 (total number of cups),\n",
    "k=6 (number of cups to be selected).\n",
    "The number of correct outcomes is just 1, as there is only one correct way to choose the 6 milk-first cups"
   ]
  },
  {
   "cell_type": "code",
   "execution_count": 10,
   "metadata": {},
   "outputs": [],
   "source": [
    "import math\n",
    "\n",
    "# Function to compute the combination C(n, k)\n",
    "def combination(n, k):\n",
    "    return math.comb(n, k)\n",
    "\n",
    "# Total cups\n",
    "n = 12\n",
    "k = 6\n",
    "correct_ways = 1  \n",
    "# Calculate the total number of ways to choose 6 cups out of 12\n",
    "total_ways = combination(n, k)\n",
    "\n",
    "# Probability of selecting all 6 cups correctly\n",
    "\n",
    "P_correct = correct_ways / total_ways"
   ]
  },
  {
   "cell_type": "markdown",
   "metadata": {},
   "source": [
    "To calculate the probability of selecting at most one error (cases where 5 cups are correctly identified)\n",
    "We need to calculate the probability that the person makes at most one error. That means that the person will correctly choose 5 milk first cups and one cup with the tea first. This means they have selected 5 out of the 6 correct cups and 1 out of the 6 incorrect cups, therefore the total probability of selecting at most one error is the sum of the probabilities for both cases.\n"
   ]
  },
  {
   "cell_type": "code",
   "execution_count": 11,
   "metadata": {},
   "outputs": [
    {
     "data": {
      "text/plain": [
       "(0.0010822510822510823, 0.03896103896103896, 0.04004329004329004)"
      ]
     },
     "execution_count": 11,
     "metadata": {},
     "output_type": "execute_result"
    }
   ],
   "source": [
    "ways_5_correct_1_error = combination(6, 5) * combination(6, 1)\n",
    "P_5_correct_1_error = ways_5_correct_1_error / total_ways\n",
    "\n",
    "# Total probability of making at most 1 error (either 5 correct or 6 correct)\n",
    "P_at_most_1_error = P_correct + P_5_correct_1_error\n",
    "\n",
    "# Show results\n",
    "P_correct, P_5_correct_1_error, P_at_most_1_error\n",
    "\n",
    "# where P_correct is the Probability of no errors\n",
    "# P_5_correct_1_error is the Probability of 5 correct cups and 1 error\n",
    "# P_at_most_1_error is the total probability of at most 1 error"
   ]
  },
  {
   "cell_type": "markdown",
   "metadata": {},
   "source": [
    "## Would I accept two errors\n",
    "\n",
    "I don't think we should accept persons two errors in this case, because that would mean the person has chosen less correct cups (4 out of 12) and had made mistake more times than choosing the right ones.\n"
   ]
  }
 ],
 "metadata": {
  "kernelspec": {
   "display_name": "Python 3",
   "language": "python",
   "name": "python3"
  },
  "language_info": {
   "codemirror_mode": {
    "name": "ipython",
    "version": 3
   },
   "file_extension": ".py",
   "mimetype": "text/x-python",
   "name": "python",
   "nbconvert_exporter": "python",
   "pygments_lexer": "ipython3",
   "version": "3.12.3"
  }
 },
 "nbformat": 4,
 "nbformat_minor": 2
}
