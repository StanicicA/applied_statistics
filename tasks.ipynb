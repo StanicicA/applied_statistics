{
 "cells": [
  {
   "cell_type": "markdown",
   "metadata": {},
   "source": []
  },
  {
   "cell_type": "markdown",
   "metadata": {},
   "source": [
    "### Task 1: Permutations and Combinations\n",
    "Suppose we alter the Lady Tasting Tea experiment to involve twelve cups of tea. Six have the milk in first and the other six having tea in first. A person claims they have the special power of being able to tell whether the tea or the milk went into a cup first upon tasting it. You agree to accept their claim if they can tell which of the six cups in your experiment had the milk in first.\n",
    "\n",
    "Calculate, using Python, the probability that they select the correct six cups. Here you should assume that they have no special powers in figuring it out, that they are just guessing. Remember to show and justify your workings in code and MarkDown cells.\n",
    "\n",
    "Suppose, now, you are willing to accept one error. Once they select the six cups they think had the milk in first, you will give them the benefit of the doubt should they have selected at least five of the correct cups. Calculate the probability, assuming they have no special powers, that the person makes at most one error.\n",
    "\n",
    "\n",
    "Would you accept two errors? Explain."
   ]
  },
  {
   "cell_type": "markdown",
   "metadata": {},
   "source": [
    "\n",
    "If we have 12 cups of tea with milk and we are testing the person who claims they can identify which cups have milk in first, to calculate the probability that they can correctly identify the six cups with milk first, we need to calculate two probabilities: Probability of selecting the correct six cups and the probability of selecting the correct six cups with one error."
   ]
  },
  {
   "cell_type": "markdown",
   "metadata": {},
   "source": [
    "Calculating the probability of selecting all six milk-first cups correctly if \n",
    "n=12 (total number of cups),\n",
    "k=6 (number of cups to be selected).\n",
    "The number of correct outcomes is just 1, as there is only one correct way to choose the 6 milk-first cups"
   ]
  },
  {
   "cell_type": "code",
   "execution_count": 1,
   "metadata": {},
   "outputs": [
    {
     "data": {
      "text/plain": [
       "924"
      ]
     },
     "execution_count": 1,
     "metadata": {},
     "output_type": "execute_result"
    }
   ],
   "source": [
    "import math\n",
    "\n",
    "# Function to compute the combination C(n, k)\n",
    "def combination(n, k):\n",
    "    return math.comb(n, k)\n",
    "# Total cups\n",
    "n = 12\n",
    "k = 6\n",
    "correct_ways = 1  \n",
    "# Calculate the total number of ways to choose 6 cups out of 12\n",
    "total_ways = combination(n, k)\n",
    "\n",
    "total_ways\n"
   ]
  },
  {
   "cell_type": "code",
   "execution_count": 2,
   "metadata": {},
   "outputs": [
    {
     "data": {
      "text/plain": [
       "0.0010822510822510823"
      ]
     },
     "execution_count": 2,
     "metadata": {},
     "output_type": "execute_result"
    }
   ],
   "source": [
    "# Probability of selecting all 6 cups correctly\n",
    "\n",
    "P_correct = correct_ways / total_ways\n",
    "\n",
    "# show result\n",
    "P_correct"
   ]
  },
  {
   "cell_type": "markdown",
   "metadata": {},
   "source": [
    "To calculate the probability of selecting at most one error (cases where 5 cups are correctly identified)\n",
    "We need to calculate the probability that the person makes at most one error. That means that the person will correctly choose 5 milk first cups and one cup with the tea first. This means they have selected 5 out of the 6 correct cups and 1 out of the 6 incorrect cups, therefore the total probability of selecting at most one error is the sum of the probabilities for both cases.\n"
   ]
  },
  {
   "cell_type": "code",
   "execution_count": 3,
   "metadata": {},
   "outputs": [
    {
     "data": {
      "text/plain": [
       "(0.0010822510822510823, 0.03896103896103896, 0.04004329004329004)"
      ]
     },
     "execution_count": 3,
     "metadata": {},
     "output_type": "execute_result"
    }
   ],
   "source": [
    "ways_5_correct_1_error = combination(6, 5) * combination(6, 1)\n",
    "P_5_correct_1_error = ways_5_correct_1_error / total_ways\n",
    "\n",
    "# Total probability of making at most 1 error (either 5 correct or 6 correct)\n",
    "P_at_most_1_error = P_correct + P_5_correct_1_error\n",
    "\n",
    "# Show results\n",
    "P_correct, P_5_correct_1_error, P_at_most_1_error\n",
    "\n",
    "# where P_correct is the Probability of no errors\n",
    "# P_5_correct_1_error is the Probability of 5 correct cups and 1 error\n",
    "# P_at_most_1_error is the total probability of at most 1 error"
   ]
  },
  {
   "cell_type": "markdown",
   "metadata": {},
   "source": [
    "## Would I accept two errors\n",
    "\n",
    "I don't think we should accept persons two errors in this case, because that would mean the person has chosen less correct cups (4 out of 12) and had made mistake more times than choosing the right ones.\n"
   ]
  },
  {
   "cell_type": "markdown",
   "metadata": {},
   "source": [
    "## Task 2: numpy's Normal Distribution\n",
    "In this task you will assess whether numpy.random.normal() properly generates normal values. To begin, generate a sample of one hundred thousand values using the function with mean 10.0 and standard deviation 3.0.\n",
    "\n",
    "Use the scipy.stats.shapiro() function to test whether your sample came from a normal distribution. Explain the results and output.\n",
    "\n",
    "Plot a histogram of your values and plot the corresponding normal distribution probability density function on top of it."
   ]
  },
  {
   "cell_type": "code",
   "execution_count": 4,
   "metadata": {},
   "outputs": [],
   "source": [
    "# adding requirements\n",
    "\n",
    "import numpy as np\n",
    "import matplotlib.pyplot as plt\n",
    "from scipy.stats import shapiro, norm\n",
    "import scipy.stats as stats\n"
   ]
  },
  {
   "cell_type": "code",
   "execution_count": 5,
   "metadata": {},
   "outputs": [],
   "source": [
    "# Parameters for the normal distribution - Generating sample of 100,000 values with mean=10.0 and standard deviation=3.0\n",
    " \n",
    "mean = 10.0\n",
    "std_dev = 3.0\n",
    "sample_size = 100000\n",
    "\n"
   ]
  },
  {
   "cell_type": "code",
   "execution_count": 6,
   "metadata": {},
   "outputs": [
    {
     "data": {
      "text/plain": [
       "array([ 8.33479156, 11.35645738,  6.33936936, ...,  7.00228685,\n",
       "        8.83660669,  7.85337409])"
      ]
     },
     "execution_count": 6,
     "metadata": {},
     "output_type": "execute_result"
    }
   ],
   "source": [
    "# Generate a sample\n",
    "sample = np.random.normal(mean, std_dev, sample_size)\n",
    "\n",
    "#Show result\n",
    "\n",
    "sample"
   ]
  },
  {
   "cell_type": "code",
   "execution_count": 7,
   "metadata": {},
   "outputs": [
    {
     "name": "stderr",
     "output_type": "stream",
     "text": [
      "c:\\Users\\andre\\OneDrive - Atlantic TU\\Desktop\\Lib\\site-packages\\scipy\\stats\\_axis_nan_policy.py:573: UserWarning: scipy.stats.shapiro: For N > 5000, computed p-value may not be accurate. Current N is 100000.\n",
      "  res = hypotest_fun_out(*samples, **kwds)\n"
     ]
    }
   ],
   "source": [
    "# Perform the Shapiro-Wilk test for normality\n",
    "shapiro_stat, p_value = shapiro(sample)\n",
    "\n"
   ]
  },
  {
   "cell_type": "markdown",
   "metadata": {},
   "source": [
    "The warning issued indicates that the test may not be accurate for large samples (over 5000 values). Given the sample size of 100,000, the test's conclusion might not be reliable."
   ]
  },
  {
   "cell_type": "code",
   "execution_count": 8,
   "metadata": {},
   "outputs": [
    {
     "data": {
      "text/plain": [
       "'Sample is probably coming from a normal distribution.'"
      ]
     },
     "execution_count": 8,
     "metadata": {},
     "output_type": "execute_result"
    }
   ],
   "source": [
    "# Shapiro-Wilk test result interpretation\n",
    "normality_result = \"Sample is probably coming from a normal distribution.\" if p_value > 0.05 else \"Sample probably does not come from a normal distribution.\"\n",
    "\n",
    "#Show result\n",
    "normality_result"
   ]
  },
  {
   "cell_type": "code",
   "execution_count": 9,
   "metadata": {},
   "outputs": [
    {
     "data": {
      "image/png": "[encoded data removed]",
      "text/plain": [
       "<Figure size 1000x600 with 1 Axes>"
      ]
     },
     "metadata": {},
     "output_type": "display_data"
    }
   ],
   "source": [
    "# Plot histogram and the theoretical normal distribution\n",
    "x = np.linspace(mean - 4*std_dev, mean + 4*std_dev, 1000)\n",
    "pdf = norm.pdf(x, mean, std_dev)\n",
    "\n",
    "plt.figure(figsize=(10, 6))\n",
    "plt.hist(sample, bins=40, density=True, alpha=0.9, color='orange', label=\"Sample_Histogram\")\n",
    "plt.plot(x, pdf, color='green', lw=2, label=\"Normal Distribution PDF\")\n",
    "plt.title(\"Histogram of Sample and Normal Distribution PDF\")\n",
    "plt.xlabel(\"Value\")\n",
    "plt.ylabel(\"Density\")\n",
    "plt.legend()\n",
    "plt.show()\n"
   ]
  },
  {
   "cell_type": "markdown",
   "metadata": {},
   "source": [
    "The histogram and the green line is showing that the data is following a normal distribution, which aligns with how the data was generated.\n"
   ]
  },
  {
   "cell_type": "code",
   "execution_count": 10,
   "metadata": {},
   "outputs": [
    {
     "data": {
      "text/plain": [
       "(np.float64(0.9999757349464574),\n",
       " np.float64(0.7992874042272395),\n",
       " 'Sample is probably coming from a normal distribution.')"
      ]
     },
     "execution_count": 10,
     "metadata": {},
     "output_type": "execute_result"
    }
   ],
   "source": [
    "shapiro_stat, p_value, normality_result\n"
   ]
  },
  {
   "cell_type": "markdown",
   "metadata": {},
   "source": [
    "## Results of Shapiro-Wilk Test\n",
    "Shapiro-Wilk statistic: 0.9999\n",
    "p-value: 0.0453\n",
    "Due to the result of the p-value, being less than 0.05, the sample is probably not coming from a normal distribution.\n",
    "But because the warning issued indicates that the test may not be accurate for large samples (over 5000 values),the test's conclusion might not be reliable.\n",
    "\n",
    "\n"
   ]
  },
  {
   "cell_type": "markdown",
   "metadata": {},
   "source": [
    "## Task 3: t-Test Calculation\n",
    "Consider the following dataset containing resting heart rates for patients before and after embarking on a two-week exercise program.\n",
    "\n",
    "Patient ID\t0\t1\t2\t3\t4\t5\t6\t7\t8\t9\n",
    "Before\t63\t68\t70\t64\t74\t67\t70\t57\t66\t65\n",
    "After\t64\t64\t68\t64\t73\t70\t72\t54\t61\t63\n",
    "Calculate the t-statistic based on this data set, using Python. Compare it to the value given by scipy.stats. Explain your work and list any sources used."
   ]
  },
  {
   "cell_type": "code",
   "execution_count": 11,
   "metadata": {},
   "outputs": [],
   "source": [
    "# Re-importing necessary libraries and re-defining data after state reset\n",
    "import numpy as np\n",
    "from scipy.stats import ttest_rel\n"
   ]
  },
  {
   "cell_type": "code",
   "execution_count": 12,
   "metadata": {},
   "outputs": [],
   "source": [
    "# Data\n",
    "before = np.array([63, 68, 70, 64, 74, 67, 70, 57, 66, 65])\n",
    "after = np.array([64, 64, 68, 64, 73, 70, 72, 54, 61, 63])\n"
   ]
  },
  {
   "cell_type": "code",
   "execution_count": 13,
   "metadata": {},
   "outputs": [
    {
     "data": {
      "text/plain": [
       "np.float64(1.3372274824806283)"
      ]
     },
     "execution_count": 13,
     "metadata": {},
     "output_type": "execute_result"
    }
   ],
   "source": [
    "# Manual calculation of t-statistic\n",
    "n = len(before)\n",
    "differences = before - after\n",
    "mean_diff = np.mean(differences)\n",
    "std_diff = np.std(differences, ddof=1)  # Use ddof=1 for sample standard deviation\n",
    "t_stat_manual = mean_diff / (std_diff / np.sqrt(n))\n",
    "\n",
    "#Show result\n",
    "\n",
    "t_stat_manual\n"
   ]
  },
  {
   "cell_type": "code",
   "execution_count": 14,
   "metadata": {},
   "outputs": [
    {
     "data": {
      "text/plain": [
       "(np.float64(1.3372274824806283),\n",
       " np.float64(1.337227482480628),\n",
       " np.float64(0.21396011317404623))"
      ]
     },
     "execution_count": 14,
     "metadata": {},
     "output_type": "execute_result"
    }
   ],
   "source": [
    "# Using scipy's ttest_rel\n",
    "t_stat_scipy, p_value_scipy = ttest_rel(before, after)\n",
    "\n",
    "t_stat_manual, t_stat_scipy, p_value_scipy"
   ]
  },
  {
   "cell_type": "markdown",
   "metadata": {},
   "source": [
    "The manually calculated t-statistic matches the value computed by scipy.stats.ttest_rel, confirming the correctness of the manual approach.\n"
   ]
  },
  {
   "cell_type": "markdown",
   "metadata": {},
   "source": [
    "## Task 4: ANOVA\n",
    "In this test we will estimate the probability of committing a type II error in specific circumstances. To begin, create a variable called no_type_ii and set it to 0.\n",
    "\n",
    "Now use a loop to perform the following test 10,000 times.\n",
    "\n",
    "Use numpy.random.normal to generate three samples with 100 values each. Give each a standard deviation of 0.1. Give the first sample a mean of 4.9, the second a mean of 5.0, and the third a mean of 5.1.\n",
    "\n",
    "Perform one-way anova on the three samples and add 1 to no_type_ii whenever a type II error occurs.\n",
    "\n",
    "Summarize and explain your results."
   ]
  },
  {
   "cell_type": "code",
   "execution_count": 15,
   "metadata": {},
   "outputs": [
    {
     "data": {
      "text/plain": [
       "(0, 0.0)"
      ]
     },
     "execution_count": 15,
     "metadata": {},
     "output_type": "execute_result"
    }
   ],
   "source": [
    "import numpy as np\n",
    "from scipy.stats import f_oneway\n",
    "\n",
    "# Initialize the counter for type II errors\n",
    "no_type_ii = 0\n",
    "\n",
    "# Number of simulations\n",
    "n_simulations = 10000\n",
    "\n",
    "# Loop to perform the test 10,000 times\n",
    "for _ in range(n_simulations):\n",
    "    # Generate three samples\n",
    "    sample1 = np.random.normal(loc=4.9, scale=0.1, size=100)\n",
    "    sample2 = np.random.normal(loc=5.0, scale=0.1, size=100)\n",
    "    sample3 = np.random.normal(loc=5.1, scale=0.1, size=100)\n",
    "    \n",
    "    # Perform one-way ANOVA\n",
    "    f_stat, p_value = f_oneway(sample1, sample2, sample3)\n",
    "    # Increment no_type_ii if a Type II error occurs (failing to reject the null when it's false)\n",
    "    if p_value > 0.05:  # Null hypothesis is not rejected\n",
    "        no_type_ii += 1\n",
    "\n",
    "    # Calculating the probability of committing a type II error\n",
    "type_ii_error_rate = no_type_ii / n_simulations\n",
    "no_type_ii, type_ii_error_rate\n",
    "\n",
    "    "
   ]
  },
  {
   "cell_type": "markdown",
   "metadata": {},
   "source": [
    "The simulation reveals that the number of type II errors (no_type_ii) is 0 due to type II error occuring only when the null hypothesis is not rejected despite being false. The estimated probability of committing a type II error under these specific conditions is 0.0 because of the three sample groups differ significantly relative to their standard deviation (0.1), resulting in clear separations among the groups.\n",
    "\n"
   ]
  }
 ],
 "metadata": {
  "kernelspec": {
   "display_name": "Python 3",
   "language": "python",
   "name": "python3"
  },
  "language_info": {
   "codemirror_mode": {
    "name": "ipython",
    "version": 3
   },
   "file_extension": ".py",
   "mimetype": "text/x-python",
   "name": "python",
   "nbconvert_exporter": "python",
   "pygments_lexer": "ipython3",
   "version": "3.12.3"
  }
 },
 "nbformat": 4,
 "nbformat_minor": 2
}
