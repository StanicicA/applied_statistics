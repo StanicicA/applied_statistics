{
 "cells": [
  {
   "cell_type": "markdown",
   "metadata": {},
   "source": [
    "## __The Plant Growth R dataset__\n",
    ">> contains results from an experiment to compare yields (as measured by dried weight of plants) obtained under a control and two different treatment conditions. It is a data frame of 30 cases on 2 variables.\n",
    "\n",
    "The dataset contains the following three columns of 30 cases on 2 variables:\n",
    "\n",
    "1. *weight*: The weight of the plants;\n",
    "\n",
    "2. *group*: The treatment group, which includes three levels: ctrl, trt1, and trt2.\n",
    "\n",
    "3. Third column_rownames: The row identifiers\n"
   ]
  },
  {
   "cell_type": "code",
   "execution_count": 4,
   "metadata": {},
   "outputs": [
    {
     "data": {
      "text/html": [
       "<div>\n",
       "<style scoped>\n",
       "    .dataframe tbody tr th:only-of-type {\n",
       "        vertical-align: middle;\n",
       "    }\n",
       "\n",
       "    .dataframe tbody tr th {\n",
       "        vertical-align: top;\n",
       "    }\n",
       "\n",
       "    .dataframe thead th {\n",
       "        text-align: right;\n",
       "    }\n",
       "</style>\n",
       "<table border=\"1\" class=\"dataframe\">\n",
       "  <thead>\n",
       "    <tr style=\"text-align: right;\">\n",
       "      <th></th>\n",
       "      <th>rownames</th>\n",
       "      <th>weight</th>\n",
       "      <th>group</th>\n",
       "    </tr>\n",
       "  </thead>\n",
       "  <tbody>\n",
       "    <tr>\n",
       "      <th>0</th>\n",
       "      <td>1</td>\n",
       "      <td>4.17</td>\n",
       "      <td>ctrl</td>\n",
       "    </tr>\n",
       "    <tr>\n",
       "      <th>1</th>\n",
       "      <td>2</td>\n",
       "      <td>5.58</td>\n",
       "      <td>ctrl</td>\n",
       "    </tr>\n",
       "    <tr>\n",
       "      <th>2</th>\n",
       "      <td>3</td>\n",
       "      <td>5.18</td>\n",
       "      <td>ctrl</td>\n",
       "    </tr>\n",
       "    <tr>\n",
       "      <th>3</th>\n",
       "      <td>4</td>\n",
       "      <td>6.11</td>\n",
       "      <td>ctrl</td>\n",
       "    </tr>\n",
       "    <tr>\n",
       "      <th>4</th>\n",
       "      <td>5</td>\n",
       "      <td>4.50</td>\n",
       "      <td>ctrl</td>\n",
       "    </tr>\n",
       "  </tbody>\n",
       "</table>\n",
       "</div>"
      ],
      "text/plain": [
       "   rownames  weight group\n",
       "0         1    4.17  ctrl\n",
       "1         2    5.58  ctrl\n",
       "2         3    5.18  ctrl\n",
       "3         4    6.11  ctrl\n",
       "4         5    4.50  ctrl"
      ]
     },
     "execution_count": 4,
     "metadata": {},
     "output_type": "execute_result"
    }
   ],
   "source": [
    "import pandas as pd\n",
    "\n",
    "# Load the dataset to inspect its contents\n",
    "file_path = 'plantgrowth.csv'\n",
    "plant_growth_data = pd.read_csv(file_path)\n",
    "\n",
    "# Displaying the first few rows of the dataset\n",
    "plant_growth_data.head()\n"
   ]
  },
  {
   "cell_type": "markdown",
   "metadata": {},
   "source": [
    "**As per the above, this dataset consists of measurements of plant weights (in grams) categorized into three treatment groups: ‘ctrl’ (control), ‘trt1’ (treatment 1), and ‘trt2’ (treatment 2). Dataset can be used for analysing the effects of different treatments on plant growth. It contains two primary variables:**\n",
    "\n",
    "#### Weight: \n",
    "\n",
    "* A numeric variable representing the weight of plants.\n",
    "\n",
    " #### Group: \n",
    " \n",
    " * A categorical variable representing the treatment group."
   ]
  },
  {
   "cell_type": "markdown",
   "metadata": {},
   "source": [
    "Plant Growth R data set is being analysed using **T-test** wich is a statistical test used to compare the means of two groups to determine whether they are significantly different from each other. *It calculates the t-statistic, which measures the size of the difference relative to the variation in the sample data.*The t test is a parametric test of difference, meaning that it makes the same assumptions about your data as other parametric tests."
   ]
  },
  {
   "cell_type": "markdown",
   "metadata": {},
   "source": [
    "* A t-test compares the average values of two data sets and determines if they came from the same population.\n",
    "\n",
    "**Four assumptions are made while using a t-test:**\n",
    "\n",
    "1. The data collected must follow a continuous or ordinal scale.\n",
    "\n",
    "2. The data is collected from a randomly selected portion of the total population\n",
    "\n",
    "*Independence*: The observations in each group are independent of each other\n",
    "\n",
    "3. The data will result in a normal distribution of a bell-shaped curve.\n",
    "\n",
    "*Normality*: The data in each group is approximately normally distributed\n",
    "\n",
    "4. Equal or homogenous variance exists when the standard variations are equal.\n",
    "\n",
    "*Homogeneity of Variances*: The variances of the two groups are equal (for the two-sample t-test)."
   ]
  },
  {
   "cell_type": "markdown",
   "metadata": {},
   "source": [
    ">> Mathematically, the t-test takes a sample from each of the two sets and establishes the problem statement. It assumes a null hypothesis, which means that it assumes the two means are equal.\n",
    "\n",
    ">> Using the t-test formulas, values are calculated and compared against the standard values. This comparison helps to determine the effect of chance on the difference, and whether the difference is outside that chance range. The t-test questions whether the difference between the groups represents a true difference in the study or merely a random difference.\n",
    "\n",
    ">> Based on the results, the assumed null hypothesis is accepted or rejected. If the null hypothesis is rejected, it indicates that data readings are strong and are probably not due to chance.\n",
    "\n",
    "# If Null hypothesis are rejected: Differences are statistically significant\n",
    "# If Null hypothesis are accepted: Differences are not statistically significant"
   ]
  },
  {
   "cell_type": "markdown",
   "metadata": {},
   "source": [
    "####  Using the T-Test\n",
    "*Calculating a t-test requires three fundamental data values:*\n",
    "\n",
    "1. The difference between the mean values from each data set, also known as the mean difference\n",
    "2. The standard deviation of each group\n",
    "3. The number of data values of each group\n",
    "\n",
    ">> The t-test produces two values as its output: t-value and degrees of freedom. The t-value, or t-score, is a ratio of the difference between the mean of the two sample sets and the variation that exists within the sample sets.\n",
    "\n",
    ">> The numerator value is the difference between the mean of the two sample sets. The denominator is the variation that exists within the sample sets and is a measurement of the dispersion or variability.\n",
    "\n",
    ">> This calculated t-value is then compared against a value obtained from a critical value table called the T-distribution table. Higher values of the t-score indicate that a large difference exists between the two sample sets. The smaller the t-value, the more similarity exists between the two sample sets.\n",
    "\n",
    ">> A large t-score, or t-value, indicates that the groups are different while a small t-score indicates that the groups are similar.\n",
    "\n",
    ">> Degrees of freedom refer to the values in a study that has the freedom to vary and are essential for assessing the importance and the validity of the null hypothesis. Computation of these values usually depends upon the number of data records available in the sample set."
   ]
  },
  {
   "cell_type": "code",
   "execution_count": 5,
   "metadata": {},
   "outputs": [
    {
     "data": {
      "text/plain": [
       "TtestResult(statistic=np.float64(-3.0100985421243616), pvalue=np.float64(0.0075184261182198574), df=np.float64(18.0))"
      ]
     },
     "execution_count": 5,
     "metadata": {},
     "output_type": "execute_result"
    }
   ],
   "source": [
    "#Perform a t-test to determine whether there is a significant difference between the two treatment groups trt1 and trt2\n",
    "#importing required libraries\n",
    "from scipy.stats import ttest_ind\n",
    "from statsmodels.stats.anova import AnovaRM\n",
    "import statsmodels.api as sm\n",
    "from statsmodels.formula.api import ols\n",
    "\n",
    "# Extracting data for t-test (trt1 vs trt2)\n",
    "trt1_weights = plant_growth_data[plant_growth_data['group'] == 'trt1']['weight']\n",
    "trt2_weights = plant_growth_data[plant_growth_data['group'] == 'trt2']['weight']\n",
    "\n",
    "# Perform independent t-test\n",
    "t_test_result = ttest_ind(trt1_weights, trt2_weights)\n",
    "\n",
    "#Show result\n",
    "t_test_result\n",
    "\n"
   ]
  },
  {
   "cell_type": "markdown",
   "metadata": {},
   "source": [
    "**Performing a t-test (trt1 vs. trt2):**\n",
    "I performed a t-test to compare the means of the treatment groups ‘trt1’ and ‘trt2’.\n",
    "\n",
    "a) t-statistic (-3.01): The t-statistic is the ratio of the observed difference between the means to the standard error of the difference. A negative value indicates that the mean of ‘trt1’ is smaller than the mean of ‘trt2’.\n",
    "\n",
    "b) p-value (0.0075): This represents the probability of observing a t-statistic as extreme as -3.01 (or more extreme) under the null hypothesis that the two group means are equal. Since the p-value is below the significance threshold of 0.05, it provides strong evidence against the null hypothesis.\n",
    "\n",
    ">> The significant p-value indicates that there is a statistically significant difference in plant weights between treatment groups ‘trt1’ and ‘trt2’. Specifically, plants in the ‘trt2’ group have higher weights than those in the ‘trt1’ group.\n",
    "\n",
    ">> The treatment applied in ‘trt2’ may have a more beneficial effect on plant growth compared to ‘trt1’, leading to heavier plant weights. Further analysis or replication would help confirm this finding and explore potential causes for this difference.\n",
    "\n",
    "<<<Since the p-value is less than 0.05, we can reject the null hypothesis. There is a significant difference in the mean weights of plants between treatment groups trt1 and trt2.>>>"
   ]
  },
  {
   "cell_type": "markdown",
   "metadata": {},
   "source": [
    "## ANOVA\n",
    "*(Analysis of Variance)* is a statistical method used to compare the means of three or more groups. It tests the null hypothesis that all group means are equal versus the alternative that at least one group mean is different.\n",
    "\n",
    "#### Key Assumptions of ANOVA:\n",
    "\n",
    "*Independence:* Observations are independent.\n",
    "\n",
    "*Normality:* Residuals (errors) are approximately normally distributed.\n",
    "\n",
    "*Homogeneity of Variances:* Variance among the groups is approximately equal."
   ]
  },
  {
   "cell_type": "code",
   "execution_count": 6,
   "metadata": {},
   "outputs": [
    {
     "data": {
      "text/html": [
       "<div>\n",
       "<style scoped>\n",
       "    .dataframe tbody tr th:only-of-type {\n",
       "        vertical-align: middle;\n",
       "    }\n",
       "\n",
       "    .dataframe tbody tr th {\n",
       "        vertical-align: top;\n",
       "    }\n",
       "\n",
       "    .dataframe thead th {\n",
       "        text-align: right;\n",
       "    }\n",
       "</style>\n",
       "<table border=\"1\" class=\"dataframe\">\n",
       "  <thead>\n",
       "    <tr style=\"text-align: right;\">\n",
       "      <th></th>\n",
       "      <th>sum_sq</th>\n",
       "      <th>df</th>\n",
       "      <th>F</th>\n",
       "      <th>PR(&gt;F)</th>\n",
       "    </tr>\n",
       "  </thead>\n",
       "  <tbody>\n",
       "    <tr>\n",
       "      <th>C(group)</th>\n",
       "      <td>3.76634</td>\n",
       "      <td>2.0</td>\n",
       "      <td>4.846088</td>\n",
       "      <td>0.01591</td>\n",
       "    </tr>\n",
       "    <tr>\n",
       "      <th>Residual</th>\n",
       "      <td>10.49209</td>\n",
       "      <td>27.0</td>\n",
       "      <td>NaN</td>\n",
       "      <td>NaN</td>\n",
       "    </tr>\n",
       "  </tbody>\n",
       "</table>\n",
       "</div>"
      ],
      "text/plain": [
       "            sum_sq    df         F   PR(>F)\n",
       "C(group)   3.76634   2.0  4.846088  0.01591\n",
       "Residual  10.49209  27.0       NaN      NaN"
      ]
     },
     "execution_count": 6,
     "metadata": {},
     "output_type": "execute_result"
    }
   ],
   "source": [
    "# Preparing data for ANOVA\n",
    "anova_model = ols('weight ~ C(group)', data=plant_growth_data).fit()\n",
    "anova_result = sm.stats.anova_lm(anova_model, typ=2)\n",
    "\n",
    "# Displaying results\n",
    "anova_result"
   ]
  },
  {
   "cell_type": "markdown",
   "metadata": {},
   "source": [
    "*We performed ANOVA to compare the means of the three groups (‘ctrl’, ‘trt1’, ‘trt2’). The results are as follows:*\n",
    "\n",
    "\n",
    ">> F-statistic (4.85): The F-statistic is the ratio of the variance explained by the group differences (between-group variance) to the variance within groups (within-group variance). A higher F-statistic indicates greater relative differences between group means compared to the variability within groups.\n",
    "\n",
    ">> An F-statistic of 4.85 suggests that the variability in plant weights among the groups is significantly larger than what would be expected due to random chance.\n",
    "\n",
    ">> p-value (0.0159): The p-value is the probability of observing an F-statistic as extreme as 4.85 under the null hypothesis that all group means are equal. Since the p-value is less than the 0.05 significance level, we reject the null hypothesis.\n",
    "\n",
    ">>> This means there is strong evidence that at least one group mean is significantly different from the others.\n",
    "\n",
    "* The ANOVA results indicate a significant difference in plant weights among the three groups. However, it does not specify which groups differ from each other.\n",
    "\n",
    "* The significant result suggests that the treatments have a measurable effect on plant growth. While we know that at least one group differs, further analysis is required to determine whether the control group (‘ctrl’) differs from the treatment groups (‘trt1’, ‘trt2’) or if the treatments themselves differ significantly."
   ]
  },
  {
   "cell_type": "markdown",
   "metadata": {},
   "source": [
    "## Why ANOVA Instead of Multiple t-tests?\n",
    ">> Using multiple t-tests to compare more than two groups increases the risk of Type I error (false positives). Each t-test operates under a 5% significance threshold, meaning there is a 5% chance of incorrectly rejecting the null hypothesis for each test. When multiple t-tests are performed, these individual error rates compound, greatly increasing the overall likelihood of false positives.\n",
    "\n",
    ">> ANOVA addresses this issue by comparing all group means simultaneously under a single null hypothesis. By doing so, it controls the overall Type I error rate, ensuring reliable statistical conclusions. If ANOVA detects significant differences, post-hoc tests can be applied to identify specific group differences without inflating the error rate."
   ]
  }
 ],
 "metadata": {
  "kernelspec": {
   "display_name": "Python 3",
   "language": "python",
   "name": "python3"
  },
  "language_info": {
   "codemirror_mode": {
    "name": "ipython",
    "version": 3
   },
   "file_extension": ".py",
   "mimetype": "text/x-python",
   "name": "python",
   "nbconvert_exporter": "python",
   "pygments_lexer": "ipython3",
   "version": "3.12.3"
  }
 },
 "nbformat": 4,
 "nbformat_minor": 2
}
