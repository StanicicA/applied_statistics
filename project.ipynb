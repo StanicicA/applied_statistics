{
 "cells": [
  {
   "cell_type": "markdown",
   "metadata": {},
   "source": [
    "## The Plant Growth dataset contains three columns:\n",
    "\n",
    "### rownames: The row identifiers.\n",
    "### weight: The weight of the plants.\n",
    "### group: The treatment group, which includes three levels: ctrl, trt1, and trt2."
   ]
  },
  {
   "cell_type": "code",
   "execution_count": 14,
   "metadata": {},
   "outputs": [
    {
     "data": {
      "text/html": [
       "<div>\n",
       "<style scoped>\n",
       "    .dataframe tbody tr th:only-of-type {\n",
       "        vertical-align: middle;\n",
       "    }\n",
       "\n",
       "    .dataframe tbody tr th {\n",
       "        vertical-align: top;\n",
       "    }\n",
       "\n",
       "    .dataframe thead th {\n",
       "        text-align: right;\n",
       "    }\n",
       "</style>\n",
       "<table border=\"1\" class=\"dataframe\">\n",
       "  <thead>\n",
       "    <tr style=\"text-align: right;\">\n",
       "      <th></th>\n",
       "      <th>rownames</th>\n",
       "      <th>weight</th>\n",
       "      <th>group</th>\n",
       "    </tr>\n",
       "  </thead>\n",
       "  <tbody>\n",
       "    <tr>\n",
       "      <th>0</th>\n",
       "      <td>1</td>\n",
       "      <td>4.17</td>\n",
       "      <td>ctrl</td>\n",
       "    </tr>\n",
       "    <tr>\n",
       "      <th>1</th>\n",
       "      <td>2</td>\n",
       "      <td>5.58</td>\n",
       "      <td>ctrl</td>\n",
       "    </tr>\n",
       "    <tr>\n",
       "      <th>2</th>\n",
       "      <td>3</td>\n",
       "      <td>5.18</td>\n",
       "      <td>ctrl</td>\n",
       "    </tr>\n",
       "    <tr>\n",
       "      <th>3</th>\n",
       "      <td>4</td>\n",
       "      <td>6.11</td>\n",
       "      <td>ctrl</td>\n",
       "    </tr>\n",
       "    <tr>\n",
       "      <th>4</th>\n",
       "      <td>5</td>\n",
       "      <td>4.50</td>\n",
       "      <td>ctrl</td>\n",
       "    </tr>\n",
       "  </tbody>\n",
       "</table>\n",
       "</div>"
      ],
      "text/plain": [
       "   rownames  weight group\n",
       "0         1    4.17  ctrl\n",
       "1         2    5.58  ctrl\n",
       "2         3    5.18  ctrl\n",
       "3         4    6.11  ctrl\n",
       "4         5    4.50  ctrl"
      ]
     },
     "execution_count": 14,
     "metadata": {},
     "output_type": "execute_result"
    }
   ],
   "source": [
    "import pandas as pd\n",
    "\n",
    "# Load the dataset to inspect its contents\n",
    "file_path = 'plantgrowth.csv'\n",
    "plant_growth_data = pd.read_csv(file_path)\n",
    "\n",
    "# Displaying the first few rows of the dataset\n",
    "plant_growth_data.head()\n"
   ]
  },
  {
   "cell_type": "markdown",
   "metadata": {},
   "source": [
    "## “PlantGrowth” dataset consists of measurements of plant weights (in grams) categorized into three treatment groups: ‘ctrl’ (control), ‘trt1’ (treatment 1), and ‘trt2’ (treatment 2). This dataset can be used for analysing the effects of different treatments on plant growth. It contains two primary variables:\n",
    "\n",
    "## Weight: A numeric variable representing the weight of plants.\n",
    "\n",
    " ## Group: A categorical variable representing the treatment group."
   ]
  },
  {
   "cell_type": "markdown",
   "metadata": {},
   "source": [
    "## T-test is a statistical test used to compare the means of two groups to determine whether they are significantly different from each other. It calculates the t-statistic, which measures the size of the difference relative to the variation in the sample data.\n",
    "\n",
    "## Key Assumptions of the t-test:\n",
    "\n",
    "Independence: The observations in each group are independent of each other.\n",
    "\n",
    "Normality: The data in each group is approximately normally distributed.\n",
    "\n",
    "Homogeneity of Variances: The variances of the two groups are equal (for the two-sample t-test)."
   ]
  },
  {
   "cell_type": "code",
   "execution_count": 15,
   "metadata": {},
   "outputs": [
    {
     "data": {
      "text/plain": [
       "TtestResult(statistic=np.float64(-3.0100985421243616), pvalue=np.float64(0.0075184261182198574), df=np.float64(18.0))"
      ]
     },
     "execution_count": 15,
     "metadata": {},
     "output_type": "execute_result"
    }
   ],
   "source": [
    "from scipy.stats import ttest_ind\n",
    "from statsmodels.stats.anova import AnovaRM\n",
    "import statsmodels.api as sm\n",
    "from statsmodels.formula.api import ols\n",
    "\n",
    "# Extract data for t-test (trt1 vs trt2)\n",
    "trt1_weights = plant_growth_data[plant_growth_data['group'] == 'trt1']['weight']\n",
    "trt2_weights = plant_growth_data[plant_growth_data['group'] == 'trt2']['weight']\n",
    "\n",
    "# Perform independent t-test\n",
    "t_test_result = ttest_ind(trt1_weights, trt2_weights)\n",
    "\n",
    "#Show result\n",
    "t_test_result\n",
    "\n"
   ]
  },
  {
   "cell_type": "markdown",
   "metadata": {},
   "source": [
    "Since the p-value is less than 0.05, we can reject the null hypothesis. There is a significant difference in the mean weights of plants between treatment groups trt1 and trt2."
   ]
  },
  {
   "cell_type": "markdown",
   "metadata": {},
   "source": [
    "## ANOVA (Analysis of Variance) is a statistical method used to compare the means of three or more groups. It tests the null hypothesis that all group means are equal versus the alternative that at least one group mean is different.\n",
    "\n",
    "## Key Assumptions of ANOVA:\n",
    "\n",
    "Independence: Observations are independent.\n",
    "\n",
    "Normality: Residuals (errors) are approximately normally distributed.\n",
    "\n",
    "Homogeneity of Variances: Variance among the groups is approximately equal."
   ]
  },
  {
   "cell_type": "code",
   "execution_count": 16,
   "metadata": {},
   "outputs": [
    {
     "data": {
      "text/html": [
       "<div>\n",
       "<style scoped>\n",
       "    .dataframe tbody tr th:only-of-type {\n",
       "        vertical-align: middle;\n",
       "    }\n",
       "\n",
       "    .dataframe tbody tr th {\n",
       "        vertical-align: top;\n",
       "    }\n",
       "\n",
       "    .dataframe thead th {\n",
       "        text-align: right;\n",
       "    }\n",
       "</style>\n",
       "<table border=\"1\" class=\"dataframe\">\n",
       "  <thead>\n",
       "    <tr style=\"text-align: right;\">\n",
       "      <th></th>\n",
       "      <th>sum_sq</th>\n",
       "      <th>df</th>\n",
       "      <th>F</th>\n",
       "      <th>PR(&gt;F)</th>\n",
       "    </tr>\n",
       "  </thead>\n",
       "  <tbody>\n",
       "    <tr>\n",
       "      <th>C(group)</th>\n",
       "      <td>3.76634</td>\n",
       "      <td>2.0</td>\n",
       "      <td>4.846088</td>\n",
       "      <td>0.01591</td>\n",
       "    </tr>\n",
       "    <tr>\n",
       "      <th>Residual</th>\n",
       "      <td>10.49209</td>\n",
       "      <td>27.0</td>\n",
       "      <td>NaN</td>\n",
       "      <td>NaN</td>\n",
       "    </tr>\n",
       "  </tbody>\n",
       "</table>\n",
       "</div>"
      ],
      "text/plain": [
       "            sum_sq    df         F   PR(>F)\n",
       "C(group)   3.76634   2.0  4.846088  0.01591\n",
       "Residual  10.49209  27.0       NaN      NaN"
      ]
     },
     "execution_count": 16,
     "metadata": {},
     "output_type": "execute_result"
    }
   ],
   "source": [
    "# Prepare data for ANOVA\n",
    "anova_model = ols('weight ~ C(group)', data=plant_growth_data).fit()\n",
    "anova_result = sm.stats.anova_lm(anova_model, typ=2)\n",
    "\n",
    "# Display results\n",
    "anova_result"
   ]
  },
  {
   "cell_type": "markdown",
   "metadata": {},
   "source": [
    "The p-value is less than 0.05, so we reject the null hypothesis. There is a significant difference in the mean weights of plants among the three groups (ctrl, trt1, and trt2)."
   ]
  },
  {
   "cell_type": "markdown",
   "metadata": {},
   "source": [
    "## Why ANOVA Instead of Multiple t-tests?\n",
    "Using multiple t-tests to compare more than two groups increases the risk of Type I error (false positives). Each t-test operates under a 5% significance threshold, meaning there is a 5% chance of incorrectly rejecting the null hypothesis for each test. When multiple t-tests are performed, these individual error rates compound, greatly increasing the overall likelihood of false positives.\n",
    "\n",
    "ANOVA addresses this issue by comparing all group means simultaneously under a single null hypothesis. By doing so, it controls the overall Type I error rate, ensuring reliable statistical conclusions. If ANOVA detects significant differences, post-hoc tests (e.g., Tukey’s HSD) can be applied to identify specific group differences without inflating the error rate."
   ]
  }
 ],
 "metadata": {
  "kernelspec": {
   "display_name": "Python 3",
   "language": "python",
   "name": "python3"
  },
  "language_info": {
   "codemirror_mode": {
    "name": "ipython",
    "version": 3
   },
   "file_extension": ".py",
   "mimetype": "text/x-python",
   "name": "python",
   "nbconvert_exporter": "python",
   "pygments_lexer": "ipython3",
   "version": "3.12.3"
  }
 },
 "nbformat": 4,
 "nbformat_minor": 2
}
