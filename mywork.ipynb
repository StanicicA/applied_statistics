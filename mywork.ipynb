{
 "cells": [
  {
   "cell_type": "code",
   "execution_count": 126,
   "metadata": {},
   "outputs": [],
   "source": [
    "# Mathematical functions from the standard library.\n",
    "# https://docs.python.org/3/library/math.html\n",
    "import math\n",
    "\n",
    "# Permutations and combinations.\n",
    "# https://docs.python.org/3/library/itertools.html\n",
    "import itertools\n",
    "\n",
    "# Random selections.\n",
    "# https://docs.python.org/3/library/random.html\n",
    "import random\n",
    "\n",
    "# Numerical structures and operations.\n",
    "# https://numpy.org/doc/stable/reference/index.html#reference\n",
    "import numpy as np\n",
    "\n",
    "\n",
    "# Plotting.\n",
    "# https://matplotlib.org/stable/contents.html\n",
    "import matplotlib.pyplot as plt"
   ]
  },
  {
   "cell_type": "markdown",
   "metadata": {},
   "source": [
    "1 2 3 4 5 6 7 8 "
   ]
  },
  {
   "cell_type": "code",
   "execution_count": 127,
   "metadata": {},
   "outputs": [],
   "source": [
    "# Number of cups of tea in total \n",
    "\n",
    "no_cups = 8\n",
    "\n",
    "# Number of cups of tea with milk in first\n",
    "\n",
    "no_cups_milk_first = 4\n",
    "\n",
    "# Number of cups of tea with tea in firstno_cups_tea_first = 4\n",
    "\n",
    "no_cups_tea_first = 4 \n"
   ]
  },
  {
   "cell_type": "code",
   "execution_count": 128,
   "metadata": {},
   "outputs": [
    {
     "data": {
      "text/plain": [
       "70"
      ]
     },
     "execution_count": 128,
     "metadata": {},
     "output_type": "execute_result"
    }
   ],
   "source": [
    "# Number of ways of selecting four cups from eight\n",
    "ways = math.comb (no_cups, no_cups_milk_first)\n",
    "\n",
    "# Show \n",
    "ways\n"
   ]
  },
  {
   "cell_type": "code",
   "execution_count": 129,
   "metadata": {},
   "outputs": [
    {
     "data": {
      "text/plain": [
       "1680"
      ]
     },
     "execution_count": 129,
     "metadata": {},
     "output_type": "execute_result"
    }
   ],
   "source": [
    "# Total number of ways of selecting four cups from eight, keeping them in order.\n",
    "ways_ordered = 8 * 7 * 6 * 5\n",
    "\n",
    "# Show.\n",
    "ways_ordered"
   ]
  },
  {
   "cell_type": "code",
   "execution_count": 130,
   "metadata": {},
   "outputs": [
    {
     "data": {
      "text/plain": [
       "24"
      ]
     },
     "execution_count": 130,
     "metadata": {},
     "output_type": "execute_result"
    }
   ],
   "source": [
    "# No of ways of shuffling four cups\n",
    "no_shuffles = 4 * 3 * 2 * 1\n",
    "\n",
    "# Show.\n",
    "no_shuffles"
   ]
  },
  {
   "cell_type": "code",
   "execution_count": 131,
   "metadata": {},
   "outputs": [
    {
     "data": {
      "text/plain": [
       "70"
      ]
     },
     "execution_count": 131,
     "metadata": {},
     "output_type": "execute_result"
    }
   ],
   "source": [
    "# No of combinations.\n",
    "no_combs = ways_ordered // no_shuffles\n",
    "\n",
    "# Show.\n",
    "no_combs"
   ]
  },
  {
   "cell_type": "code",
   "execution_count": 132,
   "metadata": {},
   "outputs": [],
   "source": [
    "# Number of cups of tea in total.\n",
    "n = 8\n",
    "\n",
    "# Number of cups of tea with milk in first.\n",
    "k = 4"
   ]
  },
  {
   "cell_type": "code",
   "execution_count": 133,
   "metadata": {},
   "outputs": [
    {
     "data": {
      "text/plain": [
       "40320"
      ]
     },
     "execution_count": 133,
     "metadata": {},
     "output_type": "execute_result"
    }
   ],
   "source": [
    "# Eight factorial.\n",
    "math.factorial(n)\n"
   ]
  },
  {
   "cell_type": "code",
   "execution_count": 134,
   "metadata": {},
   "outputs": [
    {
     "data": {
      "text/plain": [
       "24"
      ]
     },
     "execution_count": 134,
     "metadata": {},
     "output_type": "execute_result"
    }
   ],
   "source": [
    "# Four factorial.\n",
    "math.factorial(k)"
   ]
  },
  {
   "cell_type": "code",
   "execution_count": 135,
   "metadata": {},
   "outputs": [
    {
     "data": {
      "text/plain": [
       "24"
      ]
     },
     "execution_count": 135,
     "metadata": {},
     "output_type": "execute_result"
    }
   ],
   "source": [
    "# Four factorial.\n",
    "math.factorial(n - k)\n"
   ]
  },
  {
   "cell_type": "code",
   "execution_count": 136,
   "metadata": {},
   "outputs": [
    {
     "data": {
      "text/plain": [
       "70"
      ]
     },
     "execution_count": 136,
     "metadata": {},
     "output_type": "execute_result"
    }
   ],
   "source": [
    "# No of ways of selecting k objects from n without replacement and without order.\n",
    "math.factorial(n) // (math.factorial(k) * math.factorial(n - k))"
   ]
  },
  {
   "cell_type": "code",
   "execution_count": 137,
   "metadata": {},
   "outputs": [
    {
     "data": {
      "text/plain": [
       "80658175170943878571660636856403766975289505440883277824000000000000"
      ]
     },
     "execution_count": 137,
     "metadata": {},
     "output_type": "execute_result"
    }
   ],
   "source": [
    "# How many ways are there to shuffle a deck of 52 cards?\n",
    "math.factorial(52)"
   ]
  },
  {
   "cell_type": "code",
   "execution_count": 138,
   "metadata": {},
   "outputs": [
    {
     "data": {
      "text/plain": [
       "[0, 1, 2, 3, 4, 5, 6, 7]"
      ]
     },
     "execution_count": 138,
     "metadata": {},
     "output_type": "execute_result"
    }
   ],
   "source": [
    "# The cup labels.\n",
    "labels = list(range(no_cups))\n",
    "\n",
    "# Show.\n",
    "labels"
   ]
  },
  {
   "cell_type": "code",
   "execution_count": 139,
   "metadata": {},
   "outputs": [
    {
     "data": {
      "text/plain": [
       "[(0, 1, 2, 3),\n",
       " (0, 1, 2, 4),\n",
       " (0, 1, 2, 5),\n",
       " (0, 1, 2, 6),\n",
       " (0, 1, 2, 7),\n",
       " (0, 1, 3, 4),\n",
       " (0, 1, 3, 5),\n",
       " (0, 1, 3, 6),\n",
       " (0, 1, 3, 7),\n",
       " (0, 1, 4, 5),\n",
       " (0, 1, 4, 6),\n",
       " (0, 1, 4, 7),\n",
       " (0, 1, 5, 6),\n",
       " (0, 1, 5, 7),\n",
       " (0, 1, 6, 7),\n",
       " (0, 2, 3, 4),\n",
       " (0, 2, 3, 5),\n",
       " (0, 2, 3, 6),\n",
       " (0, 2, 3, 7),\n",
       " (0, 2, 4, 5),\n",
       " (0, 2, 4, 6),\n",
       " (0, 2, 4, 7),\n",
       " (0, 2, 5, 6),\n",
       " (0, 2, 5, 7),\n",
       " (0, 2, 6, 7),\n",
       " (0, 3, 4, 5),\n",
       " (0, 3, 4, 6),\n",
       " (0, 3, 4, 7),\n",
       " (0, 3, 5, 6),\n",
       " (0, 3, 5, 7),\n",
       " (0, 3, 6, 7),\n",
       " (0, 4, 5, 6),\n",
       " (0, 4, 5, 7),\n",
       " (0, 4, 6, 7),\n",
       " (0, 5, 6, 7),\n",
       " (1, 2, 3, 4),\n",
       " (1, 2, 3, 5),\n",
       " (1, 2, 3, 6),\n",
       " (1, 2, 3, 7),\n",
       " (1, 2, 4, 5),\n",
       " (1, 2, 4, 6),\n",
       " (1, 2, 4, 7),\n",
       " (1, 2, 5, 6),\n",
       " (1, 2, 5, 7),\n",
       " (1, 2, 6, 7),\n",
       " (1, 3, 4, 5),\n",
       " (1, 3, 4, 6),\n",
       " (1, 3, 4, 7),\n",
       " (1, 3, 5, 6),\n",
       " (1, 3, 5, 7),\n",
       " (1, 3, 6, 7),\n",
       " (1, 4, 5, 6),\n",
       " (1, 4, 5, 7),\n",
       " (1, 4, 6, 7),\n",
       " (1, 5, 6, 7),\n",
       " (2, 3, 4, 5),\n",
       " (2, 3, 4, 6),\n",
       " (2, 3, 4, 7),\n",
       " (2, 3, 5, 6),\n",
       " (2, 3, 5, 7),\n",
       " (2, 3, 6, 7),\n",
       " (2, 4, 5, 6),\n",
       " (2, 4, 5, 7),\n",
       " (2, 4, 6, 7),\n",
       " (2, 5, 6, 7),\n",
       " (3, 4, 5, 6),\n",
       " (3, 4, 5, 7),\n",
       " (3, 4, 6, 7),\n",
       " (3, 5, 6, 7),\n",
       " (4, 5, 6, 7)]"
      ]
     },
     "execution_count": 139,
     "metadata": {},
     "output_type": "execute_result"
    }
   ],
   "source": [
    "# Show the different ways of selecting no_cups_milk_first out of no_cups cups of tea.\n",
    "combs = list(itertools.combinations(labels, no_cups_milk_first))\n",
    "\n",
    "# Show.\n",
    "combs"
   ]
  },
  {
   "cell_type": "code",
   "execution_count": 140,
   "metadata": {},
   "outputs": [
    {
     "data": {
      "text/plain": [
       "70"
      ]
     },
     "execution_count": 140,
     "metadata": {},
     "output_type": "execute_result"
    }
   ],
   "source": [
    "# Number of combinations.\n",
    "len(combs)"
   ]
  },
  {
   "cell_type": "code",
   "execution_count": 141,
   "metadata": {},
   "outputs": [
    {
     "data": {
      "text/plain": [
       "[0, 1, 2, 3]"
      ]
     },
     "execution_count": 141,
     "metadata": {},
     "output_type": "execute_result"
    }
   ],
   "source": [
    "# Select four cups at random to put milk in first.\n",
    "# https://docs.python.org/3/library/random.html#random.sample\n",
    "labels_milk = random.sample(labels, 4)\n",
    "\n",
    "# Sort, inplace.\n",
    "labels_milk.sort()\n",
    "\n",
    "# Show.\n",
    "labels_milk"
   ]
  },
  {
   "cell_type": "code",
   "execution_count": 142,
   "metadata": {},
   "outputs": [
    {
     "data": {
      "text/plain": [
       "{0, 1, 2, 3}"
      ]
     },
     "execution_count": 142,
     "metadata": {},
     "output_type": "execute_result"
    }
   ],
   "source": [
    "# Turn labels_milk into a set.\n",
    "# Uses: https://docs.python.org/3/tutorial/datastructures.html#sets\n",
    "set(labels_milk)"
   ]
  },
  {
   "cell_type": "code",
   "execution_count": 143,
   "metadata": {},
   "outputs": [
    {
     "name": "stdout",
     "output_type": "stream",
     "text": [
      "(0, 1, 2, 3) {0, 1, 2, 3} 4\n",
      "(0, 1, 2, 4) {0, 1, 2} 3\n",
      "(0, 1, 2, 5) {0, 1, 2} 3\n",
      "(0, 1, 2, 6) {0, 1, 2} 3\n",
      "(0, 1, 2, 7) {0, 1, 2} 3\n",
      "(0, 1, 3, 4) {0, 1, 3} 3\n",
      "(0, 1, 3, 5) {0, 1, 3} 3\n",
      "(0, 1, 3, 6) {0, 1, 3} 3\n",
      "(0, 1, 3, 7) {0, 1, 3} 3\n",
      "(0, 1, 4, 5) {0, 1} 2\n",
      "(0, 1, 4, 6) {0, 1} 2\n",
      "(0, 1, 4, 7) {0, 1} 2\n",
      "(0, 1, 5, 6) {0, 1} 2\n",
      "(0, 1, 5, 7) {0, 1} 2\n",
      "(0, 1, 6, 7) {0, 1} 2\n",
      "(0, 2, 3, 4) {0, 2, 3} 3\n",
      "(0, 2, 3, 5) {0, 2, 3} 3\n",
      "(0, 2, 3, 6) {0, 2, 3} 3\n",
      "(0, 2, 3, 7) {0, 2, 3} 3\n",
      "(0, 2, 4, 5) {0, 2} 2\n",
      "(0, 2, 4, 6) {0, 2} 2\n",
      "(0, 2, 4, 7) {0, 2} 2\n",
      "(0, 2, 5, 6) {0, 2} 2\n",
      "(0, 2, 5, 7) {0, 2} 2\n",
      "(0, 2, 6, 7) {0, 2} 2\n",
      "(0, 3, 4, 5) {0, 3} 2\n",
      "(0, 3, 4, 6) {0, 3} 2\n",
      "(0, 3, 4, 7) {0, 3} 2\n",
      "(0, 3, 5, 6) {0, 3} 2\n",
      "(0, 3, 5, 7) {0, 3} 2\n",
      "(0, 3, 6, 7) {0, 3} 2\n",
      "(0, 4, 5, 6) {0} 1\n",
      "(0, 4, 5, 7) {0} 1\n",
      "(0, 4, 6, 7) {0} 1\n",
      "(0, 5, 6, 7) {0} 1\n",
      "(1, 2, 3, 4) {1, 2, 3} 3\n",
      "(1, 2, 3, 5) {1, 2, 3} 3\n",
      "(1, 2, 3, 6) {1, 2, 3} 3\n",
      "(1, 2, 3, 7) {1, 2, 3} 3\n",
      "(1, 2, 4, 5) {1, 2} 2\n",
      "(1, 2, 4, 6) {1, 2} 2\n",
      "(1, 2, 4, 7) {1, 2} 2\n",
      "(1, 2, 5, 6) {1, 2} 2\n",
      "(1, 2, 5, 7) {1, 2} 2\n",
      "(1, 2, 6, 7) {1, 2} 2\n",
      "(1, 3, 4, 5) {1, 3} 2\n",
      "(1, 3, 4, 6) {1, 3} 2\n",
      "(1, 3, 4, 7) {1, 3} 2\n",
      "(1, 3, 5, 6) {1, 3} 2\n",
      "(1, 3, 5, 7) {1, 3} 2\n",
      "(1, 3, 6, 7) {1, 3} 2\n",
      "(1, 4, 5, 6) {1} 1\n",
      "(1, 4, 5, 7) {1} 1\n",
      "(1, 4, 6, 7) {1} 1\n",
      "(1, 5, 6, 7) {1} 1\n",
      "(2, 3, 4, 5) {2, 3} 2\n",
      "(2, 3, 4, 6) {2, 3} 2\n",
      "(2, 3, 4, 7) {2, 3} 2\n",
      "(2, 3, 5, 6) {2, 3} 2\n",
      "(2, 3, 5, 7) {2, 3} 2\n",
      "(2, 3, 6, 7) {2, 3} 2\n",
      "(2, 4, 5, 6) {2} 1\n",
      "(2, 4, 5, 7) {2} 1\n",
      "(2, 4, 6, 7) {2} 1\n",
      "(2, 5, 6, 7) {2} 1\n",
      "(3, 4, 5, 6) {3} 1\n",
      "(3, 4, 5, 7) {3} 1\n",
      "(3, 4, 6, 7) {3} 1\n",
      "(3, 5, 6, 7) {3} 1\n",
      "(4, 5, 6, 7) set() 0\n"
     ]
    }
   ],
   "source": [
    "# Calculate the overlap between each element of combs and labels_milk.\n",
    "\n",
    "no_overlaps = []\n",
    "\n",
    "for comb in combs:\n",
    "  # Turn comb into a set.\n",
    "  s1 = set(comb)\n",
    "  # Turn labels_milk into a set.\n",
    "  s2 = set(labels_milk)\n",
    "  # Figure out where they overlap.\n",
    "  overlap = s1.intersection(s2)\n",
    "  # Show the combination and the overlap.\n",
    "  print(comb, overlap, len(overlap))\n",
    "  # Append overlap to no_overlaps.\n",
    "  no_overlaps.append(len(overlap))"
   ]
  },
  {
   "cell_type": "code",
   "execution_count": 144,
   "metadata": {},
   "outputs": [
    {
     "name": "stdout",
     "output_type": "stream",
     "text": [
      "[4, 3, 3, 3, 3, 3, 3, 3, 3, 2, 2, 2, 2, 2, 2, 3, 3, 3, 3, 2, 2, 2, 2, 2, 2, 2, 2, 2, 2, 2, 2, 1, 1, 1, 1, 3, 3, 3, 3, 2, 2, 2, 2, 2, 2, 2, 2, 2, 2, 2, 2, 1, 1, 1, 1, 2, 2, 2, 2, 2, 2, 1, 1, 1, 1, 1, 1, 1, 1, 0]\n"
     ]
    }
   ],
   "source": [
    "# Show the overlaps.\n",
    "print(no_overlaps)"
   ]
  },
  {
   "cell_type": "code",
   "execution_count": 145,
   "metadata": {},
   "outputs": [
    {
     "data": {
      "text/plain": [
       "(array([0, 1, 2, 3, 4]), array([ 1, 16, 36, 16,  1]))"
      ]
     },
     "execution_count": 145,
     "metadata": {},
     "output_type": "execute_result"
    }
   ],
   "source": [
    "# Count the number of times each overlap occurs.\n",
    "counts = np.unique(no_overlaps, return_counts=True)\n",
    "\n",
    "# Show.\n",
    "counts"
   ]
  },
  {
   "cell_type": "code",
   "execution_count": 146,
   "metadata": {},
   "outputs": [
    {
     "data": {
      "image/png": "[encoded data removed]",
      "text/plain": [
       "<Figure size 600x400 with 1 Axes>"
      ]
     },
     "metadata": {},
     "output_type": "display_data"
    }
   ],
   "source": [
    "# Create a figure.\n",
    "fig, ax = plt.subplots(figsize=(6, 4))\n",
    "\n",
    "# Bar chart.\n",
    "ax.bar(counts[0], counts[1]);"
   ]
  },
  {
   "cell_type": "code",
   "execution_count": 147,
   "metadata": {},
   "outputs": [
    {
     "data": {
      "text/plain": [
       "0.014285714285714285"
      ]
     },
     "execution_count": 147,
     "metadata": {},
     "output_type": "execute_result"
    }
   ],
   "source": [
    "# The probability that the lady will choose the correct four cups\n",
    "\n",
    "1 / 70"
   ]
  },
  {
   "cell_type": "code",
   "execution_count": 148,
   "metadata": {},
   "outputs": [
    {
     "data": {
      "text/plain": [
       "0.24285714285714285"
      ]
     },
     "execution_count": 148,
     "metadata": {},
     "output_type": "execute_result"
    }
   ],
   "source": [
    "# The probability that she (randomly) selects at least three correct cups.\n",
    "(16 + 1) / 70"
   ]
  },
  {
   "cell_type": "code",
   "execution_count": 149,
   "metadata": {},
   "outputs": [],
   "source": [
    "# Binomial distribution requirements\n",
    "import numpy as np\n",
    "\n",
    "# Plotting.\n",
    "import matplotlib.pyplot as plt\n",
    "\n",
    "# Statistics.\n",
    "import scipy.stats as stats\n",
    "\n",
    "# Statistical models.\n",
    "import statsmodels as sm"
   ]
  },
  {
   "cell_type": "code",
   "execution_count": 150,
   "metadata": {},
   "outputs": [
    {
     "data": {
      "text/plain": [
       "1"
      ]
     },
     "execution_count": 150,
     "metadata": {},
     "output_type": "execute_result"
    }
   ],
   "source": [
    "# Flip a single coin.\n",
    "np.random.binomial(1, 0.5)"
   ]
  },
  {
   "cell_type": "code",
   "execution_count": 151,
   "metadata": {},
   "outputs": [
    {
     "data": {
      "text/plain": [
       "array([0, 1, 0, 1, 0, 0, 1, 1, 0, 1, 0, 1, 0, 0, 0, 0, 0, 1, 1, 0, 1, 1,\n",
       "       1, 0, 0, 1, 1, 0, 1, 1, 0, 1, 0, 0, 1, 0, 0, 1, 0, 0, 1, 0, 0, 0,\n",
       "       0, 1, 1, 0, 0, 0, 0, 0, 0, 1, 0, 1, 1, 0, 1, 1, 0, 0, 1, 1, 0, 1,\n",
       "       1, 1, 0, 1, 0, 0, 0, 0, 1, 1, 0, 0, 1, 0, 1, 1, 1, 1, 0, 0, 1, 0,\n",
       "       1, 1, 0, 1, 0, 1, 0, 0, 1, 0, 1, 0, 0, 0, 0, 0, 0, 0, 0, 0, 0, 1,\n",
       "       0, 1, 1, 1, 0, 0, 1, 1, 0, 1, 1, 0, 1, 1, 1, 1, 1, 1, 0, 1, 0, 1,\n",
       "       1, 0, 0, 1, 0, 1, 1, 0, 1, 0, 0, 1, 1, 1, 0, 1, 1, 1, 1, 1, 1, 0,\n",
       "       1, 1, 0, 1, 1, 0, 0, 1, 0, 0, 1, 0, 0, 1, 0, 1, 1, 1, 1, 1, 0, 1,\n",
       "       0, 1, 0, 1, 1, 1, 1, 1, 0, 0, 1, 0, 1, 0, 0, 1, 0, 0, 0, 1, 0, 1,\n",
       "       0, 0, 0, 0, 0, 1, 1, 1, 1, 0, 0, 0, 1, 0, 0, 1, 1, 0, 0, 0, 0, 0,\n",
       "       1, 1, 1, 0, 1, 1, 1, 1, 1, 0, 0, 0, 0, 1, 0, 1, 0, 1, 1, 0, 0, 0,\n",
       "       1, 0, 0, 0, 0, 1, 1, 1, 1, 1, 1, 1, 1, 0, 1, 0, 0, 0, 0, 0, 1, 0,\n",
       "       1, 1, 0, 1, 0, 1, 0, 0, 1, 0, 1, 1, 0, 1, 0, 1, 1, 0, 1, 1, 1, 1,\n",
       "       0, 1, 0, 0, 0, 1, 0, 0, 0, 1, 0, 1, 0, 0, 1, 0, 1, 0, 0, 0, 1, 0,\n",
       "       0, 1, 1, 1, 1, 0, 1, 1, 1, 0, 1, 1, 1, 1, 1, 1, 1, 0, 0, 0, 1, 1,\n",
       "       1, 0, 0, 1, 0, 0, 0, 1, 0, 0, 0, 0, 1, 0, 0, 1, 0, 1, 1, 0, 0, 1,\n",
       "       1, 0, 1, 1, 0, 0, 1, 0, 0, 0, 0, 0, 0, 0, 1, 1, 1, 1, 0, 0, 0, 1,\n",
       "       0, 1, 1, 1, 0, 0, 0, 0, 1, 1, 1, 1, 1, 1, 0, 0, 0, 1, 1, 0, 0, 0,\n",
       "       0, 0, 1, 0, 0, 1, 1, 0, 1, 1, 0, 0, 0, 0, 0, 0, 0, 1, 0, 0, 1, 1,\n",
       "       0, 0, 0, 0, 1, 1, 0, 1, 0, 1, 1, 0, 0, 0, 0, 0, 0, 0, 1, 0, 0, 0,\n",
       "       1, 0, 0, 0, 1, 0, 1, 1, 0, 0, 1, 1, 1, 1, 1, 0, 1, 1, 1, 0, 1, 1,\n",
       "       0, 1, 0, 0, 0, 0, 1, 1, 1, 1, 0, 0, 0, 0, 0, 1, 1, 0, 1, 1, 0, 0,\n",
       "       1, 1, 0, 1, 1, 0, 0, 0, 0, 0, 1, 0, 1, 1, 1, 0, 0, 0, 0, 0, 0, 0,\n",
       "       0, 0, 0, 0, 1, 1, 1, 1, 0, 0, 1, 1, 1, 1, 1, 0, 1, 0, 1, 1, 1, 0,\n",
       "       0, 1, 0, 1, 0, 1, 0, 1, 1, 0, 1, 1, 1, 1, 1, 0, 1, 1, 1, 0, 1, 1,\n",
       "       0, 0, 0, 1, 1, 0, 0, 1, 1, 0, 0, 1, 0, 1, 1, 0, 0, 0, 1, 1, 1, 1,\n",
       "       1, 1, 1, 1, 0, 0, 1, 1, 0, 0, 1, 1, 0, 1, 0, 0, 0, 0, 1, 0, 0, 1,\n",
       "       1, 1, 0, 0, 0, 0, 1, 0, 0, 1, 0, 1, 0, 1, 1, 0, 1, 0, 0, 1, 0, 1,\n",
       "       1, 1, 0, 1, 1, 0, 1, 0, 1, 1, 0, 0, 0, 1, 0, 0, 1, 1, 0, 0, 1, 1,\n",
       "       1, 0, 1, 1, 1, 0, 1, 1, 1, 0, 1, 1, 0, 1, 1, 0, 1, 0, 0, 1, 0, 0,\n",
       "       0, 1, 1, 0, 1, 1, 1, 1, 0, 0, 1, 1, 0, 0, 1, 1, 1, 1, 0, 0, 0, 1,\n",
       "       0, 1, 1, 0, 0, 1, 0, 0, 0, 1, 1, 0, 0, 1, 1, 0, 1, 0, 1, 0, 1, 0,\n",
       "       0, 1, 0, 0, 1, 0, 1, 1, 1, 0, 0, 1, 1, 1, 1, 1, 1, 1, 0, 1, 0, 0,\n",
       "       0, 0, 0, 0, 0, 1, 1, 0, 0, 0, 0, 1, 1, 0, 0, 1, 0, 1, 1, 0, 1, 1,\n",
       "       1, 1, 1, 1, 0, 1, 1, 1, 1, 0, 1, 1, 0, 0, 1, 1, 0, 1, 1, 1, 0, 0,\n",
       "       0, 1, 1, 0, 1, 0, 1, 0, 0, 0, 0, 0, 1, 1, 0, 1, 1, 0, 1, 0, 0, 0,\n",
       "       0, 0, 1, 1, 0, 0, 1, 0, 1, 1, 0, 1, 1, 1, 1, 1, 1, 1, 1, 1, 1, 0,\n",
       "       1, 1, 1, 1, 1, 0, 1, 1, 1, 1, 1, 1, 1, 1, 1, 1, 0, 1, 0, 0, 0, 1,\n",
       "       1, 1, 1, 1, 1, 1, 0, 0, 0, 0, 1, 0, 0, 1, 1, 0, 0, 0, 0, 0, 1, 0,\n",
       "       1, 0, 1, 1, 0, 0, 1, 0, 1, 1, 0, 0, 0, 1, 1, 1, 0, 1, 0, 0, 0, 1,\n",
       "       1, 0, 0, 1, 0, 0, 0, 0, 0, 0, 1, 0, 1, 1, 1, 0, 1, 0, 1, 1, 0, 1,\n",
       "       1, 0, 0, 1, 0, 0, 1, 1, 0, 0, 0, 1, 0, 0, 0, 1, 0, 1, 0, 1, 1, 1,\n",
       "       1, 1, 0, 1, 0, 1, 0, 1, 1, 1, 0, 0, 1, 0, 0, 0, 0, 0, 1, 0, 0, 0,\n",
       "       0, 0, 1, 0, 0, 1, 0, 0, 0, 1, 0, 1, 0, 0, 0, 1, 0, 0, 0, 0, 1, 1,\n",
       "       1, 0, 1, 0, 0, 0, 1, 0, 0, 0, 0, 1, 1, 1, 0, 1, 0, 0, 1, 1, 0, 0,\n",
       "       0, 1, 0, 1, 0, 0, 0, 1, 1, 1], dtype=int32)"
      ]
     },
     "execution_count": 151,
     "metadata": {},
     "output_type": "execute_result"
    }
   ],
   "source": [
    "# Flip a single coin several times.\n",
    "flips = np.random.binomial(1, 0.5, 1000)\n",
    "\n",
    "# Show.\n",
    "flips"
   ]
  },
  {
   "cell_type": "code",
   "execution_count": 152,
   "metadata": {},
   "outputs": [
    {
     "data": {
      "text/plain": [
       "np.int64(497)"
      ]
     },
     "execution_count": 152,
     "metadata": {},
     "output_type": "execute_result"
    }
   ],
   "source": [
    "# Count heads.\n",
    "heads = flips.sum()\n",
    "\n",
    "# Show.\n",
    "heads"
   ]
  },
  {
   "cell_type": "code",
   "execution_count": 153,
   "metadata": {},
   "outputs": [
    {
     "data": {
      "image/png": "[encoded data removed]",
      "text/plain": [
       "<Figure size 640x480 with 1 Axes>"
      ]
     },
     "metadata": {},
     "output_type": "display_data"
    }
   ],
   "source": [
    "\n",
    "# Create a blank plot.\n",
    "fig, ax = plt.subplots()\n",
    "# Create a bar chart.\n",
    "ax.bar([0, 1], [1000 - heads, heads])\n",
    "\n",
    "# Add x labels.\n",
    "ax.set_xticks([0, 1])\n",
    "\n",
    "# Add title.\n",
    "ax.set_title('Flipping a coin 1000 times')\n",
    "\n",
    "# Add axis label.\n",
    "ax.set_xlabel('No heads')\n",
    "ax.set_ylabel('Count');"
   ]
  },
  {
   "cell_type": "code",
   "execution_count": 154,
   "metadata": {},
   "outputs": [
    {
     "data": {
      "text/plain": [
       "array([2, 1, 1, 0, 1, 1, 1, 2, 2, 0, 0, 2, 1, 1, 1, 2, 1, 1, 0, 0, 1, 0,\n",
       "       1, 1, 2, 2, 0, 1, 1, 0, 0, 1, 0, 2, 0, 0, 1, 2, 1, 1, 1, 0, 2, 2,\n",
       "       2, 2, 0, 1, 1, 1, 0, 1, 2, 1, 1, 0, 1, 1, 2, 0, 2, 0, 1, 0, 2, 2,\n",
       "       1, 1, 2, 0, 1, 1, 2, 1, 0, 1, 0, 1, 1, 2, 2, 2, 1, 1, 0, 1, 0, 1,\n",
       "       1, 0, 1, 1, 0, 2, 0, 2, 1, 1, 0, 1, 1, 2, 2, 1, 1, 2, 1, 2, 1, 1,\n",
       "       0, 0, 0, 2, 2, 1, 2, 1, 1, 0, 2, 2, 0, 2, 1, 0, 1, 0, 2, 0, 1, 1,\n",
       "       1, 1, 1, 1, 1, 1, 1, 1, 1, 0, 2, 1, 1, 2, 1, 0, 1, 1, 1, 2, 0, 1,\n",
       "       0, 0, 0, 1, 1, 1, 2, 2, 1, 0, 1, 1, 2, 1, 0, 0, 2, 1, 2, 1, 0, 1,\n",
       "       1, 1, 1, 0, 1, 0, 0, 1, 2, 1, 1, 1, 2, 1, 0, 2, 1, 0, 1, 1, 0, 1,\n",
       "       1, 1, 1, 2, 2, 2, 1, 1, 1, 1, 1, 1, 0, 1, 1, 1, 1, 1, 0, 1, 0, 0,\n",
       "       1, 0, 0, 0, 0, 1, 2, 0, 2, 1, 0, 0, 2, 1, 1, 1, 1, 1, 0, 1, 0, 2,\n",
       "       0, 0, 2, 0, 1, 1, 1, 0, 0, 2, 1, 2, 2, 0, 2, 0, 1, 1, 0, 1, 1, 1,\n",
       "       0, 1, 2, 2, 1, 2, 0, 0, 2, 0, 1, 0, 0, 1, 0, 1, 0, 0, 0, 0, 0, 1,\n",
       "       2, 1, 1, 2, 1, 2, 2, 1, 1, 0, 1, 0, 1, 1, 1, 1, 1, 0, 1, 1, 2, 2,\n",
       "       0, 2, 2, 0, 1, 0, 1, 1, 1, 1, 0, 1, 0, 1, 0, 1, 1, 0, 1, 0, 0, 2,\n",
       "       0, 1, 1, 2, 1, 2, 2, 1, 0, 0, 1, 1, 2, 1, 1, 2, 1, 0, 1, 1, 0, 0,\n",
       "       1, 2, 0, 1, 2, 1, 2, 1, 0, 2, 1, 2, 2, 1, 0, 2, 0, 1, 1, 1, 0, 2,\n",
       "       2, 1, 0, 2, 1, 2, 0, 0, 0, 1, 0, 0, 1, 0, 1, 2, 2, 0, 0, 1, 0, 1,\n",
       "       2, 2, 1, 1, 1, 2, 2, 1, 0, 1, 1, 0, 2, 2, 2, 2, 1, 0, 1, 1, 0, 1,\n",
       "       1, 0, 1, 1, 0, 2, 1, 1, 1, 2, 1, 2, 1, 2, 2, 1, 0, 0, 0, 0, 1, 1,\n",
       "       2, 2, 2, 2, 2, 1, 2, 1, 1, 1, 1, 2, 1, 1, 0, 0, 1, 1, 1, 0, 1, 1,\n",
       "       1, 1, 2, 1, 1, 0, 2, 1, 1, 2, 1, 2, 1, 0, 1, 2, 1, 0, 2, 1, 0, 1,\n",
       "       0, 0, 1, 0, 1, 1, 0, 0, 2, 2, 1, 2, 1, 2, 1, 0, 2, 0, 0, 1, 1, 2,\n",
       "       2, 2, 1, 2, 2, 0, 1, 1, 2, 2, 1, 0, 2, 0, 2, 1, 1, 1, 1, 1, 1, 2,\n",
       "       1, 1, 2, 2, 0, 2, 1, 0, 1, 1, 1, 1, 2, 2, 1, 0, 1, 1, 1, 2, 0, 1,\n",
       "       0, 1, 1, 2, 0, 1, 0, 1, 1, 0, 1, 0, 0, 0, 0, 1, 1, 1, 2, 1, 1, 1,\n",
       "       1, 1, 1, 2, 0, 2, 2, 2, 1, 1, 2, 1, 1, 0, 0, 1, 2, 1, 0, 1, 1, 1,\n",
       "       1, 2, 1, 1, 1, 0, 1, 2, 1, 0, 2, 2, 2, 1, 1, 1, 2, 2, 1, 1, 1, 2,\n",
       "       1, 1, 0, 2, 1, 1, 2, 1, 1, 1, 1, 1, 2, 2, 1, 1, 1, 1, 1, 0, 0, 1,\n",
       "       2, 0, 0, 1, 1, 0, 1, 1, 0, 2, 2, 2, 2, 1, 0, 1, 2, 0, 2, 2, 0, 1,\n",
       "       0, 1, 2, 1, 0, 1, 0, 1, 1, 2, 1, 1, 1, 0, 1, 1, 1, 0, 1, 2, 1, 1,\n",
       "       0, 1, 1, 0, 2, 1, 2, 1, 0, 2, 0, 1, 1, 1, 1, 1, 2, 1, 0, 1, 2, 1,\n",
       "       2, 0, 0, 1, 1, 1, 1, 0, 2, 2, 0, 1, 1, 2, 2, 2, 1, 2, 1, 1, 1, 1,\n",
       "       2, 2, 0, 0, 2, 1, 1, 1, 1, 0, 2, 2, 0, 2, 2, 2, 1, 0, 1, 1, 0, 0,\n",
       "       1, 0, 1, 1, 0, 1, 1, 0, 1, 1, 0, 0, 1, 1, 2, 2, 1, 1, 1, 0, 2, 2,\n",
       "       2, 0, 1, 1, 1, 2, 2, 2, 1, 1, 1, 1, 1, 1, 1, 2, 2, 0, 1, 0, 0, 2,\n",
       "       0, 2, 2, 2, 1, 1, 1, 2, 2, 2, 1, 1, 0, 1, 2, 2, 2, 0, 2, 0, 1, 2,\n",
       "       1, 1, 2, 1, 2, 0, 1, 0, 2, 0, 1, 1, 2, 2, 1, 0, 0, 1, 0, 1, 2, 2,\n",
       "       0, 2, 1, 1, 1, 2, 1, 0, 1, 2, 1, 1, 2, 2, 0, 2, 2, 1, 2, 2, 1, 1,\n",
       "       1, 1, 2, 1, 1, 1, 1, 1, 1, 1, 1, 2, 1, 1, 1, 1, 1, 2, 1, 1, 1, 2,\n",
       "       0, 1, 1, 2, 0, 1, 0, 0, 1, 2, 1, 1, 2, 1, 2, 2, 0, 1, 2, 0, 1, 0,\n",
       "       1, 1, 1, 0, 0, 1, 1, 0, 0, 0, 0, 0, 2, 1, 1, 2, 1, 2, 1, 1, 1, 1,\n",
       "       1, 0, 1, 0, 1, 1, 2, 1, 2, 0, 2, 2, 2, 2, 1, 2, 2, 0, 1, 1, 1, 0,\n",
       "       2, 1, 1, 1, 1, 1, 1, 2, 2, 1, 1, 1, 0, 0, 2, 0, 1, 1, 1, 0, 2, 0,\n",
       "       2, 1, 1, 1, 2, 0, 0, 1, 2, 1, 0, 2, 2, 0, 1, 1, 2, 0, 1, 0, 1, 1,\n",
       "       1, 1, 0, 1, 1, 2, 1, 1, 1, 1], dtype=int32)"
      ]
     },
     "execution_count": 154,
     "metadata": {},
     "output_type": "execute_result"
    }
   ],
   "source": [
    "# Flip two coins several times.\n",
    "twoflips = np.random.binomial(2, 0.5, 1000)\n",
    "\n",
    "# Show.\n",
    "twoflips"
   ]
  },
  {
   "cell_type": "code",
   "execution_count": 155,
   "metadata": {},
   "outputs": [
    {
     "data": {
      "text/plain": [
       "(array([0, 1, 2], dtype=int32), array([249, 492, 259]))"
      ]
     },
     "execution_count": 155,
     "metadata": {},
     "output_type": "execute_result"
    }
   ],
   "source": [
    "\n",
    "# Count the number of times each value occurs.\n",
    "uniques, counts = np.unique(twoflips, return_counts=True)\n",
    "\n",
    "# Show.\n",
    "uniques, counts"
   ]
  },
  {
   "cell_type": "code",
   "execution_count": 156,
   "metadata": {},
   "outputs": [
    {
     "data": {
      "image/png": "[encoded data removed]",
      "text/plain": [
       "<Figure size 640x480 with 1 Axes>"
      ]
     },
     "metadata": {},
     "output_type": "display_data"
    }
   ],
   "source": [
    "# Create a blank plot.\n",
    "fig, ax = plt.subplots()\n",
    "\n",
    "# Create a bar chart.\n",
    "ax.bar(uniques, counts)\n",
    "\n",
    "# Set x ticks.\n",
    "ax.set_xticks(uniques)\n",
    "\n",
    "# Add title.\n",
    "ax.set_title('Flipping two coins 1000 times')\n",
    "\n",
    "# Add axis label.\n",
    "ax.set_xlabel('No heads')\n",
    "ax.set_ylabel('Count');"
   ]
  },
  {
   "cell_type": "code",
   "execution_count": 157,
   "metadata": {},
   "outputs": [
    {
     "data": {
      "text/plain": [
       "array([[1, 1],\n",
       "       [0, 1],\n",
       "       [1, 0],\n",
       "       ...,\n",
       "       [0, 1],\n",
       "       [1, 0],\n",
       "       [0, 1]], dtype=int32)"
      ]
     },
     "execution_count": 157,
     "metadata": {},
     "output_type": "execute_result"
    }
   ],
   "source": [
    "# Flip two coins several times, keeping the individual coin results.\n",
    "twoflipsind = np.random.binomial(1, 0.5, (1000, 2))\n",
    "\n",
    "# Show.\n",
    "twoflipsind"
   ]
  },
  {
   "cell_type": "code",
   "execution_count": 158,
   "metadata": {},
   "outputs": [
    {
     "data": {
      "text/plain": [
       "(array([[0, 0],\n",
       "        [0, 1],\n",
       "        [1, 0],\n",
       "        [1, 1]], dtype=int32),\n",
       " array([242, 254, 267, 237]))"
      ]
     },
     "execution_count": 158,
     "metadata": {},
     "output_type": "execute_result"
    }
   ],
   "source": [
    "# Count the number of times each value occurs.\n",
    "np.unique(twoflipsind, return_counts=True, axis=0)"
   ]
  },
  {
   "cell_type": "code",
   "execution_count": 159,
   "metadata": {},
   "outputs": [
    {
     "data": {
      "text/plain": [
       "(array([26, 27, 28, 29, 30, 31, 32, 33, 34, 35, 36, 37, 38, 39, 40, 41, 42,\n",
       "        43, 44, 45, 46, 47, 48, 49, 50, 51, 52, 53, 54, 55, 56, 57, 58, 59,\n",
       "        60, 61, 62, 63, 64, 65, 66, 67, 68, 69, 70, 71, 72, 74],\n",
       "       dtype=int32),\n",
       " array([    2,     1,     3,     7,    17,    41,   100,   237,   458,\n",
       "          827,  1593,  2725,  4533,  7005, 10841, 15847, 22421, 30216,\n",
       "        38852, 48434, 57803, 66667, 73650, 77907, 79525, 78406, 72653,\n",
       "        66634, 58419, 48740, 39035, 30119, 22043, 15767, 10772,  7106,\n",
       "         4553,  2706,  1585,   864,   458,   220,   108,    53,    30,\n",
       "            6,     9,     2]))"
      ]
     },
     "execution_count": 159,
     "metadata": {},
     "output_type": "execute_result"
    }
   ],
   "source": [
    "# Number of coins to flip.\n",
    "n = 100\n",
    "\n",
    "# Number of times to do it.\n",
    "k = 10000 * n\n",
    "\n",
    "# Flip two coins several times.\n",
    "nflips = np.random.binomial(n, 0.5, k)\n",
    "\n",
    "# Count the number of times each value occurs.\n",
    "uniques, counts = np.unique(nflips, return_counts=True)\n",
    "\n",
    "# Show.\n",
    "uniques, counts"
   ]
  },
  {
   "cell_type": "code",
   "execution_count": 160,
   "metadata": {},
   "outputs": [
    {
     "data": {
      "image/png": "[encoded data removed]",
      "text/plain": [
       "<Figure size 1200x500 with 1 Axes>"
      ]
     },
     "metadata": {},
     "output_type": "display_data"
    }
   ],
   "source": [
    "# Create a blank plot.\n",
    "fig, ax = plt.subplots(figsize=(12, 5))\n",
    "\n",
    "# Create a bar chart.\n",
    "ax.bar(uniques, counts)\n",
    "\n",
    "# Set x ticks.\n",
    "ax.set_xticks(uniques)\n",
    "\n",
    "# Add title.\n",
    "ax.set_title(f'Flipping {n} coins {k} times')\n",
    "\n",
    "# Add axis label.\n",
    "ax.set_xlabel('No heads')\n",
    "ax.set_ylabel('Count');"
   ]
  },
  {
   "cell_type": "code",
   "execution_count": 161,
   "metadata": {},
   "outputs": [],
   "source": [
    "#Probability density function\n",
    "def f(x, mu=0.0, sigma=1.0):\n",
    "  # The normalisation constant.\n",
    "  norm = 1.0 / np.sqrt(2.0 * np.pi * sigma**2)\n",
    "  \n",
    "  # f(x)\n",
    "  return norm * np.exp(-(x - mu)**2 / (2.0 * sigma**2))"
   ]
  },
  {
   "cell_type": "code",
   "execution_count": 162,
   "metadata": {},
   "outputs": [
    {
     "data": {
      "text/plain": [
       "np.float64(0.3989422804014327)"
      ]
     },
     "execution_count": 162,
     "metadata": {},
     "output_type": "execute_result"
    }
   ],
   "source": [
    "# Test the function.\n",
    "f(0.0)"
   ]
  },
  {
   "cell_type": "code",
   "execution_count": 163,
   "metadata": {},
   "outputs": [
    {
     "data": {
      "text/plain": [
       "(array([-5.  , -4.99, -4.98, ...,  4.98,  4.99,  5.  ]),\n",
       " array([1.48671951e-06, 1.56286711e-06, 1.64275059e-06, ...,\n",
       "        1.64275059e-06, 1.56286711e-06, 1.48671951e-06]))"
      ]
     },
     "execution_count": 163,
     "metadata": {},
     "output_type": "execute_result"
    }
   ],
   "source": [
    "\n",
    "# Create an x range.\n",
    "x = np.linspace(-5, 5, 1001)\n",
    "\n",
    "# Get y values.\n",
    "y = f(x)\n",
    "\n",
    "# Show.\n",
    "x, y"
   ]
  },
  {
   "cell_type": "code",
   "execution_count": 164,
   "metadata": {},
   "outputs": [
    {
     "data": {
      "image/png": "[encoded data removed]",
      "text/plain": [
       "<Figure size 640x480 with 1 Axes>"
      ]
     },
     "metadata": {},
     "output_type": "display_data"
    }
   ],
   "source": [
    "# Create an empty plot.\n",
    "fig, ax = plt.subplots()\n",
    "\n",
    "# Plot the function.\n",
    "ax.plot(x, y);"
   ]
  },
  {
   "cell_type": "code",
   "execution_count": 165,
   "metadata": {},
   "outputs": [
    {
     "data": {
      "image/png": "[encoded data removed]",
      "text/plain": [
       "<Figure size 1200x500 with 1 Axes>"
      ]
     },
     "metadata": {},
     "output_type": "display_data"
    }
   ],
   "source": [
    "# Number of coins to flip.\n",
    "n = 100\n",
    "\n",
    "# Number of times to do it.\n",
    "k = 10000 * n\n",
    "\n",
    "# Probability of heads.\n",
    "p = 0.5\n",
    "\n",
    "# Flip two coins several times.\n",
    "nflips = np.random.binomial(n, p, k)\n",
    "\n",
    "# Count the number of times each value occurs.\n",
    "uniques, counts = np.unique(nflips, return_counts=True)\n",
    "\n",
    "# Create a blank plot.\n",
    "fig, ax = plt.subplots(figsize=(12, 5))\n",
    "\n",
    "# Create a bar chart.\n",
    "ax.bar(uniques, counts / k)\n",
    "\n",
    "# Create an x range.\n",
    "x = np.linspace(25, 75, 1001)\n",
    "\n",
    "# Get y values.\n",
    "y = f(x, mu=n*p, sigma=np.sqrt(n * p * (1 - p)))\n",
    "\n",
    "# Plot the function.\n",
    "ax.plot(x, y, 'r-')\n",
    "\n",
    "# Set x ticks.\n",
    "ax.set_xticks(uniques)\n",
    "\n",
    "# Add title.\n",
    "ax.set_title(f'Flipping {n} coins {k} times')\n",
    "\n",
    "# Add axis label.\n",
    "ax.set_xlabel('No heads')\n",
    "ax.set_ylabel('Proportion');"
   ]
  },
  {
   "cell_type": "code",
   "execution_count": 166,
   "metadata": {},
   "outputs": [
    {
     "data": {
      "text/plain": [
       "array([ 0.0454099 , -0.28001346, -0.29330761, -0.64844743, -0.76794071,\n",
       "       -0.51564721])"
      ]
     },
     "execution_count": 166,
     "metadata": {},
     "output_type": "execute_result"
    }
   ],
   "source": [
    "# Generate a random normal sample.\n",
    "data = np.random.normal(size=6)\n",
    "\n",
    "# Show.\n",
    "data"
   ]
  },
  {
   "cell_type": "code",
   "execution_count": 167,
   "metadata": {},
   "outputs": [
    {
     "data": {
      "image/png": "[encoded data removed]",
      "text/plain": [
       "<Figure size 640x480 with 1 Axes>"
      ]
     },
     "metadata": {},
     "output_type": "display_data"
    }
   ],
   "source": [
    "# Create a blank plot.\n",
    "fig, ax = plt.subplots()\n",
    "\n",
    "# Count unique values.\n",
    "uniques, counts = np.unique(data, return_counts=True)\n",
    "\n",
    "# Create a bar chart.\n",
    "ax.bar(uniques, counts, width=0.05);"
   ]
  },
  {
   "cell_type": "code",
   "execution_count": 168,
   "metadata": {},
   "outputs": [
    {
     "data": {
      "text/plain": [
       "array([ 0.52622483,  0.88142363, -1.60465155, ...,  0.90382925,\n",
       "       -1.05906827,  1.39352608])"
      ]
     },
     "execution_count": 168,
     "metadata": {},
     "output_type": "execute_result"
    }
   ],
   "source": [
    "# Generate a random normal sample.\n",
    "data = np.random.normal(size=100000)\n",
    "\n",
    "# Show.\n",
    "data"
   ]
  },
  {
   "cell_type": "code",
   "execution_count": 169,
   "metadata": {},
   "outputs": [
    {
     "data": {
      "image/png": "[encoded data removed]",
      "text/plain": [
       "<Figure size 640x480 with 1 Axes>"
      ]
     },
     "metadata": {},
     "output_type": "display_data"
    }
   ],
   "source": [
    "# Create a blank plot.\n",
    "fig, ax = plt.subplots()\n",
    "\n",
    "# Create a histogram.\n",
    "ax.hist(data, edgecolor='black', density=True, bins=np.linspace(-4, 4, 31));"
   ]
  },
  {
   "cell_type": "code",
   "execution_count": 170,
   "metadata": {},
   "outputs": [
    {
     "data": {
      "image/png": "[encoded data removed]",
      "text/plain": [
       "<Figure size 640x480 with 1 Axes>"
      ]
     },
     "metadata": {},
     "output_type": "display_data"
    }
   ],
   "source": [
    "# Create an empty plot.\n",
    "fig, ax = plt.subplots()\n",
    "\n",
    "# Create a q-q plot.\n",
    "stats.probplot(data, dist='norm', plot=ax);"
   ]
  },
  {
   "cell_type": "code",
   "execution_count": 171,
   "metadata": {},
   "outputs": [
    {
     "data": {
      "text/plain": [
       "ShapiroResult(statistic=np.float64(0.9999639274765415), pvalue=np.float64(0.39278010298556926))"
      ]
     },
     "execution_count": 171,
     "metadata": {},
     "output_type": "execute_result"
    }
   ],
   "source": [
    "# Perform the Shapiro Wilk test.\n",
    "stats.shapiro(data)"
   ]
  },
  {
   "cell_type": "code",
   "execution_count": 172,
   "metadata": {},
   "outputs": [
    {
     "data": {
      "image/png": "[encoded data removed]",
      "text/plain": [
       "<Figure size 640x480 with 1 Axes>"
      ]
     },
     "metadata": {},
     "output_type": "display_data"
    }
   ],
   "source": [
    "# Adapted from: https://stackoverflow.com/a/10138308\n",
    "\n",
    "# Create a blank plot.\n",
    "fig, ax = plt.subplots()\n",
    "\n",
    "# X values.\n",
    "x = np.linspace(-4.0, 4.0, 1000)\n",
    "\n",
    "# Plot the normal distribution.\n",
    "plt.plot(x, stats.norm.pdf(x))\n",
    "\n",
    "# Shade in some areas.\n",
    "plt.fill_between(x, stats.norm.pdf(x), where=(x < -1.96) | (x > 1.96), color='green', alpha=0.8);"
   ]
  }
 ],
 "metadata": {
  "kernelspec": {
   "display_name": "Python 3",
   "language": "python",
   "name": "python3"
  },
  "language_info": {
   "codemirror_mode": {
    "name": "ipython",
    "version": 3
   },
   "file_extension": ".py",
   "mimetype": "text/x-python",
   "name": "python",
   "nbconvert_exporter": "python",
   "pygments_lexer": "ipython3",
   "version": "3.12.3"
  }
 },
 "nbformat": 4,
 "nbformat_minor": 2
}
