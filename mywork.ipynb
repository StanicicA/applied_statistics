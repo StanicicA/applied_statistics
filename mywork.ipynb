{
 "cells": [
  {
   "cell_type": "code",
   "execution_count": 1,
   "metadata": {},
   "outputs": [],
   "source": [
    "# Mathematical functions from the standard library.\n",
    "# https://docs.python.org/3/library/math.html\n",
    "import math\n",
    "\n",
    "# Permutations and combinations.\n",
    "# https://docs.python.org/3/library/itertools.html\n",
    "import itertools\n",
    "\n",
    "# Random selections.\n",
    "# https://docs.python.org/3/library/random.html\n",
    "import random\n",
    "\n",
    "# Numerical structures and operations.\n",
    "# https://numpy.org/doc/stable/reference/index.html#reference\n",
    "import numpy as np\n",
    "\n",
    "\n",
    "# Plotting.\n",
    "# https://matplotlib.org/stable/contents.html\n",
    "import matplotlib.pyplot as plt"
   ]
  },
  {
   "cell_type": "markdown",
   "metadata": {},
   "source": [
    "1 2 3 4 5 6 7 8 "
   ]
  },
  {
   "cell_type": "code",
   "execution_count": 2,
   "metadata": {},
   "outputs": [],
   "source": [
    "# Number of cups of tea in total \n",
    "\n",
    "no_cups = 8\n",
    "\n",
    "# Number of cups of tea with milk in first\n",
    "\n",
    "no_cups_milk_first = 4\n",
    "\n",
    "# Number of cups of tea with tea in firstno_cups_tea_first = 4\n",
    "\n",
    "no_cups_tea_first = 4 \n"
   ]
  },
  {
   "cell_type": "code",
   "execution_count": 3,
   "metadata": {},
   "outputs": [
    {
     "data": {
      "text/plain": [
       "70"
      ]
     },
     "execution_count": 3,
     "metadata": {},
     "output_type": "execute_result"
    }
   ],
   "source": [
    "# Number of ways of selecting four cups from eight\n",
    "ways = math.comb (no_cups, no_cups_milk_first)\n",
    "\n",
    "# Show \n",
    "ways\n"
   ]
  },
  {
   "cell_type": "code",
   "execution_count": 4,
   "metadata": {},
   "outputs": [
    {
     "data": {
      "text/plain": [
       "1680"
      ]
     },
     "execution_count": 4,
     "metadata": {},
     "output_type": "execute_result"
    }
   ],
   "source": [
    "# Total number of ways of selecting four cups from eight, keeping them in order.\n",
    "ways_ordered = 8 * 7 * 6 * 5\n",
    "\n",
    "# Show.\n",
    "ways_ordered"
   ]
  },
  {
   "cell_type": "code",
   "execution_count": 5,
   "metadata": {},
   "outputs": [
    {
     "data": {
      "text/plain": [
       "24"
      ]
     },
     "execution_count": 5,
     "metadata": {},
     "output_type": "execute_result"
    }
   ],
   "source": [
    "# No of ways of shuffling four cups\n",
    "no_shuffles = 4 * 3 * 2 * 1\n",
    "\n",
    "# Show.\n",
    "no_shuffles"
   ]
  },
  {
   "cell_type": "code",
   "execution_count": 6,
   "metadata": {},
   "outputs": [
    {
     "data": {
      "text/plain": [
       "70"
      ]
     },
     "execution_count": 6,
     "metadata": {},
     "output_type": "execute_result"
    }
   ],
   "source": [
    "# No of combinations.\n",
    "no_combs = ways_ordered // no_shuffles\n",
    "\n",
    "# Show.\n",
    "no_combs"
   ]
  },
  {
   "cell_type": "code",
   "execution_count": 7,
   "metadata": {},
   "outputs": [],
   "source": [
    "# Number of cups of tea in total.\n",
    "n = 8\n",
    "\n",
    "# Number of cups of tea with milk in first.\n",
    "k = 4"
   ]
  },
  {
   "cell_type": "code",
   "execution_count": 8,
   "metadata": {},
   "outputs": [
    {
     "data": {
      "text/plain": [
       "40320"
      ]
     },
     "execution_count": 8,
     "metadata": {},
     "output_type": "execute_result"
    }
   ],
   "source": [
    "# Eight factorial.\n",
    "math.factorial(n)\n"
   ]
  },
  {
   "cell_type": "code",
   "execution_count": 9,
   "metadata": {},
   "outputs": [
    {
     "data": {
      "text/plain": [
       "24"
      ]
     },
     "execution_count": 9,
     "metadata": {},
     "output_type": "execute_result"
    }
   ],
   "source": [
    "# Four factorial.\n",
    "math.factorial(k)"
   ]
  },
  {
   "cell_type": "code",
   "execution_count": 10,
   "metadata": {},
   "outputs": [
    {
     "data": {
      "text/plain": [
       "24"
      ]
     },
     "execution_count": 10,
     "metadata": {},
     "output_type": "execute_result"
    }
   ],
   "source": [
    "# Four factorial.\n",
    "math.factorial(n - k)\n"
   ]
  },
  {
   "cell_type": "code",
   "execution_count": 11,
   "metadata": {},
   "outputs": [
    {
     "data": {
      "text/plain": [
       "70"
      ]
     },
     "execution_count": 11,
     "metadata": {},
     "output_type": "execute_result"
    }
   ],
   "source": [
    "# No of ways of selecting k objects from n without replacement and without order.\n",
    "math.factorial(n) // (math.factorial(k) * math.factorial(n - k))"
   ]
  },
  {
   "cell_type": "code",
   "execution_count": 12,
   "metadata": {},
   "outputs": [
    {
     "data": {
      "text/plain": [
       "80658175170943878571660636856403766975289505440883277824000000000000"
      ]
     },
     "execution_count": 12,
     "metadata": {},
     "output_type": "execute_result"
    }
   ],
   "source": [
    "# How many ways are there to shuffle a deck of 52 cards?\n",
    "math.factorial(52)"
   ]
  },
  {
   "cell_type": "code",
   "execution_count": 13,
   "metadata": {},
   "outputs": [
    {
     "data": {
      "text/plain": [
       "[0, 1, 2, 3, 4, 5, 6, 7]"
      ]
     },
     "execution_count": 13,
     "metadata": {},
     "output_type": "execute_result"
    }
   ],
   "source": [
    "# The cup labels.\n",
    "labels = list(range(no_cups))\n",
    "\n",
    "# Show.\n",
    "labels"
   ]
  },
  {
   "cell_type": "code",
   "execution_count": 14,
   "metadata": {},
   "outputs": [
    {
     "data": {
      "text/plain": [
       "[(0, 1, 2, 3),\n",
       " (0, 1, 2, 4),\n",
       " (0, 1, 2, 5),\n",
       " (0, 1, 2, 6),\n",
       " (0, 1, 2, 7),\n",
       " (0, 1, 3, 4),\n",
       " (0, 1, 3, 5),\n",
       " (0, 1, 3, 6),\n",
       " (0, 1, 3, 7),\n",
       " (0, 1, 4, 5),\n",
       " (0, 1, 4, 6),\n",
       " (0, 1, 4, 7),\n",
       " (0, 1, 5, 6),\n",
       " (0, 1, 5, 7),\n",
       " (0, 1, 6, 7),\n",
       " (0, 2, 3, 4),\n",
       " (0, 2, 3, 5),\n",
       " (0, 2, 3, 6),\n",
       " (0, 2, 3, 7),\n",
       " (0, 2, 4, 5),\n",
       " (0, 2, 4, 6),\n",
       " (0, 2, 4, 7),\n",
       " (0, 2, 5, 6),\n",
       " (0, 2, 5, 7),\n",
       " (0, 2, 6, 7),\n",
       " (0, 3, 4, 5),\n",
       " (0, 3, 4, 6),\n",
       " (0, 3, 4, 7),\n",
       " (0, 3, 5, 6),\n",
       " (0, 3, 5, 7),\n",
       " (0, 3, 6, 7),\n",
       " (0, 4, 5, 6),\n",
       " (0, 4, 5, 7),\n",
       " (0, 4, 6, 7),\n",
       " (0, 5, 6, 7),\n",
       " (1, 2, 3, 4),\n",
       " (1, 2, 3, 5),\n",
       " (1, 2, 3, 6),\n",
       " (1, 2, 3, 7),\n",
       " (1, 2, 4, 5),\n",
       " (1, 2, 4, 6),\n",
       " (1, 2, 4, 7),\n",
       " (1, 2, 5, 6),\n",
       " (1, 2, 5, 7),\n",
       " (1, 2, 6, 7),\n",
       " (1, 3, 4, 5),\n",
       " (1, 3, 4, 6),\n",
       " (1, 3, 4, 7),\n",
       " (1, 3, 5, 6),\n",
       " (1, 3, 5, 7),\n",
       " (1, 3, 6, 7),\n",
       " (1, 4, 5, 6),\n",
       " (1, 4, 5, 7),\n",
       " (1, 4, 6, 7),\n",
       " (1, 5, 6, 7),\n",
       " (2, 3, 4, 5),\n",
       " (2, 3, 4, 6),\n",
       " (2, 3, 4, 7),\n",
       " (2, 3, 5, 6),\n",
       " (2, 3, 5, 7),\n",
       " (2, 3, 6, 7),\n",
       " (2, 4, 5, 6),\n",
       " (2, 4, 5, 7),\n",
       " (2, 4, 6, 7),\n",
       " (2, 5, 6, 7),\n",
       " (3, 4, 5, 6),\n",
       " (3, 4, 5, 7),\n",
       " (3, 4, 6, 7),\n",
       " (3, 5, 6, 7),\n",
       " (4, 5, 6, 7)]"
      ]
     },
     "execution_count": 14,
     "metadata": {},
     "output_type": "execute_result"
    }
   ],
   "source": [
    "# Show the different ways of selecting no_cups_milk_first out of no_cups cups of tea.\n",
    "combs = list(itertools.combinations(labels, no_cups_milk_first))\n",
    "\n",
    "# Show.\n",
    "combs"
   ]
  },
  {
   "cell_type": "code",
   "execution_count": 15,
   "metadata": {},
   "outputs": [
    {
     "data": {
      "text/plain": [
       "70"
      ]
     },
     "execution_count": 15,
     "metadata": {},
     "output_type": "execute_result"
    }
   ],
   "source": [
    "# Number of combinations.\n",
    "len(combs)"
   ]
  },
  {
   "cell_type": "code",
   "execution_count": 16,
   "metadata": {},
   "outputs": [
    {
     "data": {
      "text/plain": [
       "[0, 2, 5, 6]"
      ]
     },
     "execution_count": 16,
     "metadata": {},
     "output_type": "execute_result"
    }
   ],
   "source": [
    "# Select four cups at random to put milk in first.\n",
    "# https://docs.python.org/3/library/random.html#random.sample\n",
    "labels_milk = random.sample(labels, 4)\n",
    "\n",
    "# Sort, inplace.\n",
    "labels_milk.sort()\n",
    "\n",
    "# Show.\n",
    "labels_milk"
   ]
  },
  {
   "cell_type": "code",
   "execution_count": 17,
   "metadata": {},
   "outputs": [
    {
     "data": {
      "text/plain": [
       "{0, 2, 5, 6}"
      ]
     },
     "execution_count": 17,
     "metadata": {},
     "output_type": "execute_result"
    }
   ],
   "source": [
    "# Turn labels_milk into a set.\n",
    "# Uses: https://docs.python.org/3/tutorial/datastructures.html#sets\n",
    "set(labels_milk)"
   ]
  },
  {
   "cell_type": "code",
   "execution_count": 18,
   "metadata": {},
   "outputs": [
    {
     "name": "stdout",
     "output_type": "stream",
     "text": [
      "(0, 1, 2, 3) {0, 2} 2\n",
      "(0, 1, 2, 4) {0, 2} 2\n",
      "(0, 1, 2, 5) {0, 2, 5} 3\n",
      "(0, 1, 2, 6) {0, 2, 6} 3\n",
      "(0, 1, 2, 7) {0, 2} 2\n",
      "(0, 1, 3, 4) {0} 1\n",
      "(0, 1, 3, 5) {0, 5} 2\n",
      "(0, 1, 3, 6) {0, 6} 2\n",
      "(0, 1, 3, 7) {0} 1\n",
      "(0, 1, 4, 5) {0, 5} 2\n",
      "(0, 1, 4, 6) {0, 6} 2\n",
      "(0, 1, 4, 7) {0} 1\n",
      "(0, 1, 5, 6) {0, 5, 6} 3\n",
      "(0, 1, 5, 7) {0, 5} 2\n",
      "(0, 1, 6, 7) {0, 6} 2\n",
      "(0, 2, 3, 4) {0, 2} 2\n",
      "(0, 2, 3, 5) {0, 2, 5} 3\n",
      "(0, 2, 3, 6) {0, 2, 6} 3\n",
      "(0, 2, 3, 7) {0, 2} 2\n",
      "(0, 2, 4, 5) {0, 2, 5} 3\n",
      "(0, 2, 4, 6) {0, 2, 6} 3\n",
      "(0, 2, 4, 7) {0, 2} 2\n",
      "(0, 2, 5, 6) {0, 2, 5, 6} 4\n",
      "(0, 2, 5, 7) {0, 2, 5} 3\n",
      "(0, 2, 6, 7) {0, 2, 6} 3\n",
      "(0, 3, 4, 5) {0, 5} 2\n",
      "(0, 3, 4, 6) {0, 6} 2\n",
      "(0, 3, 4, 7) {0} 1\n",
      "(0, 3, 5, 6) {0, 5, 6} 3\n",
      "(0, 3, 5, 7) {0, 5} 2\n",
      "(0, 3, 6, 7) {0, 6} 2\n",
      "(0, 4, 5, 6) {0, 5, 6} 3\n",
      "(0, 4, 5, 7) {0, 5} 2\n",
      "(0, 4, 6, 7) {0, 6} 2\n",
      "(0, 5, 6, 7) {0, 5, 6} 3\n",
      "(1, 2, 3, 4) {2} 1\n",
      "(1, 2, 3, 5) {2, 5} 2\n",
      "(1, 2, 3, 6) {2, 6} 2\n",
      "(1, 2, 3, 7) {2} 1\n",
      "(1, 2, 4, 5) {2, 5} 2\n",
      "(1, 2, 4, 6) {2, 6} 2\n",
      "(1, 2, 4, 7) {2} 1\n",
      "(1, 2, 5, 6) {2, 5, 6} 3\n",
      "(1, 2, 5, 7) {2, 5} 2\n",
      "(1, 2, 6, 7) {2, 6} 2\n",
      "(1, 3, 4, 5) {5} 1\n",
      "(1, 3, 4, 6) {6} 1\n",
      "(1, 3, 4, 7) set() 0\n",
      "(1, 3, 5, 6) {5, 6} 2\n",
      "(1, 3, 5, 7) {5} 1\n",
      "(1, 3, 6, 7) {6} 1\n",
      "(1, 4, 5, 6) {5, 6} 2\n",
      "(1, 4, 5, 7) {5} 1\n",
      "(1, 4, 6, 7) {6} 1\n",
      "(1, 5, 6, 7) {5, 6} 2\n",
      "(2, 3, 4, 5) {2, 5} 2\n",
      "(2, 3, 4, 6) {2, 6} 2\n",
      "(2, 3, 4, 7) {2} 1\n",
      "(2, 3, 5, 6) {2, 5, 6} 3\n",
      "(2, 3, 5, 7) {2, 5} 2\n",
      "(2, 3, 6, 7) {2, 6} 2\n",
      "(2, 4, 5, 6) {2, 5, 6} 3\n",
      "(2, 4, 5, 7) {2, 5} 2\n",
      "(2, 4, 6, 7) {2, 6} 2\n",
      "(2, 5, 6, 7) {2, 5, 6} 3\n",
      "(3, 4, 5, 6) {5, 6} 2\n",
      "(3, 4, 5, 7) {5} 1\n",
      "(3, 4, 6, 7) {6} 1\n",
      "(3, 5, 6, 7) {5, 6} 2\n",
      "(4, 5, 6, 7) {5, 6} 2\n"
     ]
    }
   ],
   "source": [
    "# Calculate the overlap between each element of combs and labels_milk.\n",
    "\n",
    "no_overlaps = []\n",
    "\n",
    "for comb in combs:\n",
    "  # Turn comb into a set.\n",
    "  s1 = set(comb)\n",
    "  # Turn labels_milk into a set.\n",
    "  s2 = set(labels_milk)\n",
    "  # Figure out where they overlap.\n",
    "  overlap = s1.intersection(s2)\n",
    "  # Show the combination and the overlap.\n",
    "  print(comb, overlap, len(overlap))\n",
    "  # Append overlap to no_overlaps.\n",
    "  no_overlaps.append(len(overlap))"
   ]
  },
  {
   "cell_type": "code",
   "execution_count": 19,
   "metadata": {},
   "outputs": [
    {
     "name": "stdout",
     "output_type": "stream",
     "text": [
      "[2, 2, 3, 3, 2, 1, 2, 2, 1, 2, 2, 1, 3, 2, 2, 2, 3, 3, 2, 3, 3, 2, 4, 3, 3, 2, 2, 1, 3, 2, 2, 3, 2, 2, 3, 1, 2, 2, 1, 2, 2, 1, 3, 2, 2, 1, 1, 0, 2, 1, 1, 2, 1, 1, 2, 2, 2, 1, 3, 2, 2, 3, 2, 2, 3, 2, 1, 1, 2, 2]\n"
     ]
    }
   ],
   "source": [
    "# Show the overlaps.\n",
    "print(no_overlaps)"
   ]
  },
  {
   "cell_type": "code",
   "execution_count": 20,
   "metadata": {},
   "outputs": [
    {
     "data": {
      "text/plain": [
       "(array([0, 1, 2, 3, 4]), array([ 1, 16, 36, 16,  1]))"
      ]
     },
     "execution_count": 20,
     "metadata": {},
     "output_type": "execute_result"
    }
   ],
   "source": [
    "# Count the number of times each overlap occurs.\n",
    "counts = np.unique(no_overlaps, return_counts=True)\n",
    "\n",
    "# Show.\n",
    "counts"
   ]
  },
  {
   "cell_type": "code",
   "execution_count": 21,
   "metadata": {},
   "outputs": [
    {
     "data": {
      "image/png": "[encoded data removed]",
      "text/plain": [
       "<Figure size 600x400 with 1 Axes>"
      ]
     },
     "metadata": {},
     "output_type": "display_data"
    }
   ],
   "source": [
    "# Create a figure.\n",
    "fig, ax = plt.subplots(figsize=(6, 4))\n",
    "\n",
    "# Bar chart.\n",
    "ax.bar(counts[0], counts[1]);"
   ]
  },
  {
   "cell_type": "code",
   "execution_count": 22,
   "metadata": {},
   "outputs": [
    {
     "data": {
      "text/plain": [
       "0.014285714285714285"
      ]
     },
     "execution_count": 22,
     "metadata": {},
     "output_type": "execute_result"
    }
   ],
   "source": [
    "# The probability that the lady will choose the correct four cups\n",
    "\n",
    "1 / 70"
   ]
  },
  {
   "cell_type": "code",
   "execution_count": 23,
   "metadata": {},
   "outputs": [
    {
     "data": {
      "text/plain": [
       "0.24285714285714285"
      ]
     },
     "execution_count": 23,
     "metadata": {},
     "output_type": "execute_result"
    }
   ],
   "source": [
    "# The probability that she (randomly) selects at least three correct cups.\n",
    "(16 + 1) / 70"
   ]
  },
  {
   "cell_type": "code",
   "execution_count": 24,
   "metadata": {},
   "outputs": [],
   "source": [
    "# Binomial distribution requirements\n",
    "import numpy as np\n",
    "\n",
    "# Plotting.\n",
    "import matplotlib.pyplot as plt\n",
    "\n",
    "# Statistics.\n",
    "import scipy.stats as stats\n",
    "\n",
    "# Statistical models.\n",
    "import statsmodels as sm"
   ]
  },
  {
   "cell_type": "code",
   "execution_count": 25,
   "metadata": {},
   "outputs": [
    {
     "data": {
      "text/plain": [
       "1"
      ]
     },
     "execution_count": 25,
     "metadata": {},
     "output_type": "execute_result"
    }
   ],
   "source": [
    "# Flip a single coin.\n",
    "np.random.binomial(1, 0.5)"
   ]
  },
  {
   "cell_type": "code",
   "execution_count": 26,
   "metadata": {},
   "outputs": [
    {
     "data": {
      "text/plain": [
       "array([1, 0, 1, 1, 0, 0, 1, 0, 1, 0, 0, 0, 1, 0, 0, 0, 0, 1, 0, 0, 1, 0,\n",
       "       1, 0, 0, 0, 1, 0, 1, 0, 1, 0, 0, 0, 0, 0, 1, 0, 1, 0, 0, 0, 0, 0,\n",
       "       1, 0, 0, 0, 0, 1, 1, 1, 1, 0, 1, 0, 1, 0, 0, 0, 0, 1, 0, 1, 1, 0,\n",
       "       1, 0, 0, 1, 0, 0, 1, 1, 0, 0, 1, 1, 0, 0, 0, 0, 1, 0, 0, 1, 0, 1,\n",
       "       1, 0, 1, 1, 1, 0, 1, 0, 1, 1, 0, 0, 0, 1, 1, 0, 1, 0, 0, 0, 0, 0,\n",
       "       1, 1, 1, 1, 0, 1, 1, 0, 0, 1, 0, 0, 0, 0, 0, 1, 1, 0, 0, 0, 0, 0,\n",
       "       1, 0, 0, 0, 0, 0, 1, 0, 0, 1, 1, 1, 0, 1, 1, 0, 0, 0, 1, 0, 1, 0,\n",
       "       0, 0, 0, 1, 1, 0, 1, 0, 1, 1, 1, 1, 1, 1, 1, 0, 0, 0, 0, 1, 1, 1,\n",
       "       1, 1, 0, 1, 1, 1, 1, 0, 0, 0, 0, 0, 1, 1, 1, 1, 1, 1, 1, 1, 1, 0,\n",
       "       0, 0, 0, 0, 0, 0, 0, 1, 0, 1, 0, 1, 0, 1, 0, 0, 1, 1, 1, 0, 0, 0,\n",
       "       1, 1, 0, 1, 1, 0, 0, 0, 1, 0, 0, 0, 0, 0, 1, 0, 1, 1, 1, 0, 1, 0,\n",
       "       0, 1, 1, 1, 1, 1, 0, 1, 0, 1, 0, 1, 0, 1, 0, 1, 1, 0, 1, 0, 1, 0,\n",
       "       0, 0, 1, 1, 0, 0, 0, 1, 1, 0, 1, 0, 0, 1, 1, 1, 1, 1, 0, 0, 0, 0,\n",
       "       0, 1, 0, 1, 1, 1, 1, 1, 1, 0, 0, 1, 1, 0, 0, 1, 0, 1, 1, 1, 0, 1,\n",
       "       1, 0, 1, 0, 0, 1, 1, 0, 1, 1, 0, 0, 0, 0, 1, 1, 1, 1, 1, 1, 0, 1,\n",
       "       1, 1, 1, 0, 0, 0, 1, 1, 0, 0, 0, 0, 1, 0, 1, 1, 1, 1, 1, 1, 0, 0,\n",
       "       0, 1, 1, 0, 0, 1, 0, 1, 0, 1, 0, 0, 0, 0, 1, 0, 0, 1, 1, 1, 0, 0,\n",
       "       0, 1, 0, 0, 0, 1, 0, 0, 0, 0, 1, 1, 1, 0, 1, 1, 0, 1, 1, 0, 1, 0,\n",
       "       1, 1, 1, 0, 0, 0, 0, 0, 1, 0, 0, 1, 0, 0, 1, 0, 0, 0, 1, 1, 1, 1,\n",
       "       0, 0, 0, 0, 0, 0, 1, 0, 1, 1, 1, 1, 0, 1, 1, 1, 1, 1, 1, 0, 1, 0,\n",
       "       1, 1, 1, 1, 1, 1, 0, 0, 0, 1, 1, 1, 0, 1, 0, 0, 0, 0, 0, 0, 0, 0,\n",
       "       0, 1, 1, 0, 0, 0, 0, 0, 0, 0, 1, 1, 0, 0, 0, 0, 1, 1, 0, 0, 1, 1,\n",
       "       1, 0, 1, 1, 0, 0, 0, 0, 0, 0, 0, 0, 0, 1, 0, 0, 1, 1, 1, 0, 0, 0,\n",
       "       0, 1, 1, 1, 1, 1, 0, 1, 0, 1, 1, 0, 1, 1, 1, 1, 0, 0, 0, 0, 0, 0,\n",
       "       0, 1, 1, 0, 1, 1, 1, 0, 1, 0, 1, 0, 0, 1, 1, 0, 0, 0, 1, 1, 0, 0,\n",
       "       0, 1, 0, 0, 1, 0, 1, 1, 0, 0, 0, 0, 0, 1, 0, 0, 0, 0, 1, 0, 0, 0,\n",
       "       1, 1, 0, 0, 1, 1, 1, 0, 0, 1, 1, 0, 0, 1, 1, 0, 0, 0, 0, 0, 0, 0,\n",
       "       0, 1, 1, 0, 0, 1, 0, 1, 0, 1, 0, 1, 0, 0, 1, 0, 0, 0, 1, 0, 0, 1,\n",
       "       0, 1, 1, 0, 0, 0, 0, 0, 0, 1, 1, 0, 1, 0, 1, 0, 0, 0, 1, 1, 1, 1,\n",
       "       1, 1, 0, 1, 0, 0, 1, 0, 1, 1, 0, 0, 0, 0, 0, 0, 0, 0, 1, 1, 1, 0,\n",
       "       1, 1, 1, 0, 1, 0, 1, 0, 0, 1, 0, 1, 0, 1, 1, 0, 0, 0, 1, 0, 0, 1,\n",
       "       0, 1, 0, 0, 0, 1, 0, 0, 1, 0, 1, 0, 1, 1, 0, 0, 0, 1, 1, 1, 1, 0,\n",
       "       0, 1, 0, 0, 0, 1, 1, 1, 1, 0, 0, 0, 1, 0, 0, 0, 0, 1, 0, 0, 0, 0,\n",
       "       1, 0, 0, 1, 0, 1, 1, 0, 0, 0, 1, 0, 0, 1, 0, 1, 1, 1, 0, 1, 1, 0,\n",
       "       0, 0, 1, 0, 0, 0, 1, 0, 1, 0, 1, 1, 1, 1, 1, 1, 1, 0, 0, 0, 1, 0,\n",
       "       1, 1, 0, 1, 1, 0, 0, 0, 0, 1, 0, 0, 1, 1, 0, 0, 1, 1, 0, 1, 0, 1,\n",
       "       1, 0, 1, 0, 1, 1, 1, 0, 1, 0, 1, 1, 1, 1, 1, 0, 1, 0, 1, 1, 1, 0,\n",
       "       1, 1, 0, 0, 1, 1, 1, 0, 0, 1, 0, 1, 0, 1, 1, 1, 1, 1, 0, 0, 1, 1,\n",
       "       0, 1, 1, 1, 0, 0, 0, 0, 1, 1, 0, 1, 0, 1, 1, 1, 0, 1, 0, 1, 0, 1,\n",
       "       0, 1, 1, 0, 1, 1, 0, 0, 0, 0, 0, 0, 0, 0, 0, 1, 1, 1, 1, 1, 0, 0,\n",
       "       0, 1, 1, 0, 0, 0, 0, 1, 0, 1, 0, 1, 0, 0, 1, 0, 1, 0, 0, 0, 0, 0,\n",
       "       1, 1, 0, 1, 0, 1, 0, 1, 0, 1, 1, 0, 1, 1, 1, 1, 1, 0, 0, 1, 0, 1,\n",
       "       1, 1, 1, 0, 0, 1, 0, 1, 1, 0, 1, 1, 0, 1, 0, 0, 1, 1, 0, 0, 1, 1,\n",
       "       0, 1, 0, 1, 1, 1, 0, 0, 0, 1, 0, 1, 0, 0, 1, 1, 0, 0, 1, 0, 0, 0,\n",
       "       0, 0, 1, 0, 0, 1, 0, 1, 1, 0, 1, 1, 1, 0, 0, 0, 0, 1, 0, 1, 0, 1,\n",
       "       1, 0, 1, 1, 0, 0, 1, 1, 0, 1], dtype=int32)"
      ]
     },
     "execution_count": 26,
     "metadata": {},
     "output_type": "execute_result"
    }
   ],
   "source": [
    "# Flip a single coin several times.\n",
    "flips = np.random.binomial(1, 0.5, 1000)\n",
    "\n",
    "# Show.\n",
    "flips"
   ]
  },
  {
   "cell_type": "code",
   "execution_count": 27,
   "metadata": {},
   "outputs": [
    {
     "data": {
      "text/plain": [
       "np.int64(470)"
      ]
     },
     "execution_count": 27,
     "metadata": {},
     "output_type": "execute_result"
    }
   ],
   "source": [
    "# Count heads.\n",
    "heads = flips.sum()\n",
    "\n",
    "# Show.\n",
    "heads"
   ]
  },
  {
   "cell_type": "code",
   "execution_count": 28,
   "metadata": {},
   "outputs": [
    {
     "data": {
      "image/png": "[encoded data removed]",
      "text/plain": [
       "<Figure size 640x480 with 1 Axes>"
      ]
     },
     "metadata": {},
     "output_type": "display_data"
    }
   ],
   "source": [
    "\n",
    "# Create a blank plot.\n",
    "fig, ax = plt.subplots()\n",
    "# Create a bar chart.\n",
    "ax.bar([0, 1], [1000 - heads, heads])\n",
    "\n",
    "# Add x labels.\n",
    "ax.set_xticks([0, 1])\n",
    "\n",
    "# Add title.\n",
    "ax.set_title('Flipping a coin 1000 times')\n",
    "\n",
    "# Add axis label.\n",
    "ax.set_xlabel('No heads')\n",
    "ax.set_ylabel('Count');"
   ]
  },
  {
   "cell_type": "code",
   "execution_count": 29,
   "metadata": {},
   "outputs": [
    {
     "data": {
      "text/plain": [
       "array([1, 1, 0, 0, 1, 1, 2, 1, 1, 2, 1, 2, 1, 1, 1, 1, 1, 0, 1, 0, 1, 2,\n",
       "       0, 1, 2, 1, 1, 1, 0, 1, 0, 1, 0, 1, 1, 1, 0, 0, 1, 0, 2, 1, 2, 1,\n",
       "       1, 1, 0, 1, 1, 2, 1, 0, 1, 1, 1, 1, 1, 1, 0, 1, 1, 2, 2, 2, 2, 0,\n",
       "       1, 1, 1, 0, 1, 1, 2, 1, 2, 1, 2, 1, 0, 0, 1, 1, 0, 1, 1, 1, 1, 1,\n",
       "       0, 1, 1, 0, 2, 1, 1, 2, 1, 0, 1, 0, 1, 0, 1, 1, 1, 0, 0, 0, 0, 2,\n",
       "       0, 0, 2, 0, 0, 0, 1, 2, 2, 2, 1, 2, 1, 1, 0, 1, 1, 1, 0, 1, 2, 0,\n",
       "       0, 2, 1, 0, 1, 2, 0, 1, 2, 0, 0, 1, 2, 1, 2, 1, 1, 2, 2, 0, 0, 1,\n",
       "       2, 1, 0, 2, 2, 2, 1, 0, 1, 1, 1, 1, 1, 1, 1, 1, 0, 1, 1, 1, 0, 1,\n",
       "       1, 1, 0, 0, 1, 1, 1, 2, 0, 1, 1, 1, 1, 0, 1, 1, 0, 1, 1, 0, 1, 2,\n",
       "       0, 1, 0, 1, 2, 1, 0, 1, 1, 1, 1, 1, 2, 1, 1, 1, 2, 2, 2, 1, 2, 0,\n",
       "       1, 0, 2, 1, 0, 0, 1, 1, 1, 0, 1, 1, 1, 2, 1, 1, 2, 1, 1, 1, 1, 0,\n",
       "       1, 1, 1, 2, 2, 2, 1, 2, 1, 2, 1, 0, 2, 0, 0, 1, 1, 1, 2, 2, 0, 0,\n",
       "       1, 0, 2, 0, 0, 1, 1, 0, 0, 2, 1, 0, 0, 2, 1, 1, 2, 2, 1, 1, 1, 1,\n",
       "       0, 2, 1, 1, 2, 1, 0, 2, 2, 1, 2, 1, 1, 1, 0, 2, 0, 1, 2, 1, 1, 1,\n",
       "       1, 1, 1, 1, 1, 1, 0, 1, 2, 1, 1, 2, 1, 1, 0, 0, 1, 2, 0, 1, 0, 0,\n",
       "       1, 2, 0, 0, 2, 0, 0, 2, 0, 2, 1, 0, 0, 0, 1, 2, 2, 1, 0, 1, 0, 1,\n",
       "       0, 2, 1, 1, 1, 1, 1, 2, 2, 1, 1, 2, 2, 2, 1, 1, 1, 1, 0, 0, 1, 2,\n",
       "       2, 2, 1, 2, 0, 0, 1, 0, 0, 1, 2, 2, 1, 1, 1, 1, 1, 1, 1, 1, 2, 1,\n",
       "       0, 1, 0, 0, 0, 1, 1, 0, 0, 1, 1, 1, 0, 1, 1, 0, 2, 0, 1, 0, 1, 1,\n",
       "       1, 2, 0, 2, 2, 1, 0, 0, 2, 2, 2, 0, 1, 1, 1, 0, 0, 1, 2, 1, 1, 2,\n",
       "       2, 0, 0, 2, 0, 0, 2, 1, 2, 1, 0, 1, 1, 1, 2, 1, 2, 0, 0, 1, 2, 1,\n",
       "       0, 0, 0, 2, 1, 0, 2, 1, 1, 0, 1, 2, 2, 2, 2, 1, 1, 1, 1, 1, 1, 0,\n",
       "       0, 2, 2, 2, 1, 1, 1, 1, 0, 2, 2, 1, 1, 1, 2, 1, 1, 1, 1, 2, 2, 2,\n",
       "       0, 1, 1, 1, 0, 1, 1, 1, 1, 1, 0, 1, 1, 1, 2, 0, 1, 0, 2, 2, 1, 1,\n",
       "       1, 2, 1, 1, 1, 0, 1, 1, 1, 2, 1, 0, 0, 1, 1, 1, 2, 1, 1, 1, 1, 1,\n",
       "       2, 2, 2, 1, 2, 0, 1, 1, 0, 2, 1, 1, 1, 0, 1, 0, 2, 1, 1, 0, 2, 1,\n",
       "       0, 1, 1, 1, 0, 1, 1, 0, 2, 1, 1, 0, 2, 1, 0, 1, 1, 2, 1, 1, 2, 2,\n",
       "       2, 1, 1, 0, 2, 1, 2, 1, 1, 2, 1, 0, 1, 1, 1, 2, 0, 1, 0, 0, 0, 1,\n",
       "       1, 2, 1, 0, 1, 2, 0, 1, 1, 0, 1, 1, 2, 2, 2, 2, 1, 2, 1, 1, 0, 0,\n",
       "       1, 1, 2, 1, 1, 2, 0, 2, 1, 1, 2, 1, 1, 0, 1, 2, 0, 1, 1, 1, 1, 2,\n",
       "       0, 1, 1, 1, 0, 0, 0, 0, 0, 0, 2, 1, 2, 1, 0, 2, 0, 1, 1, 2, 1, 1,\n",
       "       0, 0, 0, 1, 2, 2, 1, 2, 2, 2, 2, 0, 1, 1, 2, 1, 1, 2, 1, 2, 2, 2,\n",
       "       0, 0, 1, 1, 2, 1, 0, 1, 2, 1, 0, 1, 1, 0, 1, 0, 1, 1, 1, 1, 1, 2,\n",
       "       2, 1, 0, 0, 1, 0, 1, 2, 0, 1, 1, 0, 2, 1, 2, 1, 0, 2, 1, 2, 0, 0,\n",
       "       0, 1, 2, 2, 1, 1, 1, 0, 1, 0, 1, 1, 0, 0, 1, 0, 0, 0, 1, 0, 1, 0,\n",
       "       0, 1, 2, 2, 1, 1, 1, 0, 2, 1, 1, 1, 1, 0, 1, 2, 1, 0, 2, 0, 0, 0,\n",
       "       1, 0, 2, 1, 1, 0, 2, 1, 1, 0, 0, 1, 2, 1, 2, 1, 1, 1, 2, 1, 0, 1,\n",
       "       1, 1, 0, 0, 1, 0, 0, 0, 0, 0, 2, 1, 0, 2, 2, 2, 2, 2, 0, 0, 2, 1,\n",
       "       1, 2, 1, 1, 1, 2, 2, 2, 1, 1, 1, 1, 0, 1, 2, 1, 1, 2, 1, 1, 2, 1,\n",
       "       1, 0, 2, 0, 0, 2, 0, 1, 1, 1, 1, 0, 1, 1, 1, 1, 0, 2, 0, 0, 0, 1,\n",
       "       1, 1, 1, 1, 0, 1, 1, 1, 1, 2, 1, 1, 0, 1, 2, 0, 1, 1, 0, 0, 1, 1,\n",
       "       0, 1, 2, 1, 1, 2, 2, 1, 1, 1, 1, 2, 0, 1, 1, 0, 0, 1, 2, 1, 1, 1,\n",
       "       1, 1, 1, 1, 1, 1, 2, 0, 1, 1, 1, 2, 1, 1, 1, 1, 1, 0, 1, 1, 1, 0,\n",
       "       0, 1, 1, 1, 1, 2, 2, 0, 1, 1, 0, 2, 0, 2, 1, 0, 0, 2, 1, 0, 1, 2,\n",
       "       1, 0, 1, 1, 2, 1, 0, 0, 1, 0, 2, 0, 1, 2, 2, 1, 0, 1, 1, 2, 0, 2,\n",
       "       1, 1, 2, 2, 2, 1, 2, 2, 1, 0], dtype=int32)"
      ]
     },
     "execution_count": 29,
     "metadata": {},
     "output_type": "execute_result"
    }
   ],
   "source": [
    "# Flip two coins several times.\n",
    "twoflips = np.random.binomial(2, 0.5, 1000)\n",
    "\n",
    "# Show.\n",
    "twoflips"
   ]
  },
  {
   "cell_type": "code",
   "execution_count": 30,
   "metadata": {},
   "outputs": [
    {
     "data": {
      "text/plain": [
       "(array([0, 1, 2], dtype=int32), array([260, 506, 234]))"
      ]
     },
     "execution_count": 30,
     "metadata": {},
     "output_type": "execute_result"
    }
   ],
   "source": [
    "\n",
    "# Count the number of times each value occurs.\n",
    "uniques, counts = np.unique(twoflips, return_counts=True)\n",
    "\n",
    "# Show.\n",
    "uniques, counts"
   ]
  },
  {
   "cell_type": "code",
   "execution_count": 31,
   "metadata": {},
   "outputs": [
    {
     "data": {
      "image/png": "[encoded data removed]",
      "text/plain": [
       "<Figure size 640x480 with 1 Axes>"
      ]
     },
     "metadata": {},
     "output_type": "display_data"
    }
   ],
   "source": [
    "# Create a blank plot.\n",
    "fig, ax = plt.subplots()\n",
    "\n",
    "# Create a bar chart.\n",
    "ax.bar(uniques, counts)\n",
    "\n",
    "# Set x ticks.\n",
    "ax.set_xticks(uniques)\n",
    "\n",
    "# Add title.\n",
    "ax.set_title('Flipping two coins 1000 times')\n",
    "\n",
    "# Add axis label.\n",
    "ax.set_xlabel('No heads')\n",
    "ax.set_ylabel('Count');"
   ]
  },
  {
   "cell_type": "code",
   "execution_count": 32,
   "metadata": {},
   "outputs": [
    {
     "data": {
      "text/plain": [
       "array([[1, 1],\n",
       "       [1, 1],\n",
       "       [1, 1],\n",
       "       ...,\n",
       "       [0, 0],\n",
       "       [0, 1],\n",
       "       [0, 1]], dtype=int32)"
      ]
     },
     "execution_count": 32,
     "metadata": {},
     "output_type": "execute_result"
    }
   ],
   "source": [
    "# Flip two coins several times, keeping the individual coin results.\n",
    "twoflipsind = np.random.binomial(1, 0.5, (1000, 2))\n",
    "\n",
    "# Show.\n",
    "twoflipsind"
   ]
  },
  {
   "cell_type": "code",
   "execution_count": 33,
   "metadata": {},
   "outputs": [
    {
     "data": {
      "text/plain": [
       "(array([[0, 0],\n",
       "        [0, 1],\n",
       "        [1, 0],\n",
       "        [1, 1]], dtype=int32),\n",
       " array([239, 270, 230, 261]))"
      ]
     },
     "execution_count": 33,
     "metadata": {},
     "output_type": "execute_result"
    }
   ],
   "source": [
    "# Count the number of times each value occurs.\n",
    "np.unique(twoflipsind, return_counts=True, axis=0)"
   ]
  },
  {
   "cell_type": "code",
   "execution_count": 34,
   "metadata": {},
   "outputs": [
    {
     "data": {
      "text/plain": [
       "(array([28, 29, 30, 31, 32, 33, 34, 35, 36, 37, 38, 39, 40, 41, 42, 43, 44,\n",
       "        45, 46, 47, 48, 49, 50, 51, 52, 53, 54, 55, 56, 57, 58, 59, 60, 61,\n",
       "        62, 63, 64, 65, 66, 67, 68, 69, 70, 71, 72, 73], dtype=int32),\n",
       " array([    3,     5,    19,    39,    96,   254,   446,   816,  1560,\n",
       "         2668,  4401,  7141, 10911, 15851, 22507, 30054, 38439, 48656,\n",
       "        58369, 66304, 73543, 78215, 79680, 78236, 72761, 66934, 58248,\n",
       "        48387, 38901, 29901, 22286, 15901, 10971,  7038,  4526,  2618,\n",
       "         1572,   856,   469,   231,   108,    42,    31,     2,     3,\n",
       "            1]))"
      ]
     },
     "execution_count": 34,
     "metadata": {},
     "output_type": "execute_result"
    }
   ],
   "source": [
    "# Number of coins to flip.\n",
    "n = 100\n",
    "\n",
    "# Number of times to do it.\n",
    "k = 10000 * n\n",
    "\n",
    "# Flip two coins several times.\n",
    "nflips = np.random.binomial(n, 0.5, k)\n",
    "\n",
    "# Count the number of times each value occurs.\n",
    "uniques, counts = np.unique(nflips, return_counts=True)\n",
    "\n",
    "# Show.\n",
    "uniques, counts"
   ]
  },
  {
   "cell_type": "code",
   "execution_count": 35,
   "metadata": {},
   "outputs": [
    {
     "data": {
      "image/png": "[encoded data removed]",
      "text/plain": [
       "<Figure size 1200x500 with 1 Axes>"
      ]
     },
     "metadata": {},
     "output_type": "display_data"
    }
   ],
   "source": [
    "# Create a blank plot.\n",
    "fig, ax = plt.subplots(figsize=(12, 5))\n",
    "\n",
    "# Create a bar chart.\n",
    "ax.bar(uniques, counts)\n",
    "\n",
    "# Set x ticks.\n",
    "ax.set_xticks(uniques)\n",
    "\n",
    "# Add title.\n",
    "ax.set_title(f'Flipping {n} coins {k} times')\n",
    "\n",
    "# Add axis label.\n",
    "ax.set_xlabel('No heads')\n",
    "ax.set_ylabel('Count');"
   ]
  },
  {
   "cell_type": "code",
   "execution_count": 36,
   "metadata": {},
   "outputs": [],
   "source": [
    "#Probability density function\n",
    "def f(x, mu=0.0, sigma=1.0):\n",
    "  # The normalisation constant.\n",
    "  norm = 1.0 / np.sqrt(2.0 * np.pi * sigma**2)\n",
    "  \n",
    "  # f(x)\n",
    "  return norm * np.exp(-(x - mu)**2 / (2.0 * sigma**2))"
   ]
  },
  {
   "cell_type": "code",
   "execution_count": 37,
   "metadata": {},
   "outputs": [
    {
     "data": {
      "text/plain": [
       "np.float64(0.3989422804014327)"
      ]
     },
     "execution_count": 37,
     "metadata": {},
     "output_type": "execute_result"
    }
   ],
   "source": [
    "# Test the function.\n",
    "f(0.0)"
   ]
  },
  {
   "cell_type": "code",
   "execution_count": 38,
   "metadata": {},
   "outputs": [
    {
     "data": {
      "text/plain": [
       "(array([-5.  , -4.99, -4.98, ...,  4.98,  4.99,  5.  ]),\n",
       " array([1.48671951e-06, 1.56286711e-06, 1.64275059e-06, ...,\n",
       "        1.64275059e-06, 1.56286711e-06, 1.48671951e-06]))"
      ]
     },
     "execution_count": 38,
     "metadata": {},
     "output_type": "execute_result"
    }
   ],
   "source": [
    "\n",
    "# Create an x range.\n",
    "x = np.linspace(-5, 5, 1001)\n",
    "\n",
    "# Get y values.\n",
    "y = f(x)\n",
    "\n",
    "# Show.\n",
    "x, y"
   ]
  },
  {
   "cell_type": "code",
   "execution_count": 39,
   "metadata": {},
   "outputs": [
    {
     "data": {
      "image/png": "[encoded data removed]",
      "text/plain": [
       "<Figure size 640x480 with 1 Axes>"
      ]
     },
     "metadata": {},
     "output_type": "display_data"
    }
   ],
   "source": [
    "# Create an empty plot.\n",
    "fig, ax = plt.subplots()\n",
    "\n",
    "# Plot the function.\n",
    "ax.plot(x, y);"
   ]
  },
  {
   "cell_type": "code",
   "execution_count": 40,
   "metadata": {},
   "outputs": [
    {
     "data": {
      "image/png": "[encoded data removed]",
      "text/plain": [
       "<Figure size 1200x500 with 1 Axes>"
      ]
     },
     "metadata": {},
     "output_type": "display_data"
    }
   ],
   "source": [
    "# Number of coins to flip.\n",
    "n = 100\n",
    "\n",
    "# Number of times to do it.\n",
    "k = 10000 * n\n",
    "\n",
    "# Probability of heads.\n",
    "p = 0.5\n",
    "\n",
    "# Flip two coins several times.\n",
    "nflips = np.random.binomial(n, p, k)\n",
    "\n",
    "# Count the number of times each value occurs.\n",
    "uniques, counts = np.unique(nflips, return_counts=True)\n",
    "\n",
    "# Create a blank plot.\n",
    "fig, ax = plt.subplots(figsize=(12, 5))\n",
    "\n",
    "# Create a bar chart.\n",
    "ax.bar(uniques, counts / k)\n",
    "\n",
    "# Create an x range.\n",
    "x = np.linspace(25, 75, 1001)\n",
    "\n",
    "# Get y values.\n",
    "y = f(x, mu=n*p, sigma=np.sqrt(n * p * (1 - p)))\n",
    "\n",
    "# Plot the function.\n",
    "ax.plot(x, y, 'r-')\n",
    "\n",
    "# Set x ticks.\n",
    "ax.set_xticks(uniques)\n",
    "\n",
    "# Add title.\n",
    "ax.set_title(f'Flipping {n} coins {k} times')\n",
    "\n",
    "# Add axis label.\n",
    "ax.set_xlabel('No heads')\n",
    "ax.set_ylabel('Proportion');"
   ]
  },
  {
   "cell_type": "code",
   "execution_count": 41,
   "metadata": {},
   "outputs": [
    {
     "data": {
      "text/plain": [
       "array([ 2.53389206,  0.7644279 , -0.36096562, -0.97285608,  0.28376466,\n",
       "        0.89909756])"
      ]
     },
     "execution_count": 41,
     "metadata": {},
     "output_type": "execute_result"
    }
   ],
   "source": [
    "# Generate a random normal sample.\n",
    "data = np.random.normal(size=6)\n",
    "\n",
    "# Show.\n",
    "data"
   ]
  },
  {
   "cell_type": "code",
   "execution_count": 42,
   "metadata": {},
   "outputs": [
    {
     "data": {
      "image/png": "[encoded data removed]",
      "text/plain": [
       "<Figure size 640x480 with 1 Axes>"
      ]
     },
     "metadata": {},
     "output_type": "display_data"
    }
   ],
   "source": [
    "# Create a blank plot.\n",
    "fig, ax = plt.subplots()\n",
    "\n",
    "# Count unique values.\n",
    "uniques, counts = np.unique(data, return_counts=True)\n",
    "\n",
    "# Create a bar chart.\n",
    "ax.bar(uniques, counts, width=0.05);"
   ]
  },
  {
   "cell_type": "code",
   "execution_count": 43,
   "metadata": {},
   "outputs": [
    {
     "data": {
      "text/plain": [
       "array([-1.88187946,  0.70515647,  0.43785812, ..., -0.85553819,\n",
       "       -0.18874363, -0.70594738])"
      ]
     },
     "execution_count": 43,
     "metadata": {},
     "output_type": "execute_result"
    }
   ],
   "source": [
    "# Generate a random normal sample.\n",
    "data = np.random.normal(size=100000)\n",
    "\n",
    "# Show.\n",
    "data"
   ]
  },
  {
   "cell_type": "code",
   "execution_count": 44,
   "metadata": {},
   "outputs": [
    {
     "data": {
      "image/png": "[encoded data removed]",
      "text/plain": [
       "<Figure size 640x480 with 1 Axes>"
      ]
     },
     "metadata": {},
     "output_type": "display_data"
    }
   ],
   "source": [
    "# Create a blank plot.\n",
    "fig, ax = plt.subplots()\n",
    "\n",
    "# Create a histogram.\n",
    "ax.hist(data, edgecolor='black', density=True, bins=np.linspace(-4, 4, 31));"
   ]
  },
  {
   "cell_type": "code",
   "execution_count": 45,
   "metadata": {},
   "outputs": [
    {
     "data": {
      "image/png": "[encoded data removed]",
      "text/plain": [
       "<Figure size 640x480 with 1 Axes>"
      ]
     },
     "metadata": {},
     "output_type": "display_data"
    }
   ],
   "source": [
    "# Create an empty plot.\n",
    "fig, ax = plt.subplots()\n",
    "\n",
    "# Create a q-q plot.\n",
    "stats.probplot(data, dist='norm', plot=ax);"
   ]
  },
  {
   "cell_type": "code",
   "execution_count": 46,
   "metadata": {},
   "outputs": [
    {
     "name": "stderr",
     "output_type": "stream",
     "text": [
      "c:\\Users\\andre\\OneDrive - Atlantic TU\\Desktop\\Lib\\site-packages\\scipy\\stats\\_axis_nan_policy.py:573: UserWarning: scipy.stats.shapiro: For N > 5000, computed p-value may not be accurate. Current N is 100000.\n",
      "  res = hypotest_fun_out(*samples, **kwds)\n"
     ]
    },
    {
     "data": {
      "text/plain": [
       "ShapiroResult(statistic=np.float64(0.9999862264656392), pvalue=np.float64(0.9923685122601045))"
      ]
     },
     "execution_count": 46,
     "metadata": {},
     "output_type": "execute_result"
    }
   ],
   "source": [
    "# Perform the Shapiro Wilk test.\n",
    "stats.shapiro(data)"
   ]
  },
  {
   "cell_type": "code",
   "execution_count": 47,
   "metadata": {},
   "outputs": [
    {
     "data": {
      "image/png": "[encoded data removed]",
      "text/plain": [
       "<Figure size 640x480 with 1 Axes>"
      ]
     },
     "metadata": {},
     "output_type": "display_data"
    }
   ],
   "source": [
    "# Adapted from: https://stackoverflow.com/a/10138308\n",
    "\n",
    "# Create a blank plot.\n",
    "fig, ax = plt.subplots()\n",
    "\n",
    "# X values.\n",
    "x = np.linspace(-4.0, 4.0, 1000)\n",
    "\n",
    "# Plot the normal distribution.\n",
    "plt.plot(x, stats.norm.pdf(x))\n",
    "\n",
    "# Shade in some areas.\n",
    "plt.fill_between(x, stats.norm.pdf(x), where=(x < -1.96) | (x > 1.96), color='green', alpha=0.8);"
   ]
  },
  {
   "cell_type": "code",
   "execution_count": 48,
   "metadata": {},
   "outputs": [],
   "source": [
    "#t-Test requirements\n",
    "# Numerical arrays.\n",
    "import numpy as np\n",
    "\n",
    "# Statistical functions.\n",
    "import scipy.stats as stats\n",
    "\n",
    "# Data frames.\n",
    "import pandas as pd\n",
    "\n",
    "# Plotting.\n",
    "import matplotlib.pyplot as plt\n",
    "\n",
    "# Statistical plots.\n",
    "import seaborn as sns"
   ]
  },
  {
   "cell_type": "code",
   "execution_count": 49,
   "metadata": {},
   "outputs": [
    {
     "data": {
      "text/plain": [
       "(array([6.0833902 , 2.31391   , 4.29520977, 6.99767463, 6.45278342,\n",
       "        7.93619339, 4.48647659, 3.49534718, 5.99065112, 5.29344064,\n",
       "        4.2563668 , 6.4985904 , 7.43328428, 6.96992728, 2.53202038,\n",
       "        6.80084508, 3.83030019, 7.7154597 , 3.60438322, 6.59410371,\n",
       "        4.81374296, 7.37483627, 5.24318651, 4.86571983, 1.90123773,\n",
       "        3.95419595, 7.75987463, 6.67341524, 1.88411528, 1.89181771]),\n",
       " array([-9.35107387e-04,  7.18774202e+00,  1.79089052e+00,  6.89055465e+00,\n",
       "         9.32566353e+00,  7.01734832e-01,  4.89503275e+00,  6.66618623e+00,\n",
       "         1.03571595e+01,  4.04539317e+00,  3.70942310e+00,  4.57060806e+00,\n",
       "         2.97480824e+00,  3.83245872e+00,  3.56606223e+00,  1.76948951e+00,\n",
       "         3.57532231e+00,  6.53599498e+00,  6.58572707e+00,  6.60870643e+00,\n",
       "         6.11702456e+00,  4.38783304e+00,  2.44635126e+00,  8.60051495e+00,\n",
       "         7.16633564e+00,  6.44168822e+00,  4.63134408e+00,  6.25745415e+00,\n",
       "         3.31241941e+00,  1.66571575e+00]))"
      ]
     },
     "execution_count": 49,
     "metadata": {},
     "output_type": "execute_result"
    }
   ],
   "source": [
    "# Group A\n",
    "group_a = np.random.normal(5, 2, 30)\n",
    "\n",
    "# Group B\n",
    "group_b = np.random.normal(5, 2, 30)\n",
    "\n",
    "# Show\n",
    "group_a, group_b"
   ]
  },
  {
   "cell_type": "code",
   "execution_count": 50,
   "metadata": {},
   "outputs": [
    {
     "data": {
      "image/png": "[encoded data removed]",
      "text/plain": [
       "<Figure size 1000x500 with 1 Axes>"
      ]
     },
     "metadata": {},
     "output_type": "display_data"
    }
   ],
   "source": [
    "# Create an empty data frame\n",
    "fig, ax = plt.subplots(figsize=(10, 5))\n",
    "\n",
    "# Create histogram\n",
    "ax.hist(group_a, bins=range(10), color='blue', alpha=0.5, label='Group A')\n",
    "\n",
    "# Create histogram\n",
    "ax.hist(group_b, bins=range(10), color='green', alpha=0.5, label='Group B');"
   ]
  },
  {
   "cell_type": "code",
   "execution_count": 51,
   "metadata": {},
   "outputs": [
    {
     "data": {
      "image/png": "[encoded data removed]",
      "text/plain": [
       "<Figure size 640x480 with 1 Axes>"
      ]
     },
     "metadata": {},
     "output_type": "display_data"
    }
   ],
   "source": [
    "# Create a strip plot\n",
    "sns.stripplot(data=[group_a, group_b]);"
   ]
  },
  {
   "cell_type": "code",
   "execution_count": 52,
   "metadata": {},
   "outputs": [
    {
     "data": {
      "image/png": "[encoded data removed]",
      "text/plain": [
       "<Figure size 640x480 with 1 Axes>"
      ]
     },
     "metadata": {},
     "output_type": "display_data"
    }
   ],
   "source": [
    "# Box plot\n",
    "sns.boxplot(data=[group_a, group_b]);"
   ]
  },
  {
   "cell_type": "code",
   "execution_count": 53,
   "metadata": {},
   "outputs": [
    {
     "data": {
      "text/plain": [
       "TtestResult(statistic=np.float64(0.5356343078314438), pvalue=np.float64(0.5942594132751072), df=np.float64(58.0))"
      ]
     },
     "execution_count": 53,
     "metadata": {},
     "output_type": "execute_result"
    }
   ],
   "source": [
    "#Independent Samples t-Test\n",
    "\n",
    "# Null Hypothesis: the population means are equal.\n",
    "\n",
    "# Perform a t-test.\n",
    "stats.ttest_ind(group_a, group_b)"
   ]
  },
  {
   "cell_type": "code",
   "execution_count": 54,
   "metadata": {},
   "outputs": [],
   "source": [
    "#Paired Samples t-Test\n",
    "# A group of normally distributed values.\n",
    "group_a = np.random.normal(5, 0.2, 30)"
   ]
  },
  {
   "cell_type": "code",
   "execution_count": 55,
   "metadata": {},
   "outputs": [
    {
     "data": {
      "image/png": "[encoded data removed]",
      "text/plain": [
       "<Figure size 640x480 with 1 Axes>"
      ]
     },
     "metadata": {},
     "output_type": "display_data"
    }
   ],
   "source": [
    "# Histgoram.\n",
    "plt.hist(group_a, color='blue', alpha=0.5, label='Group A');"
   ]
  },
  {
   "cell_type": "code",
   "execution_count": 56,
   "metadata": {},
   "outputs": [
    {
     "data": {
      "image/png": "[encoded data removed]",
      "text/plain": [
       "<Figure size 640x480 with 1 Axes>"
      ]
     },
     "metadata": {},
     "output_type": "display_data"
    }
   ],
   "source": [
    "# Strip plot.\n",
    "sns.stripplot(data=[group_a]);"
   ]
  },
  {
   "cell_type": "code",
   "execution_count": 57,
   "metadata": {},
   "outputs": [],
   "source": [
    "# A group of normally distributed values.\n",
    "group_a = np.random.normal(5, 0.2, 30)\n",
    "\n",
    "# Add normally distributed values.\n",
    "group_b = group_a + np.random.normal(0.2, 0.1, 30)"
   ]
  },
  {
   "cell_type": "code",
   "execution_count": 58,
   "metadata": {},
   "outputs": [
    {
     "data": {
      "image/png": "[encoded data removed]",
      "text/plain": [
       "<Figure size 640x480 with 1 Axes>"
      ]
     },
     "metadata": {},
     "output_type": "display_data"
    }
   ],
   "source": [
    "# Strip plot.\n",
    "sns.stripplot(data=[group_a, group_b]);"
   ]
  },
  {
   "cell_type": "code",
   "execution_count": 59,
   "metadata": {},
   "outputs": [
    {
     "data": {
      "text/plain": [
       "TtestResult(statistic=np.float64(-15.203421546184497), pvalue=np.float64(2.3718763160680467e-15), df=np.int64(29))"
      ]
     },
     "execution_count": 59,
     "metadata": {},
     "output_type": "execute_result"
    }
   ],
   "source": [
    "#scipy.stats.ttest_rel\n",
    "# Paired samples t-test.\n",
    "stats.ttest_rel(group_a, group_b)"
   ]
  },
  {
   "cell_type": "code",
   "execution_count": 60,
   "metadata": {},
   "outputs": [],
   "source": [
    "#ANOVA requirements\n",
    "# Numerical arrays.\n",
    "import numpy as np\n",
    "\n",
    "# Plotting.\n",
    "import matplotlib.pyplot as plt\n",
    "\n",
    "# Statistical functions.\n",
    "import scipy.stats as stats\n",
    "\n",
    "# Mathematical functions.\n",
    "import math\n",
    "\n",
    "# Data frames.\n",
    "import pandas as pd"
   ]
  },
  {
   "cell_type": "code",
   "execution_count": 61,
   "metadata": {},
   "outputs": [],
   "source": [
    "# First sample\n",
    "sample_a = np.random.normal(loc=10.0, scale=1.0, size=50)\n",
    "\n",
    "# Second sample\n",
    "sample_b = np.random.normal(loc=10.0, scale=1.0, size=50)\n",
    "\n",
    "# Third sample\n",
    "sample_c = np.random.normal(loc=10.0, scale=1.0, size=50)"
   ]
  },
  {
   "cell_type": "code",
   "execution_count": 62,
   "metadata": {},
   "outputs": [
    {
     "data": {
      "image/png": "[encoded data removed]",
      "text/plain": [
       "<Figure size 1000x500 with 1 Axes>"
      ]
     },
     "metadata": {},
     "output_type": "display_data"
    }
   ],
   "source": [
    "# Create histograms.\n",
    "fig, ax = plt.subplots(figsize=(10, 5))\n",
    "\n",
    "# Histogram of the first sample.\n",
    "ax.hist(sample_a, bins=10, alpha=0.5, label='Sample A')\n",
    "\n",
    "# Histogram of the second sample.\n",
    "ax.hist(sample_b, bins=10, alpha=0.5, label='Sample B')\n",
    "\n",
    "# Histogram of the third sample.\n",
    "ax.hist(sample_c, bins=10, alpha=0.5, label='Sample C')\n",
    "\n",
    "# Add a legend.\n",
    "ax.legend();"
   ]
  },
  {
   "cell_type": "code",
   "execution_count": 63,
   "metadata": {},
   "outputs": [
    {
     "data": {
      "text/plain": [
       "(np.float64(-0.0026445647235436008), np.float64(0.9978953209615825))"
      ]
     },
     "execution_count": 63,
     "metadata": {},
     "output_type": "execute_result"
    }
   ],
   "source": [
    "# Independent samples t-test on sample_a and sample_b.\n",
    "t_statistic, p_value = stats.ttest_ind(sample_a, sample_b)\n",
    "\n",
    "# Show.\n",
    "t_statistic, p_value"
   ]
  },
  {
   "cell_type": "code",
   "execution_count": 64,
   "metadata": {},
   "outputs": [
    {
     "data": {
      "text/plain": [
       "(np.float64(0.0026445647235436008), np.float64(0.9978953209615825))"
      ]
     },
     "execution_count": 64,
     "metadata": {},
     "output_type": "execute_result"
    }
   ],
   "source": [
    "# Independent samples t-test on sample_b and sample_a.\n",
    "t_statistic, p_value = stats.ttest_ind(sample_b, sample_a)\n",
    "\n",
    "# Show.\n",
    "t_statistic, p_value"
   ]
  },
  {
   "cell_type": "code",
   "execution_count": 65,
   "metadata": {},
   "outputs": [
    {
     "data": {
      "text/plain": [
       "(np.float64(-0.3421189396650788), np.float64(0.7329939921373022))"
      ]
     },
     "execution_count": 65,
     "metadata": {},
     "output_type": "execute_result"
    }
   ],
   "source": [
    "# Independent samples t-test on sample_a and sample_c.\n",
    "t_statistic, p_value = stats.ttest_ind(sample_a, sample_c)\n",
    "\n",
    "# Show.\n",
    "t_statistic, p_value"
   ]
  },
  {
   "cell_type": "code",
   "execution_count": 66,
   "metadata": {},
   "outputs": [
    {
     "data": {
      "text/plain": [
       "(np.float64(-0.3381673934570689), np.float64(0.7359604230867771))"
      ]
     },
     "execution_count": 66,
     "metadata": {},
     "output_type": "execute_result"
    }
   ],
   "source": [
    "# Independent samples t-test on sample_b and sample_c.\n",
    "t_statistic, p_value = stats.ttest_ind(sample_b, sample_c)\n",
    "\n",
    "# Show.\n",
    "t_statistic, p_value"
   ]
  },
  {
   "cell_type": "code",
   "execution_count": 67,
   "metadata": {},
   "outputs": [],
   "source": [
    "#n Samples\n",
    "# Number of samples.\n",
    "n = 4"
   ]
  },
  {
   "cell_type": "code",
   "execution_count": 68,
   "metadata": {},
   "outputs": [
    {
     "name": "stdout",
     "output_type": "stream",
     "text": [
      "[0, 1, 2, 3]\n"
     ]
    }
   ],
   "source": [
    "# Show the sample labels.\n",
    "print(list(range(4)))"
   ]
  },
  {
   "cell_type": "code",
   "execution_count": 69,
   "metadata": {},
   "outputs": [
    {
     "data": {
      "text/plain": [
       "6"
      ]
     },
     "execution_count": 69,
     "metadata": {},
     "output_type": "execute_result"
    }
   ],
   "source": [
    "# Number of ways of selecting two samples from n.\n",
    "math.comb(n, 2)"
   ]
  },
  {
   "cell_type": "code",
   "execution_count": 70,
   "metadata": {},
   "outputs": [
    {
     "data": {
      "text/plain": [
       "15"
      ]
     },
     "execution_count": 70,
     "metadata": {},
     "output_type": "execute_result"
    }
   ],
   "source": [
    "# Suppose we had 6 samples.\n",
    "n = 6\n",
    "math.comb(n, 2)"
   ]
  },
  {
   "cell_type": "code",
   "execution_count": 71,
   "metadata": {},
   "outputs": [
    {
     "data": {
      "text/plain": [
       "21"
      ]
     },
     "execution_count": 71,
     "metadata": {},
     "output_type": "execute_result"
    }
   ],
   "source": [
    "# Suppose we had 6 samples.\n",
    "n = 7\n",
    "math.comb(n, 2)"
   ]
  },
  {
   "cell_type": "code",
   "execution_count": 72,
   "metadata": {},
   "outputs": [],
   "source": [
    "#Type I Errors\n",
    "\n",
    "def simulate_ttest(alpha=0.05):\n",
    "    # Geneate a random sample a.\n",
    "    sample_a = np.random.normal(loc=10.0, scale=1.0, size=50)\n",
    "    # Generate similar sample b.\n",
    "    sample_b = np.random.normal(loc=10.0, scale=1.0, size=50)\n",
    "    \n",
    "    # Perform the t-test.\n",
    "    _, p_value = stats.ttest_ind(sample_a, sample_b)\n",
    "    \n",
    "    # Decide whether to reject the null hypothesis.\n",
    "    if p_value < alpha:\n",
    "        return True\n",
    "    else:\n",
    "        return False"
   ]
  },
  {
   "cell_type": "code",
   "execution_count": 73,
   "metadata": {},
   "outputs": [
    {
     "data": {
      "text/plain": [
       "488"
      ]
     },
     "execution_count": 73,
     "metadata": {},
     "output_type": "execute_result"
    }
   ],
   "source": [
    "# Number of rejections.\n",
    "no_rejections = 0\n",
    "\n",
    "# Run several simulations.\n",
    "for _ in range(10000):\n",
    "    # Check if the null hypothesis is rejected.\n",
    "    if simulate_ttest():\n",
    "        # Increment the number of rejections.\n",
    "        no_rejections += 1\n",
    "\n",
    "# Show the number of rejections.\n",
    "no_rejections"
   ]
  },
  {
   "cell_type": "code",
   "execution_count": 74,
   "metadata": {},
   "outputs": [],
   "source": [
    "#ANOVA\n",
    "# From Laerd.\n",
    "beginner = np.random.normal(27.2, 3.04777, 10)\n",
    "intermediate = np.random.normal(23.6, 3.30656, 10)\n",
    "advanced = np.random.normal(23.4, 3.23866, 10)"
   ]
  },
  {
   "cell_type": "code",
   "execution_count": 75,
   "metadata": {},
   "outputs": [
    {
     "data": {
      "text/html": [
       "<div>\n",
       "<style scoped>\n",
       "    .dataframe tbody tr th:only-of-type {\n",
       "        vertical-align: middle;\n",
       "    }\n",
       "\n",
       "    .dataframe tbody tr th {\n",
       "        vertical-align: top;\n",
       "    }\n",
       "\n",
       "    .dataframe thead th {\n",
       "        text-align: right;\n",
       "    }\n",
       "</style>\n",
       "<table border=\"1\" class=\"dataframe\">\n",
       "  <thead>\n",
       "    <tr style=\"text-align: right;\">\n",
       "      <th></th>\n",
       "      <th>Beginner</th>\n",
       "      <th>Intermediate</th>\n",
       "      <th>Advanced</th>\n",
       "    </tr>\n",
       "  </thead>\n",
       "  <tbody>\n",
       "    <tr>\n",
       "      <th>0</th>\n",
       "      <td>24.293928</td>\n",
       "      <td>25.053921</td>\n",
       "      <td>18.707073</td>\n",
       "    </tr>\n",
       "    <tr>\n",
       "      <th>1</th>\n",
       "      <td>26.395182</td>\n",
       "      <td>21.320917</td>\n",
       "      <td>22.030392</td>\n",
       "    </tr>\n",
       "    <tr>\n",
       "      <th>2</th>\n",
       "      <td>24.804057</td>\n",
       "      <td>23.272148</td>\n",
       "      <td>23.606397</td>\n",
       "    </tr>\n",
       "    <tr>\n",
       "      <th>3</th>\n",
       "      <td>30.576907</td>\n",
       "      <td>25.162673</td>\n",
       "      <td>23.477909</td>\n",
       "    </tr>\n",
       "    <tr>\n",
       "      <th>4</th>\n",
       "      <td>28.117964</td>\n",
       "      <td>25.874794</td>\n",
       "      <td>25.759727</td>\n",
       "    </tr>\n",
       "    <tr>\n",
       "      <th>5</th>\n",
       "      <td>31.558186</td>\n",
       "      <td>28.276270</td>\n",
       "      <td>24.641534</td>\n",
       "    </tr>\n",
       "    <tr>\n",
       "      <th>6</th>\n",
       "      <td>22.449168</td>\n",
       "      <td>23.678619</td>\n",
       "      <td>25.704932</td>\n",
       "    </tr>\n",
       "    <tr>\n",
       "      <th>7</th>\n",
       "      <td>24.538164</td>\n",
       "      <td>25.470967</td>\n",
       "      <td>25.877913</td>\n",
       "    </tr>\n",
       "    <tr>\n",
       "      <th>8</th>\n",
       "      <td>27.851706</td>\n",
       "      <td>22.840779</td>\n",
       "      <td>27.755920</td>\n",
       "    </tr>\n",
       "    <tr>\n",
       "      <th>9</th>\n",
       "      <td>25.770852</td>\n",
       "      <td>21.817968</td>\n",
       "      <td>26.520301</td>\n",
       "    </tr>\n",
       "  </tbody>\n",
       "</table>\n",
       "</div>"
      ],
      "text/plain": [
       "    Beginner  Intermediate   Advanced\n",
       "0  24.293928     25.053921  18.707073\n",
       "1  26.395182     21.320917  22.030392\n",
       "2  24.804057     23.272148  23.606397\n",
       "3  30.576907     25.162673  23.477909\n",
       "4  28.117964     25.874794  25.759727\n",
       "5  31.558186     28.276270  24.641534\n",
       "6  22.449168     23.678619  25.704932\n",
       "7  24.538164     25.470967  25.877913\n",
       "8  27.851706     22.840779  27.755920\n",
       "9  25.770852     21.817968  26.520301"
      ]
     },
     "execution_count": 75,
     "metadata": {},
     "output_type": "execute_result"
    }
   ],
   "source": [
    "# Create data frame.\n",
    "df = pd.DataFrame({'Beginner': beginner, 'Intermediate': intermediate, 'Advanced': advanced})\n",
    "\n",
    "# Show.\n",
    "df"
   ]
  },
  {
   "cell_type": "code",
   "execution_count": 76,
   "metadata": {},
   "outputs": [
    {
     "data": {
      "text/html": [
       "<div>\n",
       "<style scoped>\n",
       "    .dataframe tbody tr th:only-of-type {\n",
       "        vertical-align: middle;\n",
       "    }\n",
       "\n",
       "    .dataframe tbody tr th {\n",
       "        vertical-align: top;\n",
       "    }\n",
       "\n",
       "    .dataframe thead th {\n",
       "        text-align: right;\n",
       "    }\n",
       "</style>\n",
       "<table border=\"1\" class=\"dataframe\">\n",
       "  <thead>\n",
       "    <tr style=\"text-align: right;\">\n",
       "      <th></th>\n",
       "      <th>Beginner</th>\n",
       "      <th>Intermediate</th>\n",
       "      <th>Advanced</th>\n",
       "    </tr>\n",
       "  </thead>\n",
       "  <tbody>\n",
       "    <tr>\n",
       "      <th>count</th>\n",
       "      <td>10.000000</td>\n",
       "      <td>10.000000</td>\n",
       "      <td>10.000000</td>\n",
       "    </tr>\n",
       "    <tr>\n",
       "      <th>mean</th>\n",
       "      <td>26.635611</td>\n",
       "      <td>24.276906</td>\n",
       "      <td>24.408210</td>\n",
       "    </tr>\n",
       "    <tr>\n",
       "      <th>std</th>\n",
       "      <td>2.886965</td>\n",
       "      <td>2.096995</td>\n",
       "      <td>2.604611</td>\n",
       "    </tr>\n",
       "    <tr>\n",
       "      <th>min</th>\n",
       "      <td>22.449168</td>\n",
       "      <td>21.320917</td>\n",
       "      <td>18.707073</td>\n",
       "    </tr>\n",
       "    <tr>\n",
       "      <th>25%</th>\n",
       "      <td>24.604637</td>\n",
       "      <td>22.948621</td>\n",
       "      <td>23.510031</td>\n",
       "    </tr>\n",
       "    <tr>\n",
       "      <th>50%</th>\n",
       "      <td>26.083017</td>\n",
       "      <td>24.366270</td>\n",
       "      <td>25.173233</td>\n",
       "    </tr>\n",
       "    <tr>\n",
       "      <th>75%</th>\n",
       "      <td>28.051399</td>\n",
       "      <td>25.393894</td>\n",
       "      <td>25.848366</td>\n",
       "    </tr>\n",
       "    <tr>\n",
       "      <th>max</th>\n",
       "      <td>31.558186</td>\n",
       "      <td>28.276270</td>\n",
       "      <td>27.755920</td>\n",
       "    </tr>\n",
       "  </tbody>\n",
       "</table>\n",
       "</div>"
      ],
      "text/plain": [
       "        Beginner  Intermediate   Advanced\n",
       "count  10.000000     10.000000  10.000000\n",
       "mean   26.635611     24.276906  24.408210\n",
       "std     2.886965      2.096995   2.604611\n",
       "min    22.449168     21.320917  18.707073\n",
       "25%    24.604637     22.948621  23.510031\n",
       "50%    26.083017     24.366270  25.173233\n",
       "75%    28.051399     25.393894  25.848366\n",
       "max    31.558186     28.276270  27.755920"
      ]
     },
     "execution_count": 76,
     "metadata": {},
     "output_type": "execute_result"
    }
   ],
   "source": [
    "# Describe.\n",
    "df.describe()"
   ]
  },
  {
   "cell_type": "code",
   "execution_count": 77,
   "metadata": {},
   "outputs": [
    {
     "data": {
      "text/plain": [
       "(np.float64(2.700881062036092), np.float64(0.08525783890195654))"
      ]
     },
     "execution_count": 77,
     "metadata": {},
     "output_type": "execute_result"
    }
   ],
   "source": [
    "# Perform ANOVA.\n",
    "f_statistic, p_value = stats.f_oneway(df['Beginner'], df['Intermediate'], df['Advanced'])\n",
    "\n",
    "# Show.\n",
    "f_statistic, p_value"
   ]
  },
  {
   "cell_type": "code",
   "execution_count": 78,
   "metadata": {},
   "outputs": [
    {
     "name": "stdout",
     "output_type": "stream",
     "text": [
      "Tukey's HSD Pairwise Group Comparisons (95.0% Confidence Interval)\n",
      "Comparison  Statistic  p-value  Lower CI  Upper CI\n",
      " (0 - 1)      2.359     0.116    -0.469     5.187\n",
      " (0 - 2)      2.227     0.144    -0.601     5.056\n",
      " (1 - 0)     -2.359     0.116    -5.187     0.469\n",
      " (1 - 2)     -0.131     0.993    -2.959     2.697\n",
      " (2 - 0)     -2.227     0.144    -5.056     0.601\n",
      " (2 - 1)      0.131     0.993    -2.697     2.959\n",
      "\n"
     ]
    }
   ],
   "source": [
    "# Tukey's HSD.\n",
    "res = stats.tukey_hsd(df['Beginner'], df['Intermediate'], df['Advanced'])\n",
    "\n",
    "# Show.\n",
    "print(res)"
   ]
  },
  {
   "cell_type": "code",
   "execution_count": 79,
   "metadata": {},
   "outputs": [
    {
     "data": {
      "text/plain": [
       "array([26.4526716 , 30.73948711, 32.33064632, 27.29708933, 33.97261459,\n",
       "       32.00231467, 21.02022896, 23.61566994, 28.80527057, 29.181592  ,\n",
       "       24.70865249, 22.37038816, 18.82420345, 25.65917815, 22.87023361,\n",
       "       22.35572547, 22.5133743 , 27.62034549, 24.39301957, 18.96831976,\n",
       "       21.14863138, 24.04297205, 25.67042008, 22.60790948, 25.83135839,\n",
       "       23.01631089, 25.67448683, 20.18437629, 20.89575264, 16.15308234])"
      ]
     },
     "execution_count": 79,
     "metadata": {},
     "output_type": "execute_result"
    }
   ],
   "source": [
    "#Presenting the data \n",
    "# From Laerd.\n",
    "beginner = np.random.normal(27.2, 3.04777, 10)\n",
    "intermediate = np.random.normal(23.6, 3.30656, 10)\n",
    "advanced = np.random.normal(23.4, 3.23866, 10)\n",
    "\n",
    "# Concatenate arrays.\n",
    "data = np.concatenate([beginner, intermediate, advanced])\n",
    "\n",
    "# Show.\n",
    "data"
   ]
  },
  {
   "cell_type": "code",
   "execution_count": 80,
   "metadata": {},
   "outputs": [
    {
     "data": {
      "text/plain": [
       "['Beginner',\n",
       " 'Beginner',\n",
       " 'Beginner',\n",
       " 'Beginner',\n",
       " 'Beginner',\n",
       " 'Beginner',\n",
       " 'Beginner',\n",
       " 'Beginner',\n",
       " 'Beginner',\n",
       " 'Beginner',\n",
       " 'Intermediate',\n",
       " 'Intermediate',\n",
       " 'Intermediate',\n",
       " 'Intermediate',\n",
       " 'Intermediate',\n",
       " 'Intermediate',\n",
       " 'Intermediate',\n",
       " 'Intermediate',\n",
       " 'Intermediate',\n",
       " 'Intermediate',\n",
       " 'Advanced',\n",
       " 'Advanced',\n",
       " 'Advanced',\n",
       " 'Advanced',\n",
       " 'Advanced',\n",
       " 'Advanced',\n",
       " 'Advanced',\n",
       " 'Advanced',\n",
       " 'Advanced',\n",
       " 'Advanced']"
      ]
     },
     "execution_count": 80,
     "metadata": {},
     "output_type": "execute_result"
    }
   ],
   "source": [
    "# Create the labels.\n",
    "labels = ['Beginner'] * 10 + ['Intermediate'] * 10 + ['Advanced'] * 10\n",
    "\n",
    "# Show.\n",
    "labels"
   ]
  },
  {
   "cell_type": "code",
   "execution_count": 81,
   "metadata": {},
   "outputs": [
    {
     "data": {
      "text/html": [
       "<div>\n",
       "<style scoped>\n",
       "    .dataframe tbody tr th:only-of-type {\n",
       "        vertical-align: middle;\n",
       "    }\n",
       "\n",
       "    .dataframe tbody tr th {\n",
       "        vertical-align: top;\n",
       "    }\n",
       "\n",
       "    .dataframe thead th {\n",
       "        text-align: right;\n",
       "    }\n",
       "</style>\n",
       "<table border=\"1\" class=\"dataframe\">\n",
       "  <thead>\n",
       "    <tr style=\"text-align: right;\">\n",
       "      <th></th>\n",
       "      <th>Course</th>\n",
       "      <th>Time</th>\n",
       "    </tr>\n",
       "  </thead>\n",
       "  <tbody>\n",
       "    <tr>\n",
       "      <th>0</th>\n",
       "      <td>Beginner</td>\n",
       "      <td>26.452672</td>\n",
       "    </tr>\n",
       "    <tr>\n",
       "      <th>1</th>\n",
       "      <td>Beginner</td>\n",
       "      <td>30.739487</td>\n",
       "    </tr>\n",
       "    <tr>\n",
       "      <th>2</th>\n",
       "      <td>Beginner</td>\n",
       "      <td>32.330646</td>\n",
       "    </tr>\n",
       "    <tr>\n",
       "      <th>3</th>\n",
       "      <td>Beginner</td>\n",
       "      <td>27.297089</td>\n",
       "    </tr>\n",
       "    <tr>\n",
       "      <th>4</th>\n",
       "      <td>Beginner</td>\n",
       "      <td>33.972615</td>\n",
       "    </tr>\n",
       "    <tr>\n",
       "      <th>5</th>\n",
       "      <td>Beginner</td>\n",
       "      <td>32.002315</td>\n",
       "    </tr>\n",
       "    <tr>\n",
       "      <th>6</th>\n",
       "      <td>Beginner</td>\n",
       "      <td>21.020229</td>\n",
       "    </tr>\n",
       "    <tr>\n",
       "      <th>7</th>\n",
       "      <td>Beginner</td>\n",
       "      <td>23.615670</td>\n",
       "    </tr>\n",
       "    <tr>\n",
       "      <th>8</th>\n",
       "      <td>Beginner</td>\n",
       "      <td>28.805271</td>\n",
       "    </tr>\n",
       "    <tr>\n",
       "      <th>9</th>\n",
       "      <td>Beginner</td>\n",
       "      <td>29.181592</td>\n",
       "    </tr>\n",
       "    <tr>\n",
       "      <th>10</th>\n",
       "      <td>Intermediate</td>\n",
       "      <td>24.708652</td>\n",
       "    </tr>\n",
       "    <tr>\n",
       "      <th>11</th>\n",
       "      <td>Intermediate</td>\n",
       "      <td>22.370388</td>\n",
       "    </tr>\n",
       "    <tr>\n",
       "      <th>12</th>\n",
       "      <td>Intermediate</td>\n",
       "      <td>18.824203</td>\n",
       "    </tr>\n",
       "    <tr>\n",
       "      <th>13</th>\n",
       "      <td>Intermediate</td>\n",
       "      <td>25.659178</td>\n",
       "    </tr>\n",
       "    <tr>\n",
       "      <th>14</th>\n",
       "      <td>Intermediate</td>\n",
       "      <td>22.870234</td>\n",
       "    </tr>\n",
       "    <tr>\n",
       "      <th>15</th>\n",
       "      <td>Intermediate</td>\n",
       "      <td>22.355725</td>\n",
       "    </tr>\n",
       "    <tr>\n",
       "      <th>16</th>\n",
       "      <td>Intermediate</td>\n",
       "      <td>22.513374</td>\n",
       "    </tr>\n",
       "    <tr>\n",
       "      <th>17</th>\n",
       "      <td>Intermediate</td>\n",
       "      <td>27.620345</td>\n",
       "    </tr>\n",
       "    <tr>\n",
       "      <th>18</th>\n",
       "      <td>Intermediate</td>\n",
       "      <td>24.393020</td>\n",
       "    </tr>\n",
       "    <tr>\n",
       "      <th>19</th>\n",
       "      <td>Intermediate</td>\n",
       "      <td>18.968320</td>\n",
       "    </tr>\n",
       "    <tr>\n",
       "      <th>20</th>\n",
       "      <td>Advanced</td>\n",
       "      <td>21.148631</td>\n",
       "    </tr>\n",
       "    <tr>\n",
       "      <th>21</th>\n",
       "      <td>Advanced</td>\n",
       "      <td>24.042972</td>\n",
       "    </tr>\n",
       "    <tr>\n",
       "      <th>22</th>\n",
       "      <td>Advanced</td>\n",
       "      <td>25.670420</td>\n",
       "    </tr>\n",
       "    <tr>\n",
       "      <th>23</th>\n",
       "      <td>Advanced</td>\n",
       "      <td>22.607909</td>\n",
       "    </tr>\n",
       "    <tr>\n",
       "      <th>24</th>\n",
       "      <td>Advanced</td>\n",
       "      <td>25.831358</td>\n",
       "    </tr>\n",
       "    <tr>\n",
       "      <th>25</th>\n",
       "      <td>Advanced</td>\n",
       "      <td>23.016311</td>\n",
       "    </tr>\n",
       "    <tr>\n",
       "      <th>26</th>\n",
       "      <td>Advanced</td>\n",
       "      <td>25.674487</td>\n",
       "    </tr>\n",
       "    <tr>\n",
       "      <th>27</th>\n",
       "      <td>Advanced</td>\n",
       "      <td>20.184376</td>\n",
       "    </tr>\n",
       "    <tr>\n",
       "      <th>28</th>\n",
       "      <td>Advanced</td>\n",
       "      <td>20.895753</td>\n",
       "    </tr>\n",
       "    <tr>\n",
       "      <th>29</th>\n",
       "      <td>Advanced</td>\n",
       "      <td>16.153082</td>\n",
       "    </tr>\n",
       "  </tbody>\n",
       "</table>\n",
       "</div>"
      ],
      "text/plain": [
       "          Course       Time\n",
       "0       Beginner  26.452672\n",
       "1       Beginner  30.739487\n",
       "2       Beginner  32.330646\n",
       "3       Beginner  27.297089\n",
       "4       Beginner  33.972615\n",
       "5       Beginner  32.002315\n",
       "6       Beginner  21.020229\n",
       "7       Beginner  23.615670\n",
       "8       Beginner  28.805271\n",
       "9       Beginner  29.181592\n",
       "10  Intermediate  24.708652\n",
       "11  Intermediate  22.370388\n",
       "12  Intermediate  18.824203\n",
       "13  Intermediate  25.659178\n",
       "14  Intermediate  22.870234\n",
       "15  Intermediate  22.355725\n",
       "16  Intermediate  22.513374\n",
       "17  Intermediate  27.620345\n",
       "18  Intermediate  24.393020\n",
       "19  Intermediate  18.968320\n",
       "20      Advanced  21.148631\n",
       "21      Advanced  24.042972\n",
       "22      Advanced  25.670420\n",
       "23      Advanced  22.607909\n",
       "24      Advanced  25.831358\n",
       "25      Advanced  23.016311\n",
       "26      Advanced  25.674487\n",
       "27      Advanced  20.184376\n",
       "28      Advanced  20.895753\n",
       "29      Advanced  16.153082"
      ]
     },
     "execution_count": 81,
     "metadata": {},
     "output_type": "execute_result"
    }
   ],
   "source": [
    "# Create data frame.\n",
    "df = pd.DataFrame({'Course': labels, 'Time': data})\n",
    "\n",
    "# Show.\n",
    "df"
   ]
  },
  {
   "cell_type": "code",
   "execution_count": 82,
   "metadata": {},
   "outputs": [
    {
     "data": {
      "text/plain": [
       "(np.float64(10.038020990945663), np.float64(0.0005503153239185964))"
      ]
     },
     "execution_count": 82,
     "metadata": {},
     "output_type": "execute_result"
    }
   ],
   "source": [
    "# Pull the groups out.\n",
    "b_times = df[df['Course'] == 'Beginner']['Time']\n",
    "i_times = df[df['Course'] == 'Intermediate']['Time']\n",
    "a_times = df[df['Course'] == 'Advanced']['Time']\n",
    "\n",
    "# Perform ANOVA.\n",
    "f, p = stats.f_oneway(b_times, i_times, a_times)\n",
    "\n",
    "# Show.\n",
    "f, p"
   ]
  },
  {
   "cell_type": "code",
   "execution_count": 83,
   "metadata": {},
   "outputs": [
    {
     "name": "stdout",
     "output_type": "stream",
     "text": [
      "Tukey's HSD Pairwise Group Comparisons (95.0% Confidence Interval)\n",
      "Comparison  Statistic  p-value  Lower CI  Upper CI\n",
      " (0 - 1)      5.513     0.003     1.818     9.209\n",
      " (0 - 2)      6.019     0.001     2.324     9.714\n",
      " (1 - 0)     -5.513     0.003    -9.209    -1.818\n",
      " (1 - 2)      0.506     0.939    -3.189     4.201\n",
      " (2 - 0)     -6.019     0.001    -9.714    -2.324\n",
      " (2 - 1)     -0.506     0.939    -4.201     3.189\n",
      "\n"
     ]
    }
   ],
   "source": [
    "# Tukey's HSD.\n",
    "res = stats.tukey_hsd(b_times, i_times, a_times)\n",
    "\n",
    "# Show.\n",
    "print(res)"
   ]
  },
  {
   "cell_type": "code",
   "execution_count": 84,
   "metadata": {},
   "outputs": [],
   "source": [
    "#The F Statistic using numpy\n",
    "# From Laerd.\n",
    "beginner = np.random.normal(27.2, 3.04777, 10)\n",
    "intermediate = np.random.normal(23.6, 3.30656, 10)\n",
    "advanced = np.random.normal(23.4, 3.23866, 10)"
   ]
  },
  {
   "cell_type": "code",
   "execution_count": 85,
   "metadata": {},
   "outputs": [],
   "source": [
    "# Calculate the means.\n",
    "beginner_mean = beginner.mean()\n",
    "intermediate_mean = intermediate.mean()\n",
    "advanced_mean = advanced.mean()"
   ]
  },
  {
   "cell_type": "code",
   "execution_count": 86,
   "metadata": {},
   "outputs": [
    {
     "data": {
      "text/plain": [
       "array([26.43334639, 24.00361989, 22.4165156 ])"
      ]
     },
     "execution_count": 86,
     "metadata": {},
     "output_type": "execute_result"
    }
   ],
   "source": [
    "# Y(bar)_i from the formula.\n",
    "Y_i = np.array([beginner_mean, intermediate_mean, advanced_mean])\n",
    "\n",
    "# Show.\n",
    "Y_i"
   ]
  },
  {
   "cell_type": "code",
   "execution_count": 87,
   "metadata": {},
   "outputs": [
    {
     "data": {
      "text/plain": [
       "np.float64(24.28449395964439)"
      ]
     },
     "execution_count": 87,
     "metadata": {},
     "output_type": "execute_result"
    }
   ],
   "source": [
    "# Y(bar) from the formula.\n",
    "Y = np.concatenate([beginner, intermediate, advanced]).mean()\n",
    "\n",
    "# Show.\n",
    "Y\n"
   ]
  },
  {
   "cell_type": "code",
   "execution_count": 88,
   "metadata": {},
   "outputs": [
    {
     "data": {
      "text/plain": [
       "array([ 2.14885243, -0.28087407, -1.86797836])"
      ]
     },
     "execution_count": 88,
     "metadata": {},
     "output_type": "execute_result"
    }
   ],
   "source": [
    "# Before the sum of squares.\n",
    "Y_i - Y"
   ]
  },
  {
   "cell_type": "code",
   "execution_count": 89,
   "metadata": {},
   "outputs": [
    {
     "data": {
      "text/plain": [
       "array([4.61756676, 0.07889024, 3.48934314])"
      ]
     },
     "execution_count": 89,
     "metadata": {},
     "output_type": "execute_result"
    }
   ],
   "source": [
    "# Calculate the sum of squares between.\n",
    "(Y_i - Y)**2"
   ]
  },
  {
   "cell_type": "code",
   "execution_count": 90,
   "metadata": {},
   "outputs": [
    {
     "data": {
      "text/plain": [
       "array([10, 10, 10])"
      ]
     },
     "execution_count": 90,
     "metadata": {},
     "output_type": "execute_result"
    }
   ],
   "source": [
    "# Size of the samples.\n",
    "n_i = np.array([beginner.size, intermediate.size, advanced.size])\n",
    "\n",
    "# Show.\n",
    "n_i"
   ]
  },
  {
   "cell_type": "code",
   "execution_count": 91,
   "metadata": {},
   "outputs": [],
   "source": [
    "# Number of groups.\n",
    "K = 3"
   ]
  },
  {
   "cell_type": "code",
   "execution_count": 92,
   "metadata": {},
   "outputs": [
    {
     "data": {
      "text/plain": [
       "array([46.17566764,  0.78890245, 34.89343141])"
      ]
     },
     "execution_count": 92,
     "metadata": {},
     "output_type": "execute_result"
    }
   ],
   "source": [
    "# From the formula.\n",
    "n_i * (Y_i - Y)**2"
   ]
  },
  {
   "cell_type": "code",
   "execution_count": 93,
   "metadata": {},
   "outputs": [
    {
     "data": {
      "text/plain": [
       "np.float64(81.85800149904571)"
      ]
     },
     "execution_count": 93,
     "metadata": {},
     "output_type": "execute_result"
    }
   ],
   "source": [
    "# From the formula.\n",
    "(n_i * (Y_i - Y)**2).sum()"
   ]
  },
  {
   "cell_type": "code",
   "execution_count": 94,
   "metadata": {},
   "outputs": [
    {
     "data": {
      "text/plain": [
       "np.float64(40.92900074952286)"
      ]
     },
     "execution_count": 94,
     "metadata": {},
     "output_type": "execute_result"
    }
   ],
   "source": [
    "# From the formula.\n",
    "(n_i * (Y_i - Y)**2).sum() / (K - 1)"
   ]
  },
  {
   "cell_type": "code",
   "execution_count": 95,
   "metadata": {},
   "outputs": [],
   "source": [
    "# Numerator.\n",
    "numerator = (n_i * (Y_i - Y)**2).sum() / (K - 1)"
   ]
  },
  {
   "cell_type": "code",
   "execution_count": 96,
   "metadata": {},
   "outputs": [
    {
     "data": {
      "text/plain": [
       "np.int64(30)"
      ]
     },
     "execution_count": 96,
     "metadata": {},
     "output_type": "execute_result"
    }
   ],
   "source": [
    "# The total number of values.\n",
    "N = n_i.sum()\n",
    "\n",
    "# Show.\n",
    "N"
   ]
  },
  {
   "cell_type": "code",
   "execution_count": 97,
   "metadata": {},
   "outputs": [
    {
     "data": {
      "text/plain": [
       "array([ -0.05882222,  -0.47595347,   4.20697537,  -0.86018497,\n",
       "        -2.3339446 ,   2.54161429,  -1.3030277 ,  -3.95715301,\n",
       "        -1.33996345,   3.58045977,  -0.1695863 ,   0.51566215,\n",
       "         3.80059669,  -5.82450875,   2.18314949,   3.91836835,\n",
       "         1.59681006,  -4.84724932,  -0.31461509,  -0.85862729,\n",
       "       -10.42231796,   0.09706569,   0.90479376,   0.03684086,\n",
       "         0.44218653,   2.50076872,   0.19104915,   1.54295384,\n",
       "         6.70683667,  -2.00017723])"
      ]
     },
     "execution_count": 97,
     "metadata": {},
     "output_type": "execute_result"
    }
   ],
   "source": [
    "# From the formula.\n",
    "less_means = np.concatenate([beginner - beginner_mean, intermediate - intermediate_mean, advanced - advanced_mean])\n",
    "\n",
    "# Show.\n",
    "less_means"
   ]
  },
  {
   "cell_type": "code",
   "execution_count": 98,
   "metadata": {},
   "outputs": [
    {
     "data": {
      "text/plain": [
       "np.float64(325.5165850030455)"
      ]
     },
     "execution_count": 98,
     "metadata": {},
     "output_type": "execute_result"
    }
   ],
   "source": [
    "# From the formula.\n",
    "np.sum(less_means**2)"
   ]
  },
  {
   "cell_type": "code",
   "execution_count": 99,
   "metadata": {},
   "outputs": [
    {
     "data": {
      "text/plain": [
       "np.float64(12.056169814927612)"
      ]
     },
     "execution_count": 99,
     "metadata": {},
     "output_type": "execute_result"
    }
   ],
   "source": [
    "# Denominator.\n",
    "denominator = np.sum(less_means**2) / (N - K)\n",
    "\n",
    "# Show.\n",
    "denominator"
   ]
  },
  {
   "cell_type": "code",
   "execution_count": 100,
   "metadata": {},
   "outputs": [
    {
     "data": {
      "text/plain": [
       "np.float64(3.394859344038578)"
      ]
     },
     "execution_count": 100,
     "metadata": {},
     "output_type": "execute_result"
    }
   ],
   "source": [
    "# My F statistic calculation.\n",
    "F = numerator / denominator\n",
    "\n",
    "# Show.\n",
    "F"
   ]
  },
  {
   "cell_type": "code",
   "execution_count": 101,
   "metadata": {},
   "outputs": [
    {
     "data": {
      "text/plain": [
       "F_onewayResult(statistic=np.float64(3.3948593440385886), pvalue=np.float64(0.04839706649455221))"
      ]
     },
     "execution_count": 101,
     "metadata": {},
     "output_type": "execute_result"
    }
   ],
   "source": [
    "# Calculate F using scipy.\n",
    "stats.f_oneway(beginner, intermediate, advanced)"
   ]
  }
 ],
 "metadata": {
  "kernelspec": {
   "display_name": "Python 3",
   "language": "python",
   "name": "python3"
  },
  "language_info": {
   "codemirror_mode": {
    "name": "ipython",
    "version": 3
   },
   "file_extension": ".py",
   "mimetype": "text/x-python",
   "name": "python",
   "nbconvert_exporter": "python",
   "pygments_lexer": "ipython3",
   "version": "3.12.3"
  }
 },
 "nbformat": 4,
 "nbformat_minor": 2
}
