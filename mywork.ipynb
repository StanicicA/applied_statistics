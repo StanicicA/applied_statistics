{
 "cells": [
  {
   "cell_type": "code",
   "execution_count": 32,
   "metadata": {},
   "outputs": [],
   "source": [
    "# Mathematical functions from the standard library.\n",
    "# https://docs.python.org/3/library/math.html\n",
    "import math\n",
    "\n",
    "# Permutations and combinations.\n",
    "# https://docs.python.org/3/library/itertools.html\n",
    "import itertools\n",
    "\n",
    "# Random selections.\n",
    "# https://docs.python.org/3/library/random.html\n",
    "import random\n",
    "\n",
    "# Numerical structures and operations.\n",
    "# https://numpy.org/doc/stable/reference/index.html#reference\n",
    "import numpy as np\n",
    "\n",
    "\n",
    "# Plotting.\n",
    "# https://matplotlib.org/stable/contents.html\n",
    "import matplotlib.pyplot as plt"
   ]
  },
  {
   "cell_type": "markdown",
   "metadata": {},
   "source": [
    "1 2 3 4 5 6 7 8 "
   ]
  },
  {
   "cell_type": "code",
   "execution_count": 33,
   "metadata": {},
   "outputs": [],
   "source": [
    "# Number of cups of tea in total \n",
    "\n",
    "no_cups = 8\n",
    "\n",
    "# Number of cups of tea with milk in first\n",
    "\n",
    "no_cups_milk_first = 4\n",
    "\n",
    "# Number of cups of tea with tea in firstno_cups_tea_first = 4\n",
    "\n",
    "no_cups_tea_first = 4 \n"
   ]
  },
  {
   "cell_type": "code",
   "execution_count": 34,
   "metadata": {},
   "outputs": [
    {
     "data": {
      "text/plain": [
       "70"
      ]
     },
     "execution_count": 34,
     "metadata": {},
     "output_type": "execute_result"
    }
   ],
   "source": [
    "# Number of ways of selecting four cups from eight\n",
    "ways = math.comb (no_cups, no_cups_milk_first)\n",
    "\n",
    "# Show \n",
    "ways\n"
   ]
  },
  {
   "cell_type": "code",
   "execution_count": 35,
   "metadata": {},
   "outputs": [
    {
     "data": {
      "text/plain": [
       "1680"
      ]
     },
     "execution_count": 35,
     "metadata": {},
     "output_type": "execute_result"
    }
   ],
   "source": [
    "# Total number of ways of selecting four cups from eight, keeping them in order.\n",
    "ways_ordered = 8 * 7 * 6 * 5\n",
    "\n",
    "# Show.\n",
    "ways_ordered"
   ]
  },
  {
   "cell_type": "code",
   "execution_count": 36,
   "metadata": {},
   "outputs": [
    {
     "data": {
      "text/plain": [
       "24"
      ]
     },
     "execution_count": 36,
     "metadata": {},
     "output_type": "execute_result"
    }
   ],
   "source": [
    "# No of ways of shuffling four cups\n",
    "no_shuffles = 4 * 3 * 2 * 1\n",
    "\n",
    "# Show.\n",
    "no_shuffles"
   ]
  },
  {
   "cell_type": "code",
   "execution_count": 37,
   "metadata": {},
   "outputs": [
    {
     "data": {
      "text/plain": [
       "70"
      ]
     },
     "execution_count": 37,
     "metadata": {},
     "output_type": "execute_result"
    }
   ],
   "source": [
    "# No of combinations.\n",
    "no_combs = ways_ordered // no_shuffles\n",
    "\n",
    "# Show.\n",
    "no_combs"
   ]
  },
  {
   "cell_type": "code",
   "execution_count": 38,
   "metadata": {},
   "outputs": [],
   "source": [
    "# Number of cups of tea in total.\n",
    "n = 8\n",
    "\n",
    "# Number of cups of tea with milk in first.\n",
    "k = 4"
   ]
  },
  {
   "cell_type": "code",
   "execution_count": 39,
   "metadata": {},
   "outputs": [
    {
     "data": {
      "text/plain": [
       "40320"
      ]
     },
     "execution_count": 39,
     "metadata": {},
     "output_type": "execute_result"
    }
   ],
   "source": [
    "# Eight factorial.\n",
    "math.factorial(n)\n"
   ]
  },
  {
   "cell_type": "code",
   "execution_count": 40,
   "metadata": {},
   "outputs": [
    {
     "data": {
      "text/plain": [
       "24"
      ]
     },
     "execution_count": 40,
     "metadata": {},
     "output_type": "execute_result"
    }
   ],
   "source": [
    "# Four factorial.\n",
    "math.factorial(k)"
   ]
  },
  {
   "cell_type": "code",
   "execution_count": 41,
   "metadata": {},
   "outputs": [
    {
     "data": {
      "text/plain": [
       "24"
      ]
     },
     "execution_count": 41,
     "metadata": {},
     "output_type": "execute_result"
    }
   ],
   "source": [
    "# Four factorial.\n",
    "math.factorial(n - k)\n"
   ]
  },
  {
   "cell_type": "code",
   "execution_count": 42,
   "metadata": {},
   "outputs": [
    {
     "data": {
      "text/plain": [
       "70"
      ]
     },
     "execution_count": 42,
     "metadata": {},
     "output_type": "execute_result"
    }
   ],
   "source": [
    "# No of ways of selecting k objects from n without replacement and without order.\n",
    "math.factorial(n) // (math.factorial(k) * math.factorial(n - k))"
   ]
  },
  {
   "cell_type": "code",
   "execution_count": 43,
   "metadata": {},
   "outputs": [
    {
     "data": {
      "text/plain": [
       "80658175170943878571660636856403766975289505440883277824000000000000"
      ]
     },
     "execution_count": 43,
     "metadata": {},
     "output_type": "execute_result"
    }
   ],
   "source": [
    "# How many ways are there to shuffle a deck of 52 cards?\n",
    "math.factorial(52)"
   ]
  },
  {
   "cell_type": "code",
   "execution_count": 44,
   "metadata": {},
   "outputs": [
    {
     "data": {
      "text/plain": [
       "[0, 1, 2, 3, 4, 5, 6, 7]"
      ]
     },
     "execution_count": 44,
     "metadata": {},
     "output_type": "execute_result"
    }
   ],
   "source": [
    "# The cup labels.\n",
    "labels = list(range(no_cups))\n",
    "\n",
    "# Show.\n",
    "labels"
   ]
  },
  {
   "cell_type": "code",
   "execution_count": 45,
   "metadata": {},
   "outputs": [
    {
     "data": {
      "text/plain": [
       "[(0, 1, 2, 3),\n",
       " (0, 1, 2, 4),\n",
       " (0, 1, 2, 5),\n",
       " (0, 1, 2, 6),\n",
       " (0, 1, 2, 7),\n",
       " (0, 1, 3, 4),\n",
       " (0, 1, 3, 5),\n",
       " (0, 1, 3, 6),\n",
       " (0, 1, 3, 7),\n",
       " (0, 1, 4, 5),\n",
       " (0, 1, 4, 6),\n",
       " (0, 1, 4, 7),\n",
       " (0, 1, 5, 6),\n",
       " (0, 1, 5, 7),\n",
       " (0, 1, 6, 7),\n",
       " (0, 2, 3, 4),\n",
       " (0, 2, 3, 5),\n",
       " (0, 2, 3, 6),\n",
       " (0, 2, 3, 7),\n",
       " (0, 2, 4, 5),\n",
       " (0, 2, 4, 6),\n",
       " (0, 2, 4, 7),\n",
       " (0, 2, 5, 6),\n",
       " (0, 2, 5, 7),\n",
       " (0, 2, 6, 7),\n",
       " (0, 3, 4, 5),\n",
       " (0, 3, 4, 6),\n",
       " (0, 3, 4, 7),\n",
       " (0, 3, 5, 6),\n",
       " (0, 3, 5, 7),\n",
       " (0, 3, 6, 7),\n",
       " (0, 4, 5, 6),\n",
       " (0, 4, 5, 7),\n",
       " (0, 4, 6, 7),\n",
       " (0, 5, 6, 7),\n",
       " (1, 2, 3, 4),\n",
       " (1, 2, 3, 5),\n",
       " (1, 2, 3, 6),\n",
       " (1, 2, 3, 7),\n",
       " (1, 2, 4, 5),\n",
       " (1, 2, 4, 6),\n",
       " (1, 2, 4, 7),\n",
       " (1, 2, 5, 6),\n",
       " (1, 2, 5, 7),\n",
       " (1, 2, 6, 7),\n",
       " (1, 3, 4, 5),\n",
       " (1, 3, 4, 6),\n",
       " (1, 3, 4, 7),\n",
       " (1, 3, 5, 6),\n",
       " (1, 3, 5, 7),\n",
       " (1, 3, 6, 7),\n",
       " (1, 4, 5, 6),\n",
       " (1, 4, 5, 7),\n",
       " (1, 4, 6, 7),\n",
       " (1, 5, 6, 7),\n",
       " (2, 3, 4, 5),\n",
       " (2, 3, 4, 6),\n",
       " (2, 3, 4, 7),\n",
       " (2, 3, 5, 6),\n",
       " (2, 3, 5, 7),\n",
       " (2, 3, 6, 7),\n",
       " (2, 4, 5, 6),\n",
       " (2, 4, 5, 7),\n",
       " (2, 4, 6, 7),\n",
       " (2, 5, 6, 7),\n",
       " (3, 4, 5, 6),\n",
       " (3, 4, 5, 7),\n",
       " (3, 4, 6, 7),\n",
       " (3, 5, 6, 7),\n",
       " (4, 5, 6, 7)]"
      ]
     },
     "execution_count": 45,
     "metadata": {},
     "output_type": "execute_result"
    }
   ],
   "source": [
    "# Show the different ways of selecting no_cups_milk_first out of no_cups cups of tea.\n",
    "combs = list(itertools.combinations(labels, no_cups_milk_first))\n",
    "\n",
    "# Show.\n",
    "combs"
   ]
  },
  {
   "cell_type": "code",
   "execution_count": 46,
   "metadata": {},
   "outputs": [
    {
     "data": {
      "text/plain": [
       "70"
      ]
     },
     "execution_count": 46,
     "metadata": {},
     "output_type": "execute_result"
    }
   ],
   "source": [
    "# Number of combinations.\n",
    "len(combs)"
   ]
  },
  {
   "cell_type": "code",
   "execution_count": 47,
   "metadata": {},
   "outputs": [
    {
     "data": {
      "text/plain": [
       "[2, 3, 4, 7]"
      ]
     },
     "execution_count": 47,
     "metadata": {},
     "output_type": "execute_result"
    }
   ],
   "source": [
    "# Select four cups at random to put milk in first.\n",
    "# https://docs.python.org/3/library/random.html#random.sample\n",
    "labels_milk = random.sample(labels, 4)\n",
    "\n",
    "# Sort, inplace.\n",
    "labels_milk.sort()\n",
    "\n",
    "# Show.\n",
    "labels_milk"
   ]
  },
  {
   "cell_type": "code",
   "execution_count": 48,
   "metadata": {},
   "outputs": [
    {
     "data": {
      "text/plain": [
       "{2, 3, 4, 7}"
      ]
     },
     "execution_count": 48,
     "metadata": {},
     "output_type": "execute_result"
    }
   ],
   "source": [
    "# Turn labels_milk into a set.\n",
    "# Uses: https://docs.python.org/3/tutorial/datastructures.html#sets\n",
    "set(labels_milk)"
   ]
  },
  {
   "cell_type": "code",
   "execution_count": 49,
   "metadata": {},
   "outputs": [
    {
     "name": "stdout",
     "output_type": "stream",
     "text": [
      "(0, 1, 2, 3) {2, 3} 2\n",
      "(0, 1, 2, 4) {2, 4} 2\n",
      "(0, 1, 2, 5) {2} 1\n",
      "(0, 1, 2, 6) {2} 1\n",
      "(0, 1, 2, 7) {2, 7} 2\n",
      "(0, 1, 3, 4) {3, 4} 2\n",
      "(0, 1, 3, 5) {3} 1\n",
      "(0, 1, 3, 6) {3} 1\n",
      "(0, 1, 3, 7) {3, 7} 2\n",
      "(0, 1, 4, 5) {4} 1\n",
      "(0, 1, 4, 6) {4} 1\n",
      "(0, 1, 4, 7) {4, 7} 2\n",
      "(0, 1, 5, 6) set() 0\n",
      "(0, 1, 5, 7) {7} 1\n",
      "(0, 1, 6, 7) {7} 1\n",
      "(0, 2, 3, 4) {2, 3, 4} 3\n",
      "(0, 2, 3, 5) {2, 3} 2\n",
      "(0, 2, 3, 6) {2, 3} 2\n",
      "(0, 2, 3, 7) {2, 3, 7} 3\n",
      "(0, 2, 4, 5) {2, 4} 2\n",
      "(0, 2, 4, 6) {2, 4} 2\n",
      "(0, 2, 4, 7) {2, 4, 7} 3\n",
      "(0, 2, 5, 6) {2} 1\n",
      "(0, 2, 5, 7) {2, 7} 2\n",
      "(0, 2, 6, 7) {2, 7} 2\n",
      "(0, 3, 4, 5) {3, 4} 2\n",
      "(0, 3, 4, 6) {3, 4} 2\n",
      "(0, 3, 4, 7) {3, 4, 7} 3\n",
      "(0, 3, 5, 6) {3} 1\n",
      "(0, 3, 5, 7) {3, 7} 2\n",
      "(0, 3, 6, 7) {3, 7} 2\n",
      "(0, 4, 5, 6) {4} 1\n",
      "(0, 4, 5, 7) {4, 7} 2\n",
      "(0, 4, 6, 7) {4, 7} 2\n",
      "(0, 5, 6, 7) {7} 1\n",
      "(1, 2, 3, 4) {2, 3, 4} 3\n",
      "(1, 2, 3, 5) {2, 3} 2\n",
      "(1, 2, 3, 6) {2, 3} 2\n",
      "(1, 2, 3, 7) {2, 3, 7} 3\n",
      "(1, 2, 4, 5) {2, 4} 2\n",
      "(1, 2, 4, 6) {2, 4} 2\n",
      "(1, 2, 4, 7) {2, 4, 7} 3\n",
      "(1, 2, 5, 6) {2} 1\n",
      "(1, 2, 5, 7) {2, 7} 2\n",
      "(1, 2, 6, 7) {2, 7} 2\n",
      "(1, 3, 4, 5) {3, 4} 2\n",
      "(1, 3, 4, 6) {3, 4} 2\n",
      "(1, 3, 4, 7) {3, 4, 7} 3\n",
      "(1, 3, 5, 6) {3} 1\n",
      "(1, 3, 5, 7) {3, 7} 2\n",
      "(1, 3, 6, 7) {3, 7} 2\n",
      "(1, 4, 5, 6) {4} 1\n",
      "(1, 4, 5, 7) {4, 7} 2\n",
      "(1, 4, 6, 7) {4, 7} 2\n",
      "(1, 5, 6, 7) {7} 1\n",
      "(2, 3, 4, 5) {2, 3, 4} 3\n",
      "(2, 3, 4, 6) {2, 3, 4} 3\n",
      "(2, 3, 4, 7) {2, 3, 4, 7} 4\n",
      "(2, 3, 5, 6) {2, 3} 2\n",
      "(2, 3, 5, 7) {2, 3, 7} 3\n",
      "(2, 3, 6, 7) {2, 3, 7} 3\n",
      "(2, 4, 5, 6) {2, 4} 2\n",
      "(2, 4, 5, 7) {2, 4, 7} 3\n",
      "(2, 4, 6, 7) {2, 4, 7} 3\n",
      "(2, 5, 6, 7) {2, 7} 2\n",
      "(3, 4, 5, 6) {3, 4} 2\n",
      "(3, 4, 5, 7) {3, 4, 7} 3\n",
      "(3, 4, 6, 7) {3, 4, 7} 3\n",
      "(3, 5, 6, 7) {3, 7} 2\n",
      "(4, 5, 6, 7) {4, 7} 2\n"
     ]
    }
   ],
   "source": [
    "# Calculate the overlap between each element of combs and labels_milk.\n",
    "\n",
    "no_overlaps = []\n",
    "\n",
    "for comb in combs:\n",
    "  # Turn comb into a set.\n",
    "  s1 = set(comb)\n",
    "  # Turn labels_milk into a set.\n",
    "  s2 = set(labels_milk)\n",
    "  # Figure out where they overlap.\n",
    "  overlap = s1.intersection(s2)\n",
    "  # Show the combination and the overlap.\n",
    "  print(comb, overlap, len(overlap))\n",
    "  # Append overlap to no_overlaps.\n",
    "  no_overlaps.append(len(overlap))"
   ]
  },
  {
   "cell_type": "code",
   "execution_count": 50,
   "metadata": {},
   "outputs": [
    {
     "name": "stdout",
     "output_type": "stream",
     "text": [
      "[2, 2, 1, 1, 2, 2, 1, 1, 2, 1, 1, 2, 0, 1, 1, 3, 2, 2, 3, 2, 2, 3, 1, 2, 2, 2, 2, 3, 1, 2, 2, 1, 2, 2, 1, 3, 2, 2, 3, 2, 2, 3, 1, 2, 2, 2, 2, 3, 1, 2, 2, 1, 2, 2, 1, 3, 3, 4, 2, 3, 3, 2, 3, 3, 2, 2, 3, 3, 2, 2]\n"
     ]
    }
   ],
   "source": [
    "# Show the overlaps.\n",
    "print(no_overlaps)"
   ]
  },
  {
   "cell_type": "code",
   "execution_count": 51,
   "metadata": {},
   "outputs": [
    {
     "data": {
      "text/plain": [
       "(array([0, 1, 2, 3, 4]), array([ 1, 16, 36, 16,  1]))"
      ]
     },
     "execution_count": 51,
     "metadata": {},
     "output_type": "execute_result"
    }
   ],
   "source": [
    "# Count the number of times each overlap occurs.\n",
    "counts = np.unique(no_overlaps, return_counts=True)\n",
    "\n",
    "# Show.\n",
    "counts"
   ]
  },
  {
   "cell_type": "code",
   "execution_count": 52,
   "metadata": {},
   "outputs": [
    {
     "data": {
      "image/png": "[encoded data removed]",
      "text/plain": [
       "<Figure size 600x400 with 1 Axes>"
      ]
     },
     "metadata": {},
     "output_type": "display_data"
    }
   ],
   "source": [
    "# Create a figure.\n",
    "fig, ax = plt.subplots(figsize=(6, 4))\n",
    "\n",
    "# Bar chart.\n",
    "ax.bar(counts[0], counts[1]);"
   ]
  },
  {
   "cell_type": "code",
   "execution_count": 53,
   "metadata": {},
   "outputs": [
    {
     "data": {
      "text/plain": [
       "0.014285714285714285"
      ]
     },
     "execution_count": 53,
     "metadata": {},
     "output_type": "execute_result"
    }
   ],
   "source": [
    "# The probability that the lady will choose the correct four cups\n",
    "\n",
    "1 / 70"
   ]
  },
  {
   "cell_type": "code",
   "execution_count": 54,
   "metadata": {},
   "outputs": [
    {
     "data": {
      "text/plain": [
       "0.24285714285714285"
      ]
     },
     "execution_count": 54,
     "metadata": {},
     "output_type": "execute_result"
    }
   ],
   "source": [
    "# The probability that she (randomly) selects at least three correct cups.\n",
    "(16 + 1) / 70"
   ]
  },
  {
   "cell_type": "code",
   "execution_count": null,
   "metadata": {},
   "outputs": [],
   "source": []
  },
  {
   "cell_type": "code",
   "execution_count": null,
   "metadata": {},
   "outputs": [],
   "source": []
  }
 ],
 "metadata": {
  "kernelspec": {
   "display_name": "Python 3",
   "language": "python",
   "name": "python3"
  },
  "language_info": {
   "codemirror_mode": {
    "name": "ipython",
    "version": 3
   },
   "file_extension": ".py",
   "mimetype": "text/x-python",
   "name": "python",
   "nbconvert_exporter": "python",
   "pygments_lexer": "ipython3",
   "version": "3.12.3"
  }
 },
 "nbformat": 4,
 "nbformat_minor": 2
}
